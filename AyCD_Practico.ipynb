{
  "nbformat": 4,
  "nbformat_minor": 0,
  "metadata": {
    "colab": {
      "name": "AyCD-Practico.ipynb",
      "provenance": [],
      "collapsed_sections": [
        "c2qVOSsQIXUf",
        "oGI_4tR0IXUz"
      ]
    },
    "kernelspec": {
      "display_name": "Python 3",
      "language": "python",
      "name": "python3"
    },
    "language_info": {
      "codemirror_mode": {
        "name": "ipython",
        "version": 3
      },
      "file_extension": ".py",
      "mimetype": "text/x-python",
      "name": "python",
      "nbconvert_exporter": "python",
      "pygments_lexer": "ipython3",
      "version": "3.7.3"
    }
  },
  "cells": [
    {
      "cell_type": "markdown",
      "metadata": {
        "id": "NGBe5sIRkX7K",
        "colab_type": "text"
      },
      "source": [
        "# Limpieza de datos"
      ]
    },
    {
      "cell_type": "markdown",
      "metadata": {
        "id": "VR-Ju-1JkX7M",
        "colab_type": "text"
      },
      "source": [
        "Vamos a aplicar el [checklist del Banco Mundial](https://dimewiki.worldbank.org/wiki/Checklist:_Data_Cleaning) en Python usando el [SciPy stack](https://www.scipy.org/stackspec.html), principalmente pandas"
      ]
    },
    {
      "cell_type": "markdown",
      "metadata": {
        "colab_type": "text",
        "id": "0Z9ck1e6FMXn"
      },
      "source": [
        "## 0. Prerequisitos"
      ]
    },
    {
      "cell_type": "markdown",
      "metadata": {
        "id": "LW-Ps7rjkX7N",
        "colab_type": "text"
      },
      "source": [
        "Aclaración: La próxima celda es para compatilibidad con Colab, NO ES RECOMENDADO realizar pip install desde un notebook."
      ]
    },
    {
      "cell_type": "code",
      "metadata": {
        "colab_type": "code",
        "id": "53S0ap0UFLRz",
        "colab": {
          "base_uri": "https://localhost:8080/",
          "height": 131
        },
        "outputId": "e30ed390-5809-48d5-dac5-e4f32fd504cb"
      },
      "source": [
        "import sys\n",
        "in_colab = 'google.colab' in sys.modules\n",
        "\n",
        "if in_colab:\n",
        "  BASE_DIR = \"https://github.com/DiploDatos/AnalisisYCuracion/raw/master/\"\n",
        "else:\n",
        "  BASE_DIR = \"..\"\n",
        "if 'ftfy' not in sys.modules:\n",
        "    !pip install 'ftfy<5.6'"
      ],
      "execution_count": 2,
      "outputs": [
        {
          "output_type": "stream",
          "text": [
            "Collecting ftfy<5.6\n",
            "\u001b[?25l  Downloading https://files.pythonhosted.org/packages/8f/86/df789c5834f15ae1ca53a8d4c1fc4788676c2e32112f6a786f2625d9c6e6/ftfy-5.5.1-py3-none-any.whl (43kB)\n",
            "\r\u001b[K     |███████▌                        | 10kB 16.6MB/s eta 0:00:01\r\u001b[K     |███████████████                 | 20kB 1.6MB/s eta 0:00:01\r\u001b[K     |██████████████████████▍         | 30kB 2.1MB/s eta 0:00:01\r\u001b[K     |█████████████████████████████▉  | 40kB 1.6MB/s eta 0:00:01\r\u001b[K     |████████████████████████████████| 51kB 1.6MB/s \n",
            "\u001b[?25hRequirement already satisfied: wcwidth in /usr/local/lib/python3.6/dist-packages (from ftfy<5.6) (0.2.5)\n",
            "Installing collected packages: ftfy\n",
            "Successfully installed ftfy-5.5.1\n"
          ],
          "name": "stdout"
        }
      ]
    },
    {
      "cell_type": "markdown",
      "metadata": {
        "id": "b_G_fp6_kX7T",
        "colab_type": "text"
      },
      "source": [
        "# 1. Importando los datos"
      ]
    },
    {
      "cell_type": "markdown",
      "metadata": {
        "colab_type": "text",
        "id": "uD9wmnXUYStG"
      },
      "source": [
        "# 1.1. Verificar que no hay problemas en la importación"
      ]
    },
    {
      "cell_type": "code",
      "metadata": {
        "colab_type": "code",
        "id": "VYFnOBCKYStI",
        "colab": {}
      },
      "source": [
        "import pandas as pd\n",
        "pd.options.display.float_format = '{:.2f}'.format"
      ],
      "execution_count": null,
      "outputs": []
    },
    {
      "cell_type": "markdown",
      "metadata": {
        "colab_type": "text",
        "id": "0MdlP2YUYStN"
      },
      "source": [
        "Veamos de importar datos de proyectos de Kickstarter la plataforma de Crowdsourcing"
      ]
    },
    {
      "cell_type": "markdown",
      "metadata": {
        "colab_type": "text",
        "id": "Wc9tdkDSYStT"
      },
      "source": [
        "Por defecto Pandas falla si hay errores para leer datos https://pandas.pydata.org/pandas-docs/stable/io.html#error-handling"
      ]
    },
    {
      "cell_type": "markdown",
      "metadata": {
        "id": "6cTfOdgKkX7f",
        "colab_type": "text"
      },
      "source": [
        "Por ahora cambiamos a un archivo más actualizado, volveremos a este error más adelante"
      ]
    },
    {
      "cell_type": "code",
      "metadata": {
        "colab_type": "code",
        "id": "b-_bMXxOYStW",
        "colab": {}
      },
      "source": [
        "kickstarter_2018 = pd.read_csv(BASE_DIR + \"/input/kickstarter-projects/ks-projects-201801.csv\")"
      ],
      "execution_count": null,
      "outputs": []
    },
    {
      "cell_type": "markdown",
      "metadata": {
        "colab_type": "text",
        "id": "2p0dbU1yYStY"
      },
      "source": [
        "Veamos los datos cargados en el dataframe"
      ]
    },
    {
      "cell_type": "code",
      "metadata": {
        "colab_type": "code",
        "id": "etZ09t5MYStZ",
        "colab": {
          "base_uri": "https://localhost:8080/",
          "height": 570
        },
        "outputId": "5c47c863-e01b-429e-e043-8177c771a41f"
      },
      "source": [
        "kickstarter_2018"
      ],
      "execution_count": null,
      "outputs": [
        {
          "output_type": "execute_result",
          "data": {
            "text/html": [
              "<div>\n",
              "<style scoped>\n",
              "    .dataframe tbody tr th:only-of-type {\n",
              "        vertical-align: middle;\n",
              "    }\n",
              "\n",
              "    .dataframe tbody tr th {\n",
              "        vertical-align: top;\n",
              "    }\n",
              "\n",
              "    .dataframe thead th {\n",
              "        text-align: right;\n",
              "    }\n",
              "</style>\n",
              "<table border=\"1\" class=\"dataframe\">\n",
              "  <thead>\n",
              "    <tr style=\"text-align: right;\">\n",
              "      <th></th>\n",
              "      <th>ID</th>\n",
              "      <th>name</th>\n",
              "      <th>category</th>\n",
              "      <th>main_category</th>\n",
              "      <th>currency</th>\n",
              "      <th>deadline</th>\n",
              "      <th>goal</th>\n",
              "      <th>launched</th>\n",
              "      <th>pledged</th>\n",
              "      <th>state</th>\n",
              "      <th>backers</th>\n",
              "      <th>country</th>\n",
              "      <th>usd pledged</th>\n",
              "      <th>usd_pledged_real</th>\n",
              "      <th>usd_goal_real</th>\n",
              "    </tr>\n",
              "  </thead>\n",
              "  <tbody>\n",
              "    <tr>\n",
              "      <th>0</th>\n",
              "      <td>1000002330</td>\n",
              "      <td>The Songs of Adelaide &amp; Abullah</td>\n",
              "      <td>Poetry</td>\n",
              "      <td>Publishing</td>\n",
              "      <td>GBP</td>\n",
              "      <td>2015-10-09</td>\n",
              "      <td>1000.00</td>\n",
              "      <td>2015-08-11 12:12:28</td>\n",
              "      <td>0.00</td>\n",
              "      <td>failed</td>\n",
              "      <td>0</td>\n",
              "      <td>GB</td>\n",
              "      <td>0.00</td>\n",
              "      <td>0.00</td>\n",
              "      <td>1533.95</td>\n",
              "    </tr>\n",
              "    <tr>\n",
              "      <th>1</th>\n",
              "      <td>1000003930</td>\n",
              "      <td>Greeting From Earth: ZGAC Arts Capsule For ET</td>\n",
              "      <td>Narrative Film</td>\n",
              "      <td>Film &amp; Video</td>\n",
              "      <td>USD</td>\n",
              "      <td>2017-11-01</td>\n",
              "      <td>30000.00</td>\n",
              "      <td>2017-09-02 04:43:57</td>\n",
              "      <td>2421.00</td>\n",
              "      <td>failed</td>\n",
              "      <td>15</td>\n",
              "      <td>US</td>\n",
              "      <td>100.00</td>\n",
              "      <td>2421.00</td>\n",
              "      <td>30000.00</td>\n",
              "    </tr>\n",
              "    <tr>\n",
              "      <th>2</th>\n",
              "      <td>1000004038</td>\n",
              "      <td>Where is Hank?</td>\n",
              "      <td>Narrative Film</td>\n",
              "      <td>Film &amp; Video</td>\n",
              "      <td>USD</td>\n",
              "      <td>2013-02-26</td>\n",
              "      <td>45000.00</td>\n",
              "      <td>2013-01-12 00:20:50</td>\n",
              "      <td>220.00</td>\n",
              "      <td>failed</td>\n",
              "      <td>3</td>\n",
              "      <td>US</td>\n",
              "      <td>220.00</td>\n",
              "      <td>220.00</td>\n",
              "      <td>45000.00</td>\n",
              "    </tr>\n",
              "    <tr>\n",
              "      <th>3</th>\n",
              "      <td>1000007540</td>\n",
              "      <td>ToshiCapital Rekordz Needs Help to Complete Album</td>\n",
              "      <td>Music</td>\n",
              "      <td>Music</td>\n",
              "      <td>USD</td>\n",
              "      <td>2012-04-16</td>\n",
              "      <td>5000.00</td>\n",
              "      <td>2012-03-17 03:24:11</td>\n",
              "      <td>1.00</td>\n",
              "      <td>failed</td>\n",
              "      <td>1</td>\n",
              "      <td>US</td>\n",
              "      <td>1.00</td>\n",
              "      <td>1.00</td>\n",
              "      <td>5000.00</td>\n",
              "    </tr>\n",
              "    <tr>\n",
              "      <th>4</th>\n",
              "      <td>1000011046</td>\n",
              "      <td>Community Film Project: The Art of Neighborhoo...</td>\n",
              "      <td>Film &amp; Video</td>\n",
              "      <td>Film &amp; Video</td>\n",
              "      <td>USD</td>\n",
              "      <td>2015-08-29</td>\n",
              "      <td>19500.00</td>\n",
              "      <td>2015-07-04 08:35:03</td>\n",
              "      <td>1283.00</td>\n",
              "      <td>canceled</td>\n",
              "      <td>14</td>\n",
              "      <td>US</td>\n",
              "      <td>1283.00</td>\n",
              "      <td>1283.00</td>\n",
              "      <td>19500.00</td>\n",
              "    </tr>\n",
              "    <tr>\n",
              "      <th>...</th>\n",
              "      <td>...</td>\n",
              "      <td>...</td>\n",
              "      <td>...</td>\n",
              "      <td>...</td>\n",
              "      <td>...</td>\n",
              "      <td>...</td>\n",
              "      <td>...</td>\n",
              "      <td>...</td>\n",
              "      <td>...</td>\n",
              "      <td>...</td>\n",
              "      <td>...</td>\n",
              "      <td>...</td>\n",
              "      <td>...</td>\n",
              "      <td>...</td>\n",
              "      <td>...</td>\n",
              "    </tr>\n",
              "    <tr>\n",
              "      <th>378656</th>\n",
              "      <td>999976400</td>\n",
              "      <td>ChknTruk Nationwide Charity Drive 2014 (Canceled)</td>\n",
              "      <td>Documentary</td>\n",
              "      <td>Film &amp; Video</td>\n",
              "      <td>USD</td>\n",
              "      <td>2014-10-17</td>\n",
              "      <td>50000.00</td>\n",
              "      <td>2014-09-17 02:35:30</td>\n",
              "      <td>25.00</td>\n",
              "      <td>canceled</td>\n",
              "      <td>1</td>\n",
              "      <td>US</td>\n",
              "      <td>25.00</td>\n",
              "      <td>25.00</td>\n",
              "      <td>50000.00</td>\n",
              "    </tr>\n",
              "    <tr>\n",
              "      <th>378657</th>\n",
              "      <td>999977640</td>\n",
              "      <td>The Tribe</td>\n",
              "      <td>Narrative Film</td>\n",
              "      <td>Film &amp; Video</td>\n",
              "      <td>USD</td>\n",
              "      <td>2011-07-19</td>\n",
              "      <td>1500.00</td>\n",
              "      <td>2011-06-22 03:35:14</td>\n",
              "      <td>155.00</td>\n",
              "      <td>failed</td>\n",
              "      <td>5</td>\n",
              "      <td>US</td>\n",
              "      <td>155.00</td>\n",
              "      <td>155.00</td>\n",
              "      <td>1500.00</td>\n",
              "    </tr>\n",
              "    <tr>\n",
              "      <th>378658</th>\n",
              "      <td>999986353</td>\n",
              "      <td>Walls of Remedy- New lesbian Romantic Comedy f...</td>\n",
              "      <td>Narrative Film</td>\n",
              "      <td>Film &amp; Video</td>\n",
              "      <td>USD</td>\n",
              "      <td>2010-08-16</td>\n",
              "      <td>15000.00</td>\n",
              "      <td>2010-07-01 19:40:30</td>\n",
              "      <td>20.00</td>\n",
              "      <td>failed</td>\n",
              "      <td>1</td>\n",
              "      <td>US</td>\n",
              "      <td>20.00</td>\n",
              "      <td>20.00</td>\n",
              "      <td>15000.00</td>\n",
              "    </tr>\n",
              "    <tr>\n",
              "      <th>378659</th>\n",
              "      <td>999987933</td>\n",
              "      <td>BioDefense Education Kit</td>\n",
              "      <td>Technology</td>\n",
              "      <td>Technology</td>\n",
              "      <td>USD</td>\n",
              "      <td>2016-02-13</td>\n",
              "      <td>15000.00</td>\n",
              "      <td>2016-01-13 18:13:53</td>\n",
              "      <td>200.00</td>\n",
              "      <td>failed</td>\n",
              "      <td>6</td>\n",
              "      <td>US</td>\n",
              "      <td>200.00</td>\n",
              "      <td>200.00</td>\n",
              "      <td>15000.00</td>\n",
              "    </tr>\n",
              "    <tr>\n",
              "      <th>378660</th>\n",
              "      <td>999988282</td>\n",
              "      <td>Nou Renmen Ayiti!  We Love Haiti!</td>\n",
              "      <td>Performance Art</td>\n",
              "      <td>Art</td>\n",
              "      <td>USD</td>\n",
              "      <td>2011-08-16</td>\n",
              "      <td>2000.00</td>\n",
              "      <td>2011-07-19 09:07:47</td>\n",
              "      <td>524.00</td>\n",
              "      <td>failed</td>\n",
              "      <td>17</td>\n",
              "      <td>US</td>\n",
              "      <td>524.00</td>\n",
              "      <td>524.00</td>\n",
              "      <td>2000.00</td>\n",
              "    </tr>\n",
              "  </tbody>\n",
              "</table>\n",
              "<p>378661 rows × 15 columns</p>\n",
              "</div>"
            ],
            "text/plain": [
              "                ID  ... usd_goal_real\n",
              "0       1000002330  ...       1533.95\n",
              "1       1000003930  ...      30000.00\n",
              "2       1000004038  ...      45000.00\n",
              "3       1000007540  ...       5000.00\n",
              "4       1000011046  ...      19500.00\n",
              "...            ...  ...           ...\n",
              "378656   999976400  ...      50000.00\n",
              "378657   999977640  ...       1500.00\n",
              "378658   999986353  ...      15000.00\n",
              "378659   999987933  ...      15000.00\n",
              "378660   999988282  ...       2000.00\n",
              "\n",
              "[378661 rows x 15 columns]"
            ]
          },
          "metadata": {
            "tags": []
          },
          "execution_count": 94
        }
      ]
    },
    {
      "cell_type": "markdown",
      "metadata": {
        "colab_type": "text",
        "id": "MFpogEXQYStc"
      },
      "source": [
        "Por defecto solo vemos los valores al comienzo o al final del archivo.\n",
        "\n",
        "Tomemos una muestra al azar para ver valores más dispersos"
      ]
    },
    {
      "cell_type": "code",
      "metadata": {
        "colab_type": "code",
        "id": "Upvlit8QYStd",
        "colab": {}
      },
      "source": [
        "# set seed for reproducibility\n",
        "import numpy as np\n",
        "np.random.seed(0)"
      ],
      "execution_count": null,
      "outputs": []
    },
    {
      "cell_type": "code",
      "metadata": {
        "colab_type": "code",
        "id": "vDQdf2xEYStf",
        "colab": {
          "base_uri": "https://localhost:8080/",
          "height": 288
        },
        "outputId": "8c7106e5-7913-412a-b073-055dd5a1bb34"
      },
      "source": [
        "kickstarter_2018.sample(5)"
      ],
      "execution_count": null,
      "outputs": [
        {
          "output_type": "execute_result",
          "data": {
            "text/html": [
              "<div>\n",
              "<style scoped>\n",
              "    .dataframe tbody tr th:only-of-type {\n",
              "        vertical-align: middle;\n",
              "    }\n",
              "\n",
              "    .dataframe tbody tr th {\n",
              "        vertical-align: top;\n",
              "    }\n",
              "\n",
              "    .dataframe thead th {\n",
              "        text-align: right;\n",
              "    }\n",
              "</style>\n",
              "<table border=\"1\" class=\"dataframe\">\n",
              "  <thead>\n",
              "    <tr style=\"text-align: right;\">\n",
              "      <th></th>\n",
              "      <th>ID</th>\n",
              "      <th>name</th>\n",
              "      <th>category</th>\n",
              "      <th>main_category</th>\n",
              "      <th>currency</th>\n",
              "      <th>deadline</th>\n",
              "      <th>goal</th>\n",
              "      <th>launched</th>\n",
              "      <th>pledged</th>\n",
              "      <th>state</th>\n",
              "      <th>backers</th>\n",
              "      <th>country</th>\n",
              "      <th>usd pledged</th>\n",
              "      <th>usd_pledged_real</th>\n",
              "      <th>usd_goal_real</th>\n",
              "    </tr>\n",
              "  </thead>\n",
              "  <tbody>\n",
              "    <tr>\n",
              "      <th>338862</th>\n",
              "      <td>796196901</td>\n",
              "      <td>10G Christmas Tree</td>\n",
              "      <td>Art</td>\n",
              "      <td>Art</td>\n",
              "      <td>USD</td>\n",
              "      <td>2010-12-26</td>\n",
              "      <td>10526.00</td>\n",
              "      <td>2010-12-08 08:44:04</td>\n",
              "      <td>0.00</td>\n",
              "      <td>failed</td>\n",
              "      <td>0</td>\n",
              "      <td>US</td>\n",
              "      <td>0.00</td>\n",
              "      <td>0.00</td>\n",
              "      <td>10526.00</td>\n",
              "    </tr>\n",
              "    <tr>\n",
              "      <th>277871</th>\n",
              "      <td>483825010</td>\n",
              "      <td>Gliff</td>\n",
              "      <td>Gaming Hardware</td>\n",
              "      <td>Games</td>\n",
              "      <td>USD</td>\n",
              "      <td>2016-03-28</td>\n",
              "      <td>10000.00</td>\n",
              "      <td>2016-01-28 04:56:18</td>\n",
              "      <td>51.00</td>\n",
              "      <td>failed</td>\n",
              "      <td>5</td>\n",
              "      <td>US</td>\n",
              "      <td>51.00</td>\n",
              "      <td>51.00</td>\n",
              "      <td>10000.00</td>\n",
              "    </tr>\n",
              "    <tr>\n",
              "      <th>47000</th>\n",
              "      <td>123916947</td>\n",
              "      <td>STUFFED Food Truck</td>\n",
              "      <td>Food Trucks</td>\n",
              "      <td>Food</td>\n",
              "      <td>USD</td>\n",
              "      <td>2015-01-06</td>\n",
              "      <td>60000.00</td>\n",
              "      <td>2014-11-07 02:24:36</td>\n",
              "      <td>25.00</td>\n",
              "      <td>failed</td>\n",
              "      <td>1</td>\n",
              "      <td>US</td>\n",
              "      <td>25.00</td>\n",
              "      <td>25.00</td>\n",
              "      <td>60000.00</td>\n",
              "    </tr>\n",
              "    <tr>\n",
              "      <th>111338</th>\n",
              "      <td>1565733636</td>\n",
              "      <td>NeoExodus Adventure: Origin of Man for Pathfin...</td>\n",
              "      <td>Tabletop Games</td>\n",
              "      <td>Games</td>\n",
              "      <td>USD</td>\n",
              "      <td>2012-05-01</td>\n",
              "      <td>500.00</td>\n",
              "      <td>2012-03-15 01:16:10</td>\n",
              "      <td>585.00</td>\n",
              "      <td>successful</td>\n",
              "      <td>17</td>\n",
              "      <td>US</td>\n",
              "      <td>585.00</td>\n",
              "      <td>585.00</td>\n",
              "      <td>500.00</td>\n",
              "    </tr>\n",
              "    <tr>\n",
              "      <th>53743</th>\n",
              "      <td>1273544891</td>\n",
              "      <td>NAPOLEON IN NEW YORK! an original TV Series</td>\n",
              "      <td>Comedy</td>\n",
              "      <td>Film &amp; Video</td>\n",
              "      <td>USD</td>\n",
              "      <td>2016-07-26</td>\n",
              "      <td>25000.00</td>\n",
              "      <td>2016-05-27 00:07:25</td>\n",
              "      <td>25.00</td>\n",
              "      <td>failed</td>\n",
              "      <td>1</td>\n",
              "      <td>US</td>\n",
              "      <td>25.00</td>\n",
              "      <td>25.00</td>\n",
              "      <td>25000.00</td>\n",
              "    </tr>\n",
              "  </tbody>\n",
              "</table>\n",
              "</div>"
            ],
            "text/plain": [
              "                ID  ... usd_goal_real\n",
              "338862   796196901  ...      10526.00\n",
              "277871   483825010  ...      10000.00\n",
              "47000    123916947  ...      60000.00\n",
              "111338  1565733636  ...        500.00\n",
              "53743   1273544891  ...      25000.00\n",
              "\n",
              "[5 rows x 15 columns]"
            ]
          },
          "metadata": {
            "tags": []
          },
          "execution_count": 96
        }
      ]
    },
    {
      "cell_type": "markdown",
      "metadata": {
        "colab_type": "text",
        "id": "e-cEmDnQYSti"
      },
      "source": [
        "No se observa a simple vista ningún problema obvio.\n",
        "\n",
        "Notar que todos vimos los mismos resultados. Al fijar la semilla no hubo tal azar, esto es algo necesario cuando queremos \"reproducir valores aleatorios\""
      ]
    },
    {
      "cell_type": "markdown",
      "metadata": {
        "colab_type": "text",
        "id": "O7mBSqudYStj"
      },
      "source": [
        "Veamos la descripción del dataset si se corresponde con lo levantado https://www.kaggle.com/kemical/kickstarter-projects/data"
      ]
    },
    {
      "cell_type": "code",
      "metadata": {
        "colab_type": "code",
        "id": "GMoezCxSYStk",
        "colab": {
          "base_uri": "https://localhost:8080/",
          "height": 478
        },
        "outputId": "a1ccbff0-b883-4562-b095-feea0acd42db"
      },
      "source": [
        "pd.DataFrame([[\"ID\", \"No description provided\", \"Numeric\"],\n",
        "[\"name\", \"No description provided\", \"String\"],\n",
        "[\"category\", \"No description provided\", \"String\"],\n",
        "[\"main_category\", \"No description provided\", \"String\"],\n",
        "[\"currency\", \"No description provided\", \"String\"],\n",
        "[\"deadline\", \"No description provided\", \"DateTime\"],\n",
        "[\"goal\", \"Goal amount in project currency\", \"Numeric\"],\n",
        "[\"launched\", \"No description provided\", \"DateTime\"],\n",
        "[\"pledged\", \"Pledged amount in the project currency\", \"Numeric\"],\n",
        "[\"state\", \"No description provided\", \"String\"],\n",
        "[\"backers\", \"No description provided\", \"Numeric\"],\n",
        "[\"country\", \"No description provided\", \"String\"],\n",
        "[\"usd pledged\", \"Pledged amount in USD (conversion made by KS)\", \"Numeric\"],\n",
        "[\"usd_pledged_real\", \"Pledged amount in USD (conversion made by fixer.io api)\", \"Numeric\"],\n",
        "[\"usd_goal_real\", \"Goal amount in USD\", \"Numeric\"]], columns=[\"Field name\",\"Field description\", \"Type\"])"
      ],
      "execution_count": null,
      "outputs": [
        {
          "output_type": "execute_result",
          "data": {
            "text/html": [
              "<div>\n",
              "<style scoped>\n",
              "    .dataframe tbody tr th:only-of-type {\n",
              "        vertical-align: middle;\n",
              "    }\n",
              "\n",
              "    .dataframe tbody tr th {\n",
              "        vertical-align: top;\n",
              "    }\n",
              "\n",
              "    .dataframe thead th {\n",
              "        text-align: right;\n",
              "    }\n",
              "</style>\n",
              "<table border=\"1\" class=\"dataframe\">\n",
              "  <thead>\n",
              "    <tr style=\"text-align: right;\">\n",
              "      <th></th>\n",
              "      <th>Field name</th>\n",
              "      <th>Field description</th>\n",
              "      <th>Type</th>\n",
              "    </tr>\n",
              "  </thead>\n",
              "  <tbody>\n",
              "    <tr>\n",
              "      <th>0</th>\n",
              "      <td>ID</td>\n",
              "      <td>No description provided</td>\n",
              "      <td>Numeric</td>\n",
              "    </tr>\n",
              "    <tr>\n",
              "      <th>1</th>\n",
              "      <td>name</td>\n",
              "      <td>No description provided</td>\n",
              "      <td>String</td>\n",
              "    </tr>\n",
              "    <tr>\n",
              "      <th>2</th>\n",
              "      <td>category</td>\n",
              "      <td>No description provided</td>\n",
              "      <td>String</td>\n",
              "    </tr>\n",
              "    <tr>\n",
              "      <th>3</th>\n",
              "      <td>main_category</td>\n",
              "      <td>No description provided</td>\n",
              "      <td>String</td>\n",
              "    </tr>\n",
              "    <tr>\n",
              "      <th>4</th>\n",
              "      <td>currency</td>\n",
              "      <td>No description provided</td>\n",
              "      <td>String</td>\n",
              "    </tr>\n",
              "    <tr>\n",
              "      <th>5</th>\n",
              "      <td>deadline</td>\n",
              "      <td>No description provided</td>\n",
              "      <td>DateTime</td>\n",
              "    </tr>\n",
              "    <tr>\n",
              "      <th>6</th>\n",
              "      <td>goal</td>\n",
              "      <td>Goal amount in project currency</td>\n",
              "      <td>Numeric</td>\n",
              "    </tr>\n",
              "    <tr>\n",
              "      <th>7</th>\n",
              "      <td>launched</td>\n",
              "      <td>No description provided</td>\n",
              "      <td>DateTime</td>\n",
              "    </tr>\n",
              "    <tr>\n",
              "      <th>8</th>\n",
              "      <td>pledged</td>\n",
              "      <td>Pledged amount in the project currency</td>\n",
              "      <td>Numeric</td>\n",
              "    </tr>\n",
              "    <tr>\n",
              "      <th>9</th>\n",
              "      <td>state</td>\n",
              "      <td>No description provided</td>\n",
              "      <td>String</td>\n",
              "    </tr>\n",
              "    <tr>\n",
              "      <th>10</th>\n",
              "      <td>backers</td>\n",
              "      <td>No description provided</td>\n",
              "      <td>Numeric</td>\n",
              "    </tr>\n",
              "    <tr>\n",
              "      <th>11</th>\n",
              "      <td>country</td>\n",
              "      <td>No description provided</td>\n",
              "      <td>String</td>\n",
              "    </tr>\n",
              "    <tr>\n",
              "      <th>12</th>\n",
              "      <td>usd pledged</td>\n",
              "      <td>Pledged amount in USD (conversion made by KS)</td>\n",
              "      <td>Numeric</td>\n",
              "    </tr>\n",
              "    <tr>\n",
              "      <th>13</th>\n",
              "      <td>usd_pledged_real</td>\n",
              "      <td>Pledged amount in USD (conversion made by fixe...</td>\n",
              "      <td>Numeric</td>\n",
              "    </tr>\n",
              "    <tr>\n",
              "      <th>14</th>\n",
              "      <td>usd_goal_real</td>\n",
              "      <td>Goal amount in USD</td>\n",
              "      <td>Numeric</td>\n",
              "    </tr>\n",
              "  </tbody>\n",
              "</table>\n",
              "</div>"
            ],
            "text/plain": [
              "          Field name  ...      Type\n",
              "0                 ID  ...   Numeric\n",
              "1               name  ...    String\n",
              "2           category  ...    String\n",
              "3      main_category  ...    String\n",
              "4           currency  ...    String\n",
              "5           deadline  ...  DateTime\n",
              "6               goal  ...   Numeric\n",
              "7           launched  ...  DateTime\n",
              "8            pledged  ...   Numeric\n",
              "9              state  ...    String\n",
              "10           backers  ...   Numeric\n",
              "11           country  ...    String\n",
              "12       usd pledged  ...   Numeric\n",
              "13  usd_pledged_real  ...   Numeric\n",
              "14     usd_goal_real  ...   Numeric\n",
              "\n",
              "[15 rows x 3 columns]"
            ]
          },
          "metadata": {
            "tags": []
          },
          "execution_count": 97
        }
      ]
    },
    {
      "cell_type": "markdown",
      "metadata": {
        "id": "BzeZ_TFqkX72",
        "colab_type": "text"
      },
      "source": [
        "Ahora veamos los tipos de datos que detectó pandas"
      ]
    },
    {
      "cell_type": "code",
      "metadata": {
        "colab_type": "code",
        "id": "kYTfRt4GYStn",
        "colab": {
          "base_uri": "https://localhost:8080/",
          "height": 277
        },
        "outputId": "3ec3c836-c77c-439a-b004-a18b59b975a4"
      },
      "source": [
        "kickstarter_2018.dtypes"
      ],
      "execution_count": null,
      "outputs": [
        {
          "output_type": "execute_result",
          "data": {
            "text/plain": [
              "ID                    int64\n",
              "name                 object\n",
              "category             object\n",
              "main_category        object\n",
              "currency             object\n",
              "deadline             object\n",
              "goal                float64\n",
              "launched             object\n",
              "pledged             float64\n",
              "state                object\n",
              "backers               int64\n",
              "country              object\n",
              "usd pledged         float64\n",
              "usd_pledged_real    float64\n",
              "usd_goal_real       float64\n",
              "dtype: object"
            ]
          },
          "metadata": {
            "tags": []
          },
          "execution_count": 98
        }
      ]
    },
    {
      "cell_type": "markdown",
      "metadata": {
        "colab_type": "text",
        "id": "9mmqjlyoYStq"
      },
      "source": [
        "Los campos object generalmente son String, entonces parece que no reconoció como fechas en **deadline** y **launched** :("
      ]
    },
    {
      "cell_type": "markdown",
      "metadata": {
        "colab_type": "text",
        "id": "tovZm0SrYStq"
      },
      "source": [
        "Veamos los datos un resumen de los datos"
      ]
    },
    {
      "cell_type": "code",
      "metadata": {
        "colab_type": "code",
        "id": "rJYD_yW5YStr",
        "colab": {
          "base_uri": "https://localhost:8080/",
          "height": 277
        },
        "outputId": "eefeef3a-62ec-4697-b66c-5c00443ff2f4"
      },
      "source": [
        "kickstarter_2018.describe()"
      ],
      "execution_count": null,
      "outputs": [
        {
          "output_type": "execute_result",
          "data": {
            "text/html": [
              "<div>\n",
              "<style scoped>\n",
              "    .dataframe tbody tr th:only-of-type {\n",
              "        vertical-align: middle;\n",
              "    }\n",
              "\n",
              "    .dataframe tbody tr th {\n",
              "        vertical-align: top;\n",
              "    }\n",
              "\n",
              "    .dataframe thead th {\n",
              "        text-align: right;\n",
              "    }\n",
              "</style>\n",
              "<table border=\"1\" class=\"dataframe\">\n",
              "  <thead>\n",
              "    <tr style=\"text-align: right;\">\n",
              "      <th></th>\n",
              "      <th>ID</th>\n",
              "      <th>goal</th>\n",
              "      <th>pledged</th>\n",
              "      <th>backers</th>\n",
              "      <th>usd pledged</th>\n",
              "      <th>usd_pledged_real</th>\n",
              "      <th>usd_goal_real</th>\n",
              "    </tr>\n",
              "  </thead>\n",
              "  <tbody>\n",
              "    <tr>\n",
              "      <th>count</th>\n",
              "      <td>378661.00</td>\n",
              "      <td>378661.00</td>\n",
              "      <td>378661.00</td>\n",
              "      <td>378661.00</td>\n",
              "      <td>374864.00</td>\n",
              "      <td>378661.00</td>\n",
              "      <td>378661.00</td>\n",
              "    </tr>\n",
              "    <tr>\n",
              "      <th>mean</th>\n",
              "      <td>1074731191.99</td>\n",
              "      <td>49080.79</td>\n",
              "      <td>9682.98</td>\n",
              "      <td>105.62</td>\n",
              "      <td>7036.73</td>\n",
              "      <td>9058.92</td>\n",
              "      <td>45454.40</td>\n",
              "    </tr>\n",
              "    <tr>\n",
              "      <th>std</th>\n",
              "      <td>619086204.32</td>\n",
              "      <td>1183391.26</td>\n",
              "      <td>95636.01</td>\n",
              "      <td>907.19</td>\n",
              "      <td>78639.75</td>\n",
              "      <td>90973.34</td>\n",
              "      <td>1152950.06</td>\n",
              "    </tr>\n",
              "    <tr>\n",
              "      <th>min</th>\n",
              "      <td>5971.00</td>\n",
              "      <td>0.01</td>\n",
              "      <td>0.00</td>\n",
              "      <td>0.00</td>\n",
              "      <td>0.00</td>\n",
              "      <td>0.00</td>\n",
              "      <td>0.01</td>\n",
              "    </tr>\n",
              "    <tr>\n",
              "      <th>25%</th>\n",
              "      <td>538263516.00</td>\n",
              "      <td>2000.00</td>\n",
              "      <td>30.00</td>\n",
              "      <td>2.00</td>\n",
              "      <td>16.98</td>\n",
              "      <td>31.00</td>\n",
              "      <td>2000.00</td>\n",
              "    </tr>\n",
              "    <tr>\n",
              "      <th>50%</th>\n",
              "      <td>1075275634.00</td>\n",
              "      <td>5200.00</td>\n",
              "      <td>620.00</td>\n",
              "      <td>12.00</td>\n",
              "      <td>394.72</td>\n",
              "      <td>624.33</td>\n",
              "      <td>5500.00</td>\n",
              "    </tr>\n",
              "    <tr>\n",
              "      <th>75%</th>\n",
              "      <td>1610148624.00</td>\n",
              "      <td>16000.00</td>\n",
              "      <td>4076.00</td>\n",
              "      <td>56.00</td>\n",
              "      <td>3034.09</td>\n",
              "      <td>4050.00</td>\n",
              "      <td>15500.00</td>\n",
              "    </tr>\n",
              "    <tr>\n",
              "      <th>max</th>\n",
              "      <td>2147476221.00</td>\n",
              "      <td>100000000.00</td>\n",
              "      <td>20338986.27</td>\n",
              "      <td>219382.00</td>\n",
              "      <td>20338986.27</td>\n",
              "      <td>20338986.27</td>\n",
              "      <td>166361390.71</td>\n",
              "    </tr>\n",
              "  </tbody>\n",
              "</table>\n",
              "</div>"
            ],
            "text/plain": [
              "                 ID         goal  ...  usd_pledged_real  usd_goal_real\n",
              "count     378661.00    378661.00  ...         378661.00      378661.00\n",
              "mean  1074731191.99     49080.79  ...           9058.92       45454.40\n",
              "std    619086204.32   1183391.26  ...          90973.34     1152950.06\n",
              "min         5971.00         0.01  ...              0.00           0.01\n",
              "25%    538263516.00      2000.00  ...             31.00        2000.00\n",
              "50%   1075275634.00      5200.00  ...            624.33        5500.00\n",
              "75%   1610148624.00     16000.00  ...           4050.00       15500.00\n",
              "max   2147476221.00 100000000.00  ...       20338986.27   166361390.71\n",
              "\n",
              "[8 rows x 7 columns]"
            ]
          },
          "metadata": {
            "tags": []
          },
          "execution_count": 99
        }
      ]
    },
    {
      "cell_type": "markdown",
      "metadata": {
        "colab_type": "text",
        "id": "JE0dlfRdYStv"
      },
      "source": [
        "Por defecto se ven los datos numéricos, veamos el resto."
      ]
    },
    {
      "cell_type": "code",
      "metadata": {
        "colab_type": "code",
        "id": "F3vOZk3zYStw",
        "colab": {
          "base_uri": "https://localhost:8080/",
          "height": 162
        },
        "outputId": "7ac2b95d-de49-4d3e-9a8b-ef2fa6caba93"
      },
      "source": [
        "kickstarter_2018.describe(include=['object'])"
      ],
      "execution_count": null,
      "outputs": [
        {
          "output_type": "execute_result",
          "data": {
            "text/html": [
              "<div>\n",
              "<style scoped>\n",
              "    .dataframe tbody tr th:only-of-type {\n",
              "        vertical-align: middle;\n",
              "    }\n",
              "\n",
              "    .dataframe tbody tr th {\n",
              "        vertical-align: top;\n",
              "    }\n",
              "\n",
              "    .dataframe thead th {\n",
              "        text-align: right;\n",
              "    }\n",
              "</style>\n",
              "<table border=\"1\" class=\"dataframe\">\n",
              "  <thead>\n",
              "    <tr style=\"text-align: right;\">\n",
              "      <th></th>\n",
              "      <th>name</th>\n",
              "      <th>category</th>\n",
              "      <th>main_category</th>\n",
              "      <th>currency</th>\n",
              "      <th>deadline</th>\n",
              "      <th>launched</th>\n",
              "      <th>state</th>\n",
              "      <th>country</th>\n",
              "    </tr>\n",
              "  </thead>\n",
              "  <tbody>\n",
              "    <tr>\n",
              "      <th>count</th>\n",
              "      <td>378657</td>\n",
              "      <td>378661</td>\n",
              "      <td>378661</td>\n",
              "      <td>378661</td>\n",
              "      <td>378661</td>\n",
              "      <td>378661</td>\n",
              "      <td>378661</td>\n",
              "      <td>378661</td>\n",
              "    </tr>\n",
              "    <tr>\n",
              "      <th>unique</th>\n",
              "      <td>375764</td>\n",
              "      <td>159</td>\n",
              "      <td>15</td>\n",
              "      <td>14</td>\n",
              "      <td>3164</td>\n",
              "      <td>378089</td>\n",
              "      <td>6</td>\n",
              "      <td>23</td>\n",
              "    </tr>\n",
              "    <tr>\n",
              "      <th>top</th>\n",
              "      <td>New EP/Music Development</td>\n",
              "      <td>Product Design</td>\n",
              "      <td>Film &amp; Video</td>\n",
              "      <td>USD</td>\n",
              "      <td>2014-08-08</td>\n",
              "      <td>1970-01-01 01:00:00</td>\n",
              "      <td>failed</td>\n",
              "      <td>US</td>\n",
              "    </tr>\n",
              "    <tr>\n",
              "      <th>freq</th>\n",
              "      <td>41</td>\n",
              "      <td>22314</td>\n",
              "      <td>63585</td>\n",
              "      <td>295365</td>\n",
              "      <td>705</td>\n",
              "      <td>7</td>\n",
              "      <td>197719</td>\n",
              "      <td>292627</td>\n",
              "    </tr>\n",
              "  </tbody>\n",
              "</table>\n",
              "</div>"
            ],
            "text/plain": [
              "                            name        category  ...   state country\n",
              "count                     378657          378661  ...  378661  378661\n",
              "unique                    375764             159  ...       6      23\n",
              "top     New EP/Music Development  Product Design  ...  failed      US\n",
              "freq                          41           22314  ...  197719  292627\n",
              "\n",
              "[4 rows x 8 columns]"
            ]
          },
          "metadata": {
            "tags": []
          },
          "execution_count": 100
        }
      ]
    },
    {
      "cell_type": "markdown",
      "metadata": {
        "colab_type": "text",
        "id": "ql55gxdOYStz"
      },
      "source": [
        "Operemos un cacho sobre los datos de lanzamiento"
      ]
    },
    {
      "cell_type": "code",
      "metadata": {
        "colab_type": "code",
        "id": "lWP5PHJdYSt0",
        "colab": {
          "base_uri": "https://localhost:8080/",
          "height": 35
        },
        "outputId": "e88d7877-2735-4509-c832-6738e3a97ca8"
      },
      "source": [
        "kickstarter_2018['launched'].min()"
      ],
      "execution_count": null,
      "outputs": [
        {
          "output_type": "execute_result",
          "data": {
            "application/vnd.google.colaboratory.intrinsic+json": {
              "type": "string"
            },
            "text/plain": [
              "'1970-01-01 01:00:00'"
            ]
          },
          "metadata": {
            "tags": []
          },
          "execution_count": 101
        }
      ]
    },
    {
      "cell_type": "markdown",
      "metadata": {
        "colab_type": "text",
        "id": "lBuefqnNYSt3"
      },
      "source": [
        "Parece funcionar, pero ahora calculemos el rango de fechas de los proyectos"
      ]
    },
    {
      "cell_type": "markdown",
      "metadata": {
        "colab_type": "text",
        "id": "29NhQ8eEYSt9"
      },
      "source": [
        "Indiquemos que columnas son fechas como indica la [documentación](https://pandas.pydata.org/pandas-docs/stable/io.html#datetime-handling)"
      ]
    },
    {
      "cell_type": "code",
      "metadata": {
        "colab_type": "code",
        "id": "8Y21tDSYYSt_",
        "colab": {
          "base_uri": "https://localhost:8080/",
          "height": 277
        },
        "outputId": "781978da-4c11-4294-8bfb-409dafe9e9b9"
      },
      "source": [
        "kickstarter_2018 = pd.read_csv(BASE_DIR + \"/input/kickstarter-projects/ks-projects-201801.csv\", \n",
        "                               parse_dates=[\"deadline\",\"launched\"])\n",
        "kickstarter_2018.dtypes"
      ],
      "execution_count": null,
      "outputs": [
        {
          "output_type": "execute_result",
          "data": {
            "text/plain": [
              "ID                           int64\n",
              "name                        object\n",
              "category                    object\n",
              "main_category               object\n",
              "currency                    object\n",
              "deadline            datetime64[ns]\n",
              "goal                       float64\n",
              "launched            datetime64[ns]\n",
              "pledged                    float64\n",
              "state                       object\n",
              "backers                      int64\n",
              "country                     object\n",
              "usd pledged                float64\n",
              "usd_pledged_real           float64\n",
              "usd_goal_real              float64\n",
              "dtype: object"
            ]
          },
          "metadata": {
            "tags": []
          },
          "execution_count": 102
        }
      ]
    },
    {
      "cell_type": "markdown",
      "metadata": {
        "colab_type": "text",
        "id": "qKtgnTnYYSuD"
      },
      "source": [
        "Ahora vemos que esas columnas fueron reconocidas como fechas\n",
        "\n",
        "Veamos la misma muestra de nuevo"
      ]
    },
    {
      "cell_type": "code",
      "metadata": {
        "colab_type": "code",
        "id": "PW04V4DiYSuF",
        "colab": {
          "base_uri": "https://localhost:8080/",
          "height": 288
        },
        "outputId": "df457b9c-add6-4dae-fd80-9c5c5c8ee834"
      },
      "source": [
        "kickstarter_2018.sample(5)"
      ],
      "execution_count": null,
      "outputs": [
        {
          "output_type": "execute_result",
          "data": {
            "text/html": [
              "<div>\n",
              "<style scoped>\n",
              "    .dataframe tbody tr th:only-of-type {\n",
              "        vertical-align: middle;\n",
              "    }\n",
              "\n",
              "    .dataframe tbody tr th {\n",
              "        vertical-align: top;\n",
              "    }\n",
              "\n",
              "    .dataframe thead th {\n",
              "        text-align: right;\n",
              "    }\n",
              "</style>\n",
              "<table border=\"1\" class=\"dataframe\">\n",
              "  <thead>\n",
              "    <tr style=\"text-align: right;\">\n",
              "      <th></th>\n",
              "      <th>ID</th>\n",
              "      <th>name</th>\n",
              "      <th>category</th>\n",
              "      <th>main_category</th>\n",
              "      <th>currency</th>\n",
              "      <th>deadline</th>\n",
              "      <th>goal</th>\n",
              "      <th>launched</th>\n",
              "      <th>pledged</th>\n",
              "      <th>state</th>\n",
              "      <th>backers</th>\n",
              "      <th>country</th>\n",
              "      <th>usd pledged</th>\n",
              "      <th>usd_pledged_real</th>\n",
              "      <th>usd_goal_real</th>\n",
              "    </tr>\n",
              "  </thead>\n",
              "  <tbody>\n",
              "    <tr>\n",
              "      <th>299667</th>\n",
              "      <td>595962034</td>\n",
              "      <td>Button Poetry Live!</td>\n",
              "      <td>Mixed Media</td>\n",
              "      <td>Art</td>\n",
              "      <td>USD</td>\n",
              "      <td>2015-09-18</td>\n",
              "      <td>10000.00</td>\n",
              "      <td>2015-08-19 19:34:20</td>\n",
              "      <td>18216.27</td>\n",
              "      <td>successful</td>\n",
              "      <td>455</td>\n",
              "      <td>US</td>\n",
              "      <td>18216.27</td>\n",
              "      <td>18216.27</td>\n",
              "      <td>10000.00</td>\n",
              "    </tr>\n",
              "    <tr>\n",
              "      <th>181674</th>\n",
              "      <td>1924707671</td>\n",
              "      <td>C STREET 2012 : Tbilisi, Georgia</td>\n",
              "      <td>World Music</td>\n",
              "      <td>Music</td>\n",
              "      <td>USD</td>\n",
              "      <td>2012-06-07</td>\n",
              "      <td>5000.00</td>\n",
              "      <td>2012-05-08 18:22:59</td>\n",
              "      <td>7210.69</td>\n",
              "      <td>successful</td>\n",
              "      <td>82</td>\n",
              "      <td>US</td>\n",
              "      <td>7210.69</td>\n",
              "      <td>7210.69</td>\n",
              "      <td>5000.00</td>\n",
              "    </tr>\n",
              "    <tr>\n",
              "      <th>137583</th>\n",
              "      <td>1698707842</td>\n",
              "      <td>Dérive's Next Project</td>\n",
              "      <td>Punk</td>\n",
              "      <td>Music</td>\n",
              "      <td>USD</td>\n",
              "      <td>2014-07-06</td>\n",
              "      <td>1200.00</td>\n",
              "      <td>2014-06-08 17:58:37</td>\n",
              "      <td>1255.66</td>\n",
              "      <td>successful</td>\n",
              "      <td>33</td>\n",
              "      <td>US</td>\n",
              "      <td>1255.66</td>\n",
              "      <td>1255.66</td>\n",
              "      <td>1200.00</td>\n",
              "    </tr>\n",
              "    <tr>\n",
              "      <th>296861</th>\n",
              "      <td>581269566</td>\n",
              "      <td>Photo Book - World Santa Claus Congress</td>\n",
              "      <td>Photobooks</td>\n",
              "      <td>Photography</td>\n",
              "      <td>DKK</td>\n",
              "      <td>2017-04-14</td>\n",
              "      <td>110000.00</td>\n",
              "      <td>2017-03-14 23:45:35</td>\n",
              "      <td>462.00</td>\n",
              "      <td>failed</td>\n",
              "      <td>5</td>\n",
              "      <td>DK</td>\n",
              "      <td>0.00</td>\n",
              "      <td>66.46</td>\n",
              "      <td>15823.47</td>\n",
              "    </tr>\n",
              "    <tr>\n",
              "      <th>66362</th>\n",
              "      <td>1337585114</td>\n",
              "      <td>Kickstart CLE Brewing to greatness!</td>\n",
              "      <td>Drinks</td>\n",
              "      <td>Food</td>\n",
              "      <td>USD</td>\n",
              "      <td>2017-08-19</td>\n",
              "      <td>6500.00</td>\n",
              "      <td>2017-07-20 21:22:43</td>\n",
              "      <td>250.00</td>\n",
              "      <td>failed</td>\n",
              "      <td>5</td>\n",
              "      <td>US</td>\n",
              "      <td>75.00</td>\n",
              "      <td>250.00</td>\n",
              "      <td>6500.00</td>\n",
              "    </tr>\n",
              "  </tbody>\n",
              "</table>\n",
              "</div>"
            ],
            "text/plain": [
              "                ID  ... usd_goal_real\n",
              "299667   595962034  ...      10000.00\n",
              "181674  1924707671  ...       5000.00\n",
              "137583  1698707842  ...       1200.00\n",
              "296861   581269566  ...      15823.47\n",
              "66362   1337585114  ...       6500.00\n",
              "\n",
              "[5 rows x 15 columns]"
            ]
          },
          "metadata": {
            "tags": []
          },
          "execution_count": 103
        }
      ]
    },
    {
      "cell_type": "markdown",
      "metadata": {
        "colab_type": "text",
        "id": "yizWLJJ6YSuI"
      },
      "source": [
        "Y veamos el resumen de los datos"
      ]
    },
    {
      "cell_type": "code",
      "metadata": {
        "colab_type": "code",
        "id": "2PAmAj3XYSuJ",
        "colab": {
          "base_uri": "https://localhost:8080/",
          "height": 486
        },
        "outputId": "10c06da3-3161-47ce-cf49-61fc8aeab011"
      },
      "source": [
        "kickstarter_2018.describe(include='all')"
      ],
      "execution_count": null,
      "outputs": [
        {
          "output_type": "execute_result",
          "data": {
            "text/html": [
              "<div>\n",
              "<style scoped>\n",
              "    .dataframe tbody tr th:only-of-type {\n",
              "        vertical-align: middle;\n",
              "    }\n",
              "\n",
              "    .dataframe tbody tr th {\n",
              "        vertical-align: top;\n",
              "    }\n",
              "\n",
              "    .dataframe thead th {\n",
              "        text-align: right;\n",
              "    }\n",
              "</style>\n",
              "<table border=\"1\" class=\"dataframe\">\n",
              "  <thead>\n",
              "    <tr style=\"text-align: right;\">\n",
              "      <th></th>\n",
              "      <th>ID</th>\n",
              "      <th>name</th>\n",
              "      <th>category</th>\n",
              "      <th>main_category</th>\n",
              "      <th>currency</th>\n",
              "      <th>deadline</th>\n",
              "      <th>goal</th>\n",
              "      <th>launched</th>\n",
              "      <th>pledged</th>\n",
              "      <th>state</th>\n",
              "      <th>backers</th>\n",
              "      <th>country</th>\n",
              "      <th>usd pledged</th>\n",
              "      <th>usd_pledged_real</th>\n",
              "      <th>usd_goal_real</th>\n",
              "    </tr>\n",
              "  </thead>\n",
              "  <tbody>\n",
              "    <tr>\n",
              "      <th>count</th>\n",
              "      <td>378661.00</td>\n",
              "      <td>378657</td>\n",
              "      <td>378661</td>\n",
              "      <td>378661</td>\n",
              "      <td>378661</td>\n",
              "      <td>378661</td>\n",
              "      <td>378661.00</td>\n",
              "      <td>378661</td>\n",
              "      <td>378661.00</td>\n",
              "      <td>378661</td>\n",
              "      <td>378661.00</td>\n",
              "      <td>378661</td>\n",
              "      <td>374864.00</td>\n",
              "      <td>378661.00</td>\n",
              "      <td>378661.00</td>\n",
              "    </tr>\n",
              "    <tr>\n",
              "      <th>unique</th>\n",
              "      <td>nan</td>\n",
              "      <td>375764</td>\n",
              "      <td>159</td>\n",
              "      <td>15</td>\n",
              "      <td>14</td>\n",
              "      <td>3164</td>\n",
              "      <td>nan</td>\n",
              "      <td>378089</td>\n",
              "      <td>nan</td>\n",
              "      <td>6</td>\n",
              "      <td>nan</td>\n",
              "      <td>23</td>\n",
              "      <td>nan</td>\n",
              "      <td>nan</td>\n",
              "      <td>nan</td>\n",
              "    </tr>\n",
              "    <tr>\n",
              "      <th>top</th>\n",
              "      <td>nan</td>\n",
              "      <td>New EP/Music Development</td>\n",
              "      <td>Product Design</td>\n",
              "      <td>Film &amp; Video</td>\n",
              "      <td>USD</td>\n",
              "      <td>2014-08-08 00:00:00</td>\n",
              "      <td>nan</td>\n",
              "      <td>1970-01-01 01:00:00</td>\n",
              "      <td>nan</td>\n",
              "      <td>failed</td>\n",
              "      <td>nan</td>\n",
              "      <td>US</td>\n",
              "      <td>nan</td>\n",
              "      <td>nan</td>\n",
              "      <td>nan</td>\n",
              "    </tr>\n",
              "    <tr>\n",
              "      <th>freq</th>\n",
              "      <td>nan</td>\n",
              "      <td>41</td>\n",
              "      <td>22314</td>\n",
              "      <td>63585</td>\n",
              "      <td>295365</td>\n",
              "      <td>705</td>\n",
              "      <td>nan</td>\n",
              "      <td>7</td>\n",
              "      <td>nan</td>\n",
              "      <td>197719</td>\n",
              "      <td>nan</td>\n",
              "      <td>292627</td>\n",
              "      <td>nan</td>\n",
              "      <td>nan</td>\n",
              "      <td>nan</td>\n",
              "    </tr>\n",
              "    <tr>\n",
              "      <th>first</th>\n",
              "      <td>nan</td>\n",
              "      <td>NaN</td>\n",
              "      <td>NaN</td>\n",
              "      <td>NaN</td>\n",
              "      <td>NaN</td>\n",
              "      <td>2009-05-03 00:00:00</td>\n",
              "      <td>nan</td>\n",
              "      <td>1970-01-01 01:00:00</td>\n",
              "      <td>nan</td>\n",
              "      <td>NaN</td>\n",
              "      <td>nan</td>\n",
              "      <td>NaN</td>\n",
              "      <td>nan</td>\n",
              "      <td>nan</td>\n",
              "      <td>nan</td>\n",
              "    </tr>\n",
              "    <tr>\n",
              "      <th>last</th>\n",
              "      <td>nan</td>\n",
              "      <td>NaN</td>\n",
              "      <td>NaN</td>\n",
              "      <td>NaN</td>\n",
              "      <td>NaN</td>\n",
              "      <td>2018-03-03 00:00:00</td>\n",
              "      <td>nan</td>\n",
              "      <td>2018-01-02 15:02:31</td>\n",
              "      <td>nan</td>\n",
              "      <td>NaN</td>\n",
              "      <td>nan</td>\n",
              "      <td>NaN</td>\n",
              "      <td>nan</td>\n",
              "      <td>nan</td>\n",
              "      <td>nan</td>\n",
              "    </tr>\n",
              "    <tr>\n",
              "      <th>mean</th>\n",
              "      <td>1074731191.99</td>\n",
              "      <td>NaN</td>\n",
              "      <td>NaN</td>\n",
              "      <td>NaN</td>\n",
              "      <td>NaN</td>\n",
              "      <td>NaN</td>\n",
              "      <td>49080.79</td>\n",
              "      <td>NaN</td>\n",
              "      <td>9682.98</td>\n",
              "      <td>NaN</td>\n",
              "      <td>105.62</td>\n",
              "      <td>NaN</td>\n",
              "      <td>7036.73</td>\n",
              "      <td>9058.92</td>\n",
              "      <td>45454.40</td>\n",
              "    </tr>\n",
              "    <tr>\n",
              "      <th>std</th>\n",
              "      <td>619086204.32</td>\n",
              "      <td>NaN</td>\n",
              "      <td>NaN</td>\n",
              "      <td>NaN</td>\n",
              "      <td>NaN</td>\n",
              "      <td>NaN</td>\n",
              "      <td>1183391.26</td>\n",
              "      <td>NaN</td>\n",
              "      <td>95636.01</td>\n",
              "      <td>NaN</td>\n",
              "      <td>907.19</td>\n",
              "      <td>NaN</td>\n",
              "      <td>78639.75</td>\n",
              "      <td>90973.34</td>\n",
              "      <td>1152950.06</td>\n",
              "    </tr>\n",
              "    <tr>\n",
              "      <th>min</th>\n",
              "      <td>5971.00</td>\n",
              "      <td>NaN</td>\n",
              "      <td>NaN</td>\n",
              "      <td>NaN</td>\n",
              "      <td>NaN</td>\n",
              "      <td>NaN</td>\n",
              "      <td>0.01</td>\n",
              "      <td>NaN</td>\n",
              "      <td>0.00</td>\n",
              "      <td>NaN</td>\n",
              "      <td>0.00</td>\n",
              "      <td>NaN</td>\n",
              "      <td>0.00</td>\n",
              "      <td>0.00</td>\n",
              "      <td>0.01</td>\n",
              "    </tr>\n",
              "    <tr>\n",
              "      <th>25%</th>\n",
              "      <td>538263516.00</td>\n",
              "      <td>NaN</td>\n",
              "      <td>NaN</td>\n",
              "      <td>NaN</td>\n",
              "      <td>NaN</td>\n",
              "      <td>NaN</td>\n",
              "      <td>2000.00</td>\n",
              "      <td>NaN</td>\n",
              "      <td>30.00</td>\n",
              "      <td>NaN</td>\n",
              "      <td>2.00</td>\n",
              "      <td>NaN</td>\n",
              "      <td>16.98</td>\n",
              "      <td>31.00</td>\n",
              "      <td>2000.00</td>\n",
              "    </tr>\n",
              "    <tr>\n",
              "      <th>50%</th>\n",
              "      <td>1075275634.00</td>\n",
              "      <td>NaN</td>\n",
              "      <td>NaN</td>\n",
              "      <td>NaN</td>\n",
              "      <td>NaN</td>\n",
              "      <td>NaN</td>\n",
              "      <td>5200.00</td>\n",
              "      <td>NaN</td>\n",
              "      <td>620.00</td>\n",
              "      <td>NaN</td>\n",
              "      <td>12.00</td>\n",
              "      <td>NaN</td>\n",
              "      <td>394.72</td>\n",
              "      <td>624.33</td>\n",
              "      <td>5500.00</td>\n",
              "    </tr>\n",
              "    <tr>\n",
              "      <th>75%</th>\n",
              "      <td>1610148624.00</td>\n",
              "      <td>NaN</td>\n",
              "      <td>NaN</td>\n",
              "      <td>NaN</td>\n",
              "      <td>NaN</td>\n",
              "      <td>NaN</td>\n",
              "      <td>16000.00</td>\n",
              "      <td>NaN</td>\n",
              "      <td>4076.00</td>\n",
              "      <td>NaN</td>\n",
              "      <td>56.00</td>\n",
              "      <td>NaN</td>\n",
              "      <td>3034.09</td>\n",
              "      <td>4050.00</td>\n",
              "      <td>15500.00</td>\n",
              "    </tr>\n",
              "    <tr>\n",
              "      <th>max</th>\n",
              "      <td>2147476221.00</td>\n",
              "      <td>NaN</td>\n",
              "      <td>NaN</td>\n",
              "      <td>NaN</td>\n",
              "      <td>NaN</td>\n",
              "      <td>NaN</td>\n",
              "      <td>100000000.00</td>\n",
              "      <td>NaN</td>\n",
              "      <td>20338986.27</td>\n",
              "      <td>NaN</td>\n",
              "      <td>219382.00</td>\n",
              "      <td>NaN</td>\n",
              "      <td>20338986.27</td>\n",
              "      <td>20338986.27</td>\n",
              "      <td>166361390.71</td>\n",
              "    </tr>\n",
              "  </tbody>\n",
              "</table>\n",
              "</div>"
            ],
            "text/plain": [
              "                  ID                      name  ... usd_pledged_real usd_goal_real\n",
              "count      378661.00                    378657  ...        378661.00     378661.00\n",
              "unique           nan                    375764  ...              nan           nan\n",
              "top              nan  New EP/Music Development  ...              nan           nan\n",
              "freq             nan                        41  ...              nan           nan\n",
              "first            nan                       NaN  ...              nan           nan\n",
              "last             nan                       NaN  ...              nan           nan\n",
              "mean   1074731191.99                       NaN  ...          9058.92      45454.40\n",
              "std     619086204.32                       NaN  ...         90973.34    1152950.06\n",
              "min          5971.00                       NaN  ...             0.00          0.01\n",
              "25%     538263516.00                       NaN  ...            31.00       2000.00\n",
              "50%    1075275634.00                       NaN  ...           624.33       5500.00\n",
              "75%    1610148624.00                       NaN  ...          4050.00      15500.00\n",
              "max    2147476221.00                       NaN  ...      20338986.27  166361390.71\n",
              "\n",
              "[13 rows x 15 columns]"
            ]
          },
          "metadata": {
            "tags": []
          },
          "execution_count": 104
        }
      ]
    },
    {
      "cell_type": "markdown",
      "metadata": {
        "colab_type": "text",
        "id": "WSd5WYsMYSuQ"
      },
      "source": [
        "Podemos ver que tenemos primero y último en el resumen de las columnas de fechas.\n",
        "\n",
        "Ahora deberíamos poder calcular el rango de fechas de lanzamietos"
      ]
    },
    {
      "cell_type": "code",
      "metadata": {
        "colab_type": "code",
        "id": "8qhSEoVJYSuR",
        "colab": {
          "base_uri": "https://localhost:8080/",
          "height": 33
        },
        "outputId": "87424d93-902f-4ba2-d155-492902d52457"
      },
      "source": [
        "kickstarter_2018['launched'].max() - kickstarter_2018['launched'].min()"
      ],
      "execution_count": null,
      "outputs": [
        {
          "output_type": "execute_result",
          "data": {
            "text/plain": [
              "Timedelta('17533 days 14:02:31')"
            ]
          },
          "metadata": {
            "tags": []
          },
          "execution_count": 105
        }
      ]
    },
    {
      "cell_type": "markdown",
      "metadata": {
        "colab_type": "text",
        "id": "kUuWg5XxYSuU"
      },
      "source": [
        "# 1.2. Asegurar de tener ids/claves únicas"
      ]
    },
    {
      "cell_type": "markdown",
      "metadata": {
        "colab_type": "text",
        "id": "a8kLSONTYSuV"
      },
      "source": [
        "Chequear que no hay datos duplicados"
      ]
    },
    {
      "cell_type": "code",
      "metadata": {
        "colab_type": "code",
        "id": "wIbpcwGKYSuW",
        "colab": {
          "base_uri": "https://localhost:8080/",
          "height": 33
        },
        "outputId": "d9972b27-a3cf-48af-c638-6c0978fb2b0d"
      },
      "source": [
        "kickstarter_2018.shape"
      ],
      "execution_count": null,
      "outputs": [
        {
          "output_type": "execute_result",
          "data": {
            "text/plain": [
              "(378661, 15)"
            ]
          },
          "metadata": {
            "tags": []
          },
          "execution_count": 106
        }
      ]
    },
    {
      "cell_type": "markdown",
      "metadata": {
        "id": "W03_ulpnkX8h",
        "colab_type": "text"
      },
      "source": [
        "Pandas soporta índices en los DataFrames vamos a recargar el conjunto de datos"
      ]
    },
    {
      "cell_type": "code",
      "metadata": {
        "colab_type": "code",
        "id": "85qApsv2YSuZ",
        "colab": {}
      },
      "source": [
        "kickstarter_2018 = pd.read_csv(BASE_DIR + \"/input/kickstarter-projects/ks-projects-201801.csv\", \n",
        "                               parse_dates=[\"deadline\",\"launched\"],\n",
        "                               index_col=['ID'])"
      ],
      "execution_count": null,
      "outputs": []
    },
    {
      "cell_type": "code",
      "metadata": {
        "colab_type": "code",
        "id": "zUl3zjhQYSuc",
        "colab": {
          "base_uri": "https://localhost:8080/",
          "height": 598
        },
        "outputId": "9ac2cfd5-64be-4adc-8e0d-512597aa2047"
      },
      "source": [
        "kickstarter_2018"
      ],
      "execution_count": null,
      "outputs": [
        {
          "output_type": "execute_result",
          "data": {
            "text/html": [
              "<div>\n",
              "<style scoped>\n",
              "    .dataframe tbody tr th:only-of-type {\n",
              "        vertical-align: middle;\n",
              "    }\n",
              "\n",
              "    .dataframe tbody tr th {\n",
              "        vertical-align: top;\n",
              "    }\n",
              "\n",
              "    .dataframe thead th {\n",
              "        text-align: right;\n",
              "    }\n",
              "</style>\n",
              "<table border=\"1\" class=\"dataframe\">\n",
              "  <thead>\n",
              "    <tr style=\"text-align: right;\">\n",
              "      <th></th>\n",
              "      <th>name</th>\n",
              "      <th>category</th>\n",
              "      <th>main_category</th>\n",
              "      <th>currency</th>\n",
              "      <th>deadline</th>\n",
              "      <th>goal</th>\n",
              "      <th>launched</th>\n",
              "      <th>pledged</th>\n",
              "      <th>state</th>\n",
              "      <th>backers</th>\n",
              "      <th>country</th>\n",
              "      <th>usd pledged</th>\n",
              "      <th>usd_pledged_real</th>\n",
              "      <th>usd_goal_real</th>\n",
              "    </tr>\n",
              "    <tr>\n",
              "      <th>ID</th>\n",
              "      <th></th>\n",
              "      <th></th>\n",
              "      <th></th>\n",
              "      <th></th>\n",
              "      <th></th>\n",
              "      <th></th>\n",
              "      <th></th>\n",
              "      <th></th>\n",
              "      <th></th>\n",
              "      <th></th>\n",
              "      <th></th>\n",
              "      <th></th>\n",
              "      <th></th>\n",
              "      <th></th>\n",
              "    </tr>\n",
              "  </thead>\n",
              "  <tbody>\n",
              "    <tr>\n",
              "      <th>1000002330</th>\n",
              "      <td>The Songs of Adelaide &amp; Abullah</td>\n",
              "      <td>Poetry</td>\n",
              "      <td>Publishing</td>\n",
              "      <td>GBP</td>\n",
              "      <td>2015-10-09</td>\n",
              "      <td>1000.00</td>\n",
              "      <td>2015-08-11 12:12:28</td>\n",
              "      <td>0.00</td>\n",
              "      <td>failed</td>\n",
              "      <td>0</td>\n",
              "      <td>GB</td>\n",
              "      <td>0.00</td>\n",
              "      <td>0.00</td>\n",
              "      <td>1533.95</td>\n",
              "    </tr>\n",
              "    <tr>\n",
              "      <th>1000003930</th>\n",
              "      <td>Greeting From Earth: ZGAC Arts Capsule For ET</td>\n",
              "      <td>Narrative Film</td>\n",
              "      <td>Film &amp; Video</td>\n",
              "      <td>USD</td>\n",
              "      <td>2017-11-01</td>\n",
              "      <td>30000.00</td>\n",
              "      <td>2017-09-02 04:43:57</td>\n",
              "      <td>2421.00</td>\n",
              "      <td>failed</td>\n",
              "      <td>15</td>\n",
              "      <td>US</td>\n",
              "      <td>100.00</td>\n",
              "      <td>2421.00</td>\n",
              "      <td>30000.00</td>\n",
              "    </tr>\n",
              "    <tr>\n",
              "      <th>1000004038</th>\n",
              "      <td>Where is Hank?</td>\n",
              "      <td>Narrative Film</td>\n",
              "      <td>Film &amp; Video</td>\n",
              "      <td>USD</td>\n",
              "      <td>2013-02-26</td>\n",
              "      <td>45000.00</td>\n",
              "      <td>2013-01-12 00:20:50</td>\n",
              "      <td>220.00</td>\n",
              "      <td>failed</td>\n",
              "      <td>3</td>\n",
              "      <td>US</td>\n",
              "      <td>220.00</td>\n",
              "      <td>220.00</td>\n",
              "      <td>45000.00</td>\n",
              "    </tr>\n",
              "    <tr>\n",
              "      <th>1000007540</th>\n",
              "      <td>ToshiCapital Rekordz Needs Help to Complete Album</td>\n",
              "      <td>Music</td>\n",
              "      <td>Music</td>\n",
              "      <td>USD</td>\n",
              "      <td>2012-04-16</td>\n",
              "      <td>5000.00</td>\n",
              "      <td>2012-03-17 03:24:11</td>\n",
              "      <td>1.00</td>\n",
              "      <td>failed</td>\n",
              "      <td>1</td>\n",
              "      <td>US</td>\n",
              "      <td>1.00</td>\n",
              "      <td>1.00</td>\n",
              "      <td>5000.00</td>\n",
              "    </tr>\n",
              "    <tr>\n",
              "      <th>1000011046</th>\n",
              "      <td>Community Film Project: The Art of Neighborhoo...</td>\n",
              "      <td>Film &amp; Video</td>\n",
              "      <td>Film &amp; Video</td>\n",
              "      <td>USD</td>\n",
              "      <td>2015-08-29</td>\n",
              "      <td>19500.00</td>\n",
              "      <td>2015-07-04 08:35:03</td>\n",
              "      <td>1283.00</td>\n",
              "      <td>canceled</td>\n",
              "      <td>14</td>\n",
              "      <td>US</td>\n",
              "      <td>1283.00</td>\n",
              "      <td>1283.00</td>\n",
              "      <td>19500.00</td>\n",
              "    </tr>\n",
              "    <tr>\n",
              "      <th>...</th>\n",
              "      <td>...</td>\n",
              "      <td>...</td>\n",
              "      <td>...</td>\n",
              "      <td>...</td>\n",
              "      <td>...</td>\n",
              "      <td>...</td>\n",
              "      <td>...</td>\n",
              "      <td>...</td>\n",
              "      <td>...</td>\n",
              "      <td>...</td>\n",
              "      <td>...</td>\n",
              "      <td>...</td>\n",
              "      <td>...</td>\n",
              "      <td>...</td>\n",
              "    </tr>\n",
              "    <tr>\n",
              "      <th>999976400</th>\n",
              "      <td>ChknTruk Nationwide Charity Drive 2014 (Canceled)</td>\n",
              "      <td>Documentary</td>\n",
              "      <td>Film &amp; Video</td>\n",
              "      <td>USD</td>\n",
              "      <td>2014-10-17</td>\n",
              "      <td>50000.00</td>\n",
              "      <td>2014-09-17 02:35:30</td>\n",
              "      <td>25.00</td>\n",
              "      <td>canceled</td>\n",
              "      <td>1</td>\n",
              "      <td>US</td>\n",
              "      <td>25.00</td>\n",
              "      <td>25.00</td>\n",
              "      <td>50000.00</td>\n",
              "    </tr>\n",
              "    <tr>\n",
              "      <th>999977640</th>\n",
              "      <td>The Tribe</td>\n",
              "      <td>Narrative Film</td>\n",
              "      <td>Film &amp; Video</td>\n",
              "      <td>USD</td>\n",
              "      <td>2011-07-19</td>\n",
              "      <td>1500.00</td>\n",
              "      <td>2011-06-22 03:35:14</td>\n",
              "      <td>155.00</td>\n",
              "      <td>failed</td>\n",
              "      <td>5</td>\n",
              "      <td>US</td>\n",
              "      <td>155.00</td>\n",
              "      <td>155.00</td>\n",
              "      <td>1500.00</td>\n",
              "    </tr>\n",
              "    <tr>\n",
              "      <th>999986353</th>\n",
              "      <td>Walls of Remedy- New lesbian Romantic Comedy f...</td>\n",
              "      <td>Narrative Film</td>\n",
              "      <td>Film &amp; Video</td>\n",
              "      <td>USD</td>\n",
              "      <td>2010-08-16</td>\n",
              "      <td>15000.00</td>\n",
              "      <td>2010-07-01 19:40:30</td>\n",
              "      <td>20.00</td>\n",
              "      <td>failed</td>\n",
              "      <td>1</td>\n",
              "      <td>US</td>\n",
              "      <td>20.00</td>\n",
              "      <td>20.00</td>\n",
              "      <td>15000.00</td>\n",
              "    </tr>\n",
              "    <tr>\n",
              "      <th>999987933</th>\n",
              "      <td>BioDefense Education Kit</td>\n",
              "      <td>Technology</td>\n",
              "      <td>Technology</td>\n",
              "      <td>USD</td>\n",
              "      <td>2016-02-13</td>\n",
              "      <td>15000.00</td>\n",
              "      <td>2016-01-13 18:13:53</td>\n",
              "      <td>200.00</td>\n",
              "      <td>failed</td>\n",
              "      <td>6</td>\n",
              "      <td>US</td>\n",
              "      <td>200.00</td>\n",
              "      <td>200.00</td>\n",
              "      <td>15000.00</td>\n",
              "    </tr>\n",
              "    <tr>\n",
              "      <th>999988282</th>\n",
              "      <td>Nou Renmen Ayiti!  We Love Haiti!</td>\n",
              "      <td>Performance Art</td>\n",
              "      <td>Art</td>\n",
              "      <td>USD</td>\n",
              "      <td>2011-08-16</td>\n",
              "      <td>2000.00</td>\n",
              "      <td>2011-07-19 09:07:47</td>\n",
              "      <td>524.00</td>\n",
              "      <td>failed</td>\n",
              "      <td>17</td>\n",
              "      <td>US</td>\n",
              "      <td>524.00</td>\n",
              "      <td>524.00</td>\n",
              "      <td>2000.00</td>\n",
              "    </tr>\n",
              "  </tbody>\n",
              "</table>\n",
              "<p>378661 rows × 14 columns</p>\n",
              "</div>"
            ],
            "text/plain": [
              "                                                         name  ... usd_goal_real\n",
              "ID                                                             ...              \n",
              "1000002330                    The Songs of Adelaide & Abullah  ...       1533.95\n",
              "1000003930      Greeting From Earth: ZGAC Arts Capsule For ET  ...      30000.00\n",
              "1000004038                                     Where is Hank?  ...      45000.00\n",
              "1000007540  ToshiCapital Rekordz Needs Help to Complete Album  ...       5000.00\n",
              "1000011046  Community Film Project: The Art of Neighborhoo...  ...      19500.00\n",
              "...                                                       ...  ...           ...\n",
              "999976400   ChknTruk Nationwide Charity Drive 2014 (Canceled)  ...      50000.00\n",
              "999977640                                           The Tribe  ...       1500.00\n",
              "999986353   Walls of Remedy- New lesbian Romantic Comedy f...  ...      15000.00\n",
              "999987933                            BioDefense Education Kit  ...      15000.00\n",
              "999988282                   Nou Renmen Ayiti!  We Love Haiti!  ...       2000.00\n",
              "\n",
              "[378661 rows x 14 columns]"
            ]
          },
          "metadata": {
            "tags": []
          },
          "execution_count": 108
        }
      ]
    },
    {
      "cell_type": "code",
      "metadata": {
        "colab_type": "code",
        "id": "RirO_GHkYSuf",
        "colab": {
          "base_uri": "https://localhost:8080/",
          "height": 33
        },
        "outputId": "bd6c8c45-5bef-4370-8281-684f660d41e4"
      },
      "source": [
        "kickstarter_2018.shape"
      ],
      "execution_count": null,
      "outputs": [
        {
          "output_type": "execute_result",
          "data": {
            "text/plain": [
              "(378661, 14)"
            ]
          },
          "metadata": {
            "tags": []
          },
          "execution_count": 109
        }
      ]
    },
    {
      "cell_type": "markdown",
      "metadata": {
        "id": "Wx2ZACSFkX8u",
        "colab_type": "text"
      },
      "source": [
        "De esta forma podemos buscar por el índice"
      ]
    },
    {
      "cell_type": "code",
      "metadata": {
        "id": "D1tGjhXokX8u",
        "colab_type": "code",
        "colab": {
          "base_uri": "https://localhost:8080/",
          "height": 261
        },
        "outputId": "3f7142d7-7449-4b4e-c40f-9311329d066a"
      },
      "source": [
        "kickstarter_2018.loc[999987933]"
      ],
      "execution_count": null,
      "outputs": [
        {
          "output_type": "execute_result",
          "data": {
            "text/plain": [
              "name                BioDefense Education Kit\n",
              "category                          Technology\n",
              "main_category                     Technology\n",
              "currency                                 USD\n",
              "deadline                 2016-02-13 00:00:00\n",
              "goal                                15000.00\n",
              "launched                 2016-01-13 18:13:53\n",
              "pledged                               200.00\n",
              "state                                 failed\n",
              "backers                                    6\n",
              "country                                   US\n",
              "usd pledged                           200.00\n",
              "usd_pledged_real                      200.00\n",
              "usd_goal_real                       15000.00\n",
              "Name: 999987933, dtype: object"
            ]
          },
          "metadata": {
            "tags": []
          },
          "execution_count": 110
        }
      ]
    },
    {
      "cell_type": "markdown",
      "metadata": {
        "id": "9j_wcUk2kX8x",
        "colab_type": "text"
      },
      "source": [
        "También podemos verificar si hay filas de contenidos duplicado"
      ]
    },
    {
      "cell_type": "code",
      "metadata": {
        "colab_type": "code",
        "id": "ezFOfJESYSui",
        "colab": {
          "base_uri": "https://localhost:8080/",
          "height": 76
        },
        "outputId": "a3faed17-ccff-4a9c-b322-6c6bb3c2fef0"
      },
      "source": [
        "kickstarter_2018[kickstarter_2018.duplicated()]"
      ],
      "execution_count": null,
      "outputs": [
        {
          "output_type": "execute_result",
          "data": {
            "text/html": [
              "<div>\n",
              "<style scoped>\n",
              "    .dataframe tbody tr th:only-of-type {\n",
              "        vertical-align: middle;\n",
              "    }\n",
              "\n",
              "    .dataframe tbody tr th {\n",
              "        vertical-align: top;\n",
              "    }\n",
              "\n",
              "    .dataframe thead th {\n",
              "        text-align: right;\n",
              "    }\n",
              "</style>\n",
              "<table border=\"1\" class=\"dataframe\">\n",
              "  <thead>\n",
              "    <tr style=\"text-align: right;\">\n",
              "      <th></th>\n",
              "      <th>name</th>\n",
              "      <th>category</th>\n",
              "      <th>main_category</th>\n",
              "      <th>currency</th>\n",
              "      <th>deadline</th>\n",
              "      <th>goal</th>\n",
              "      <th>launched</th>\n",
              "      <th>pledged</th>\n",
              "      <th>state</th>\n",
              "      <th>backers</th>\n",
              "      <th>country</th>\n",
              "      <th>usd pledged</th>\n",
              "      <th>usd_pledged_real</th>\n",
              "      <th>usd_goal_real</th>\n",
              "    </tr>\n",
              "    <tr>\n",
              "      <th>ID</th>\n",
              "      <th></th>\n",
              "      <th></th>\n",
              "      <th></th>\n",
              "      <th></th>\n",
              "      <th></th>\n",
              "      <th></th>\n",
              "      <th></th>\n",
              "      <th></th>\n",
              "      <th></th>\n",
              "      <th></th>\n",
              "      <th></th>\n",
              "      <th></th>\n",
              "      <th></th>\n",
              "      <th></th>\n",
              "    </tr>\n",
              "  </thead>\n",
              "  <tbody>\n",
              "  </tbody>\n",
              "</table>\n",
              "</div>"
            ],
            "text/plain": [
              "Empty DataFrame\n",
              "Columns: [name, category, main_category, currency, deadline, goal, launched, pledged, state, backers, country, usd pledged, usd_pledged_real, usd_goal_real]\n",
              "Index: []"
            ]
          },
          "metadata": {
            "tags": []
          },
          "execution_count": 111
        }
      ]
    },
    {
      "cell_type": "markdown",
      "metadata": {
        "id": "93YPOecSkX80",
        "colab_type": "text"
      },
      "source": [
        "Como Pandas acepta valores duplicados en los índices también debemos verificar ahí"
      ]
    },
    {
      "cell_type": "code",
      "metadata": {
        "id": "TUcY1EfCkX81",
        "colab_type": "code",
        "colab": {
          "base_uri": "https://localhost:8080/",
          "height": 98
        },
        "outputId": "f3863b49-ad35-4753-fb16-08cbb8b4f411"
      },
      "source": [
        "pd.Series(kickstarter_2018.index,dtype=str).describe()"
      ],
      "execution_count": null,
      "outputs": [
        {
          "output_type": "execute_result",
          "data": {
            "text/plain": [
              "count       378661\n",
              "unique      378661\n",
              "top       41508352\n",
              "freq             1\n",
              "Name: ID, dtype: object"
            ]
          },
          "metadata": {
            "tags": []
          },
          "execution_count": 112
        }
      ]
    },
    {
      "cell_type": "code",
      "metadata": {
        "id": "Cs9hkCDJkX83",
        "colab_type": "code",
        "colab": {
          "base_uri": "https://localhost:8080/",
          "height": 76
        },
        "outputId": "51b206b1-aca3-4c29-a030-5de2594c6289"
      },
      "source": [
        "kickstarter_2018[kickstarter_2018.index.duplicated()]"
      ],
      "execution_count": null,
      "outputs": [
        {
          "output_type": "execute_result",
          "data": {
            "text/html": [
              "<div>\n",
              "<style scoped>\n",
              "    .dataframe tbody tr th:only-of-type {\n",
              "        vertical-align: middle;\n",
              "    }\n",
              "\n",
              "    .dataframe tbody tr th {\n",
              "        vertical-align: top;\n",
              "    }\n",
              "\n",
              "    .dataframe thead th {\n",
              "        text-align: right;\n",
              "    }\n",
              "</style>\n",
              "<table border=\"1\" class=\"dataframe\">\n",
              "  <thead>\n",
              "    <tr style=\"text-align: right;\">\n",
              "      <th></th>\n",
              "      <th>name</th>\n",
              "      <th>category</th>\n",
              "      <th>main_category</th>\n",
              "      <th>currency</th>\n",
              "      <th>deadline</th>\n",
              "      <th>goal</th>\n",
              "      <th>launched</th>\n",
              "      <th>pledged</th>\n",
              "      <th>state</th>\n",
              "      <th>backers</th>\n",
              "      <th>country</th>\n",
              "      <th>usd pledged</th>\n",
              "      <th>usd_pledged_real</th>\n",
              "      <th>usd_goal_real</th>\n",
              "    </tr>\n",
              "    <tr>\n",
              "      <th>ID</th>\n",
              "      <th></th>\n",
              "      <th></th>\n",
              "      <th></th>\n",
              "      <th></th>\n",
              "      <th></th>\n",
              "      <th></th>\n",
              "      <th></th>\n",
              "      <th></th>\n",
              "      <th></th>\n",
              "      <th></th>\n",
              "      <th></th>\n",
              "      <th></th>\n",
              "      <th></th>\n",
              "      <th></th>\n",
              "    </tr>\n",
              "  </thead>\n",
              "  <tbody>\n",
              "  </tbody>\n",
              "</table>\n",
              "</div>"
            ],
            "text/plain": [
              "Empty DataFrame\n",
              "Columns: [name, category, main_category, currency, deadline, goal, launched, pledged, state, backers, country, usd pledged, usd_pledged_real, usd_goal_real]\n",
              "Index: []"
            ]
          },
          "metadata": {
            "tags": []
          },
          "execution_count": 113
        }
      ]
    },
    {
      "cell_type": "markdown",
      "metadata": {
        "id": "Ris8D5ZkkX88",
        "colab_type": "text"
      },
      "source": [
        "Repasamos con un ejemplo de juguete"
      ]
    },
    {
      "cell_type": "code",
      "metadata": {
        "colab_type": "code",
        "id": "YJFhG_xcYSul",
        "colab": {
          "base_uri": "https://localhost:8080/",
          "height": 66
        },
        "outputId": "045d1d20-c3b3-4d7c-855b-ffa450a785fa"
      },
      "source": [
        "csv='1,2\\n3,3\\n1,3'\n",
        "print(csv)"
      ],
      "execution_count": null,
      "outputs": [
        {
          "output_type": "stream",
          "text": [
            "1,2\n",
            "3,3\n",
            "1,3\n"
          ],
          "name": "stdout"
        }
      ]
    },
    {
      "cell_type": "code",
      "metadata": {
        "colab_type": "code",
        "id": "rNyteTc8YSuo",
        "colab": {
          "base_uri": "https://localhost:8080/",
          "height": 162
        },
        "outputId": "4cbb6d39-a9c8-4c71-8d70-d993e458705d"
      },
      "source": [
        "from io import StringIO\n",
        "df = pd.read_csv(StringIO(csv), names=['id','value'], index_col='id')\n",
        "df"
      ],
      "execution_count": null,
      "outputs": [
        {
          "output_type": "execute_result",
          "data": {
            "text/html": [
              "<div>\n",
              "<style scoped>\n",
              "    .dataframe tbody tr th:only-of-type {\n",
              "        vertical-align: middle;\n",
              "    }\n",
              "\n",
              "    .dataframe tbody tr th {\n",
              "        vertical-align: top;\n",
              "    }\n",
              "\n",
              "    .dataframe thead th {\n",
              "        text-align: right;\n",
              "    }\n",
              "</style>\n",
              "<table border=\"1\" class=\"dataframe\">\n",
              "  <thead>\n",
              "    <tr style=\"text-align: right;\">\n",
              "      <th></th>\n",
              "      <th>value</th>\n",
              "    </tr>\n",
              "    <tr>\n",
              "      <th>id</th>\n",
              "      <th></th>\n",
              "    </tr>\n",
              "  </thead>\n",
              "  <tbody>\n",
              "    <tr>\n",
              "      <th>1</th>\n",
              "      <td>2</td>\n",
              "    </tr>\n",
              "    <tr>\n",
              "      <th>3</th>\n",
              "      <td>3</td>\n",
              "    </tr>\n",
              "    <tr>\n",
              "      <th>1</th>\n",
              "      <td>3</td>\n",
              "    </tr>\n",
              "  </tbody>\n",
              "</table>\n",
              "</div>"
            ],
            "text/plain": [
              "    value\n",
              "id       \n",
              "1       2\n",
              "3       3\n",
              "1       3"
            ]
          },
          "metadata": {
            "tags": []
          },
          "execution_count": 115
        }
      ]
    },
    {
      "cell_type": "code",
      "metadata": {
        "colab_type": "code",
        "id": "9WWSayCYYSus",
        "colab": {
          "base_uri": "https://localhost:8080/",
          "height": 105
        },
        "outputId": "ce2dc727-ee74-4054-8299-2e87c5e7b6f4"
      },
      "source": [
        "df[df.duplicated()]"
      ],
      "execution_count": null,
      "outputs": [
        {
          "output_type": "execute_result",
          "data": {
            "text/html": [
              "<div>\n",
              "<style scoped>\n",
              "    .dataframe tbody tr th:only-of-type {\n",
              "        vertical-align: middle;\n",
              "    }\n",
              "\n",
              "    .dataframe tbody tr th {\n",
              "        vertical-align: top;\n",
              "    }\n",
              "\n",
              "    .dataframe thead th {\n",
              "        text-align: right;\n",
              "    }\n",
              "</style>\n",
              "<table border=\"1\" class=\"dataframe\">\n",
              "  <thead>\n",
              "    <tr style=\"text-align: right;\">\n",
              "      <th></th>\n",
              "      <th>value</th>\n",
              "    </tr>\n",
              "    <tr>\n",
              "      <th>id</th>\n",
              "      <th></th>\n",
              "    </tr>\n",
              "  </thead>\n",
              "  <tbody>\n",
              "    <tr>\n",
              "      <th>1</th>\n",
              "      <td>3</td>\n",
              "    </tr>\n",
              "  </tbody>\n",
              "</table>\n",
              "</div>"
            ],
            "text/plain": [
              "    value\n",
              "id       \n",
              "1       3"
            ]
          },
          "metadata": {
            "tags": []
          },
          "execution_count": 116
        }
      ]
    },
    {
      "cell_type": "code",
      "metadata": {
        "colab_type": "code",
        "id": "r7e3fEnWYSuu",
        "colab": {
          "base_uri": "https://localhost:8080/",
          "height": 133
        },
        "outputId": "a6d379b7-042b-47da-c4f4-86aaad319640"
      },
      "source": [
        "df[df.index.duplicated(keep=False)]"
      ],
      "execution_count": null,
      "outputs": [
        {
          "output_type": "execute_result",
          "data": {
            "text/html": [
              "<div>\n",
              "<style scoped>\n",
              "    .dataframe tbody tr th:only-of-type {\n",
              "        vertical-align: middle;\n",
              "    }\n",
              "\n",
              "    .dataframe tbody tr th {\n",
              "        vertical-align: top;\n",
              "    }\n",
              "\n",
              "    .dataframe thead th {\n",
              "        text-align: right;\n",
              "    }\n",
              "</style>\n",
              "<table border=\"1\" class=\"dataframe\">\n",
              "  <thead>\n",
              "    <tr style=\"text-align: right;\">\n",
              "      <th></th>\n",
              "      <th>value</th>\n",
              "    </tr>\n",
              "    <tr>\n",
              "      <th>id</th>\n",
              "      <th></th>\n",
              "    </tr>\n",
              "  </thead>\n",
              "  <tbody>\n",
              "    <tr>\n",
              "      <th>1</th>\n",
              "      <td>2</td>\n",
              "    </tr>\n",
              "    <tr>\n",
              "      <th>1</th>\n",
              "      <td>3</td>\n",
              "    </tr>\n",
              "  </tbody>\n",
              "</table>\n",
              "</div>"
            ],
            "text/plain": [
              "    value\n",
              "id       \n",
              "1       2\n",
              "1       3"
            ]
          },
          "metadata": {
            "tags": []
          },
          "execution_count": 117
        }
      ]
    },
    {
      "cell_type": "markdown",
      "metadata": {
        "id": "RPPd2sAHkX9H",
        "colab_type": "text"
      },
      "source": [
        "#### Ejercicio 1:\n",
        "\n",
        "Armar una tabla con todos los proyectos con nombres duplicados, ordenados para revisar agrupados. "
      ]
    },
    {
      "cell_type": "code",
      "metadata": {
        "id": "0Y070iP-YEwz",
        "colab_type": "code",
        "colab": {
          "base_uri": "https://localhost:8080/",
          "height": 420
        },
        "outputId": "11bfb0a4-f2d6-4309-acea-76aad204478a"
      },
      "source": [
        "duplicatedName = kickstarter_2018[kickstarter_2018.name.duplicated()]\n",
        "duplicatedName\n"
      ],
      "execution_count": null,
      "outputs": [
        {
          "output_type": "execute_result",
          "data": {
            "text/html": [
              "<div>\n",
              "<style scoped>\n",
              "    .dataframe tbody tr th:only-of-type {\n",
              "        vertical-align: middle;\n",
              "    }\n",
              "\n",
              "    .dataframe tbody tr th {\n",
              "        vertical-align: top;\n",
              "    }\n",
              "\n",
              "    .dataframe thead th {\n",
              "        text-align: right;\n",
              "    }\n",
              "</style>\n",
              "<table border=\"1\" class=\"dataframe\">\n",
              "  <thead>\n",
              "    <tr style=\"text-align: right;\">\n",
              "      <th></th>\n",
              "      <th>name</th>\n",
              "      <th>category</th>\n",
              "      <th>main_category</th>\n",
              "      <th>currency</th>\n",
              "      <th>deadline</th>\n",
              "      <th>goal</th>\n",
              "      <th>launched</th>\n",
              "      <th>pledged</th>\n",
              "      <th>state</th>\n",
              "      <th>backers</th>\n",
              "      <th>country</th>\n",
              "      <th>usd pledged</th>\n",
              "      <th>usd_pledged_real</th>\n",
              "      <th>usd_goal_real</th>\n",
              "    </tr>\n",
              "    <tr>\n",
              "      <th>ID</th>\n",
              "      <th></th>\n",
              "      <th></th>\n",
              "      <th></th>\n",
              "      <th></th>\n",
              "      <th></th>\n",
              "      <th></th>\n",
              "      <th></th>\n",
              "      <th></th>\n",
              "      <th></th>\n",
              "      <th></th>\n",
              "      <th></th>\n",
              "      <th></th>\n",
              "      <th></th>\n",
              "      <th></th>\n",
              "    </tr>\n",
              "  </thead>\n",
              "  <tbody>\n",
              "    <tr>\n",
              "      <th>1032645935</th>\n",
              "      <td>Cancelled (Canceled)</td>\n",
              "      <td>Design</td>\n",
              "      <td>Design</td>\n",
              "      <td>USD</td>\n",
              "      <td>2015-06-05</td>\n",
              "      <td>100000.00</td>\n",
              "      <td>2015-05-06 12:29:08</td>\n",
              "      <td>3105.00</td>\n",
              "      <td>canceled</td>\n",
              "      <td>17</td>\n",
              "      <td>US</td>\n",
              "      <td>3105.00</td>\n",
              "      <td>3105.00</td>\n",
              "      <td>100000.00</td>\n",
              "    </tr>\n",
              "    <tr>\n",
              "      <th>1039093987</th>\n",
              "      <td>New EP/Music Development</td>\n",
              "      <td>Music</td>\n",
              "      <td>Music</td>\n",
              "      <td>USD</td>\n",
              "      <td>2016-01-07</td>\n",
              "      <td>3800.00</td>\n",
              "      <td>2015-11-24 15:29:35</td>\n",
              "      <td>257.00</td>\n",
              "      <td>undefined</td>\n",
              "      <td>0</td>\n",
              "      <td>N,0\"</td>\n",
              "      <td>nan</td>\n",
              "      <td>257.00</td>\n",
              "      <td>3800.00</td>\n",
              "    </tr>\n",
              "    <tr>\n",
              "      <th>1042208764</th>\n",
              "      <td>The Basement</td>\n",
              "      <td>Horror</td>\n",
              "      <td>Film &amp; Video</td>\n",
              "      <td>USD</td>\n",
              "      <td>2015-05-07</td>\n",
              "      <td>12000.00</td>\n",
              "      <td>2015-04-07 18:24:19</td>\n",
              "      <td>12311.00</td>\n",
              "      <td>successful</td>\n",
              "      <td>106</td>\n",
              "      <td>US</td>\n",
              "      <td>12311.00</td>\n",
              "      <td>12311.00</td>\n",
              "      <td>12000.00</td>\n",
              "    </tr>\n",
              "    <tr>\n",
              "      <th>1042642941</th>\n",
              "      <td>The Gift</td>\n",
              "      <td>Film &amp; Video</td>\n",
              "      <td>Film &amp; Video</td>\n",
              "      <td>USD</td>\n",
              "      <td>2013-05-08</td>\n",
              "      <td>3000.00</td>\n",
              "      <td>2013-04-17 01:55:27</td>\n",
              "      <td>3370.00</td>\n",
              "      <td>successful</td>\n",
              "      <td>37</td>\n",
              "      <td>US</td>\n",
              "      <td>3370.00</td>\n",
              "      <td>3370.00</td>\n",
              "      <td>3000.00</td>\n",
              "    </tr>\n",
              "    <tr>\n",
              "      <th>1044230780</th>\n",
              "      <td>Redemption</td>\n",
              "      <td>Narrative Film</td>\n",
              "      <td>Film &amp; Video</td>\n",
              "      <td>USD</td>\n",
              "      <td>2012-08-25</td>\n",
              "      <td>11000.00</td>\n",
              "      <td>2012-06-26 19:13:21</td>\n",
              "      <td>11440.00</td>\n",
              "      <td>successful</td>\n",
              "      <td>67</td>\n",
              "      <td>US</td>\n",
              "      <td>11440.00</td>\n",
              "      <td>11440.00</td>\n",
              "      <td>11000.00</td>\n",
              "    </tr>\n",
              "    <tr>\n",
              "      <th>...</th>\n",
              "      <td>...</td>\n",
              "      <td>...</td>\n",
              "      <td>...</td>\n",
              "      <td>...</td>\n",
              "      <td>...</td>\n",
              "      <td>...</td>\n",
              "      <td>...</td>\n",
              "      <td>...</td>\n",
              "      <td>...</td>\n",
              "      <td>...</td>\n",
              "      <td>...</td>\n",
              "      <td>...</td>\n",
              "      <td>...</td>\n",
              "      <td>...</td>\n",
              "    </tr>\n",
              "    <tr>\n",
              "      <th>997542782</th>\n",
              "      <td>Innocent Sin</td>\n",
              "      <td>Indie Rock</td>\n",
              "      <td>Music</td>\n",
              "      <td>USD</td>\n",
              "      <td>2015-01-25</td>\n",
              "      <td>300.00</td>\n",
              "      <td>2014-12-26 18:04:28</td>\n",
              "      <td>600.00</td>\n",
              "      <td>successful</td>\n",
              "      <td>15</td>\n",
              "      <td>US</td>\n",
              "      <td>600.00</td>\n",
              "      <td>600.00</td>\n",
              "      <td>300.00</td>\n",
              "    </tr>\n",
              "    <tr>\n",
              "      <th>997919903</th>\n",
              "      <td>Grassroots</td>\n",
              "      <td>Publishing</td>\n",
              "      <td>Publishing</td>\n",
              "      <td>EUR</td>\n",
              "      <td>2017-09-14</td>\n",
              "      <td>10000.00</td>\n",
              "      <td>2017-08-15 18:36:18</td>\n",
              "      <td>21.00</td>\n",
              "      <td>failed</td>\n",
              "      <td>3</td>\n",
              "      <td>IE</td>\n",
              "      <td>0.00</td>\n",
              "      <td>25.12</td>\n",
              "      <td>11963.01</td>\n",
              "    </tr>\n",
              "    <tr>\n",
              "      <th>998836498</th>\n",
              "      <td>The InAction</td>\n",
              "      <td>Camera Equipment</td>\n",
              "      <td>Technology</td>\n",
              "      <td>USD</td>\n",
              "      <td>2016-07-29</td>\n",
              "      <td>80000.00</td>\n",
              "      <td>2016-06-28 04:00:08</td>\n",
              "      <td>670.00</td>\n",
              "      <td>canceled</td>\n",
              "      <td>5</td>\n",
              "      <td>US</td>\n",
              "      <td>410.00</td>\n",
              "      <td>670.00</td>\n",
              "      <td>80000.00</td>\n",
              "    </tr>\n",
              "    <tr>\n",
              "      <th>999055513</th>\n",
              "      <td>The Last Hurrah</td>\n",
              "      <td>Rock</td>\n",
              "      <td>Music</td>\n",
              "      <td>USD</td>\n",
              "      <td>2012-06-03</td>\n",
              "      <td>5500.00</td>\n",
              "      <td>2012-05-04 15:20:41</td>\n",
              "      <td>7665.00</td>\n",
              "      <td>successful</td>\n",
              "      <td>69</td>\n",
              "      <td>US</td>\n",
              "      <td>7665.00</td>\n",
              "      <td>7665.00</td>\n",
              "      <td>5500.00</td>\n",
              "    </tr>\n",
              "    <tr>\n",
              "      <th>999410766</th>\n",
              "      <td>Guilt</td>\n",
              "      <td>Shorts</td>\n",
              "      <td>Film &amp; Video</td>\n",
              "      <td>USD</td>\n",
              "      <td>2014-05-16</td>\n",
              "      <td>65000.00</td>\n",
              "      <td>2014-04-16 17:45:46</td>\n",
              "      <td>791.00</td>\n",
              "      <td>failed</td>\n",
              "      <td>7</td>\n",
              "      <td>US</td>\n",
              "      <td>791.00</td>\n",
              "      <td>791.00</td>\n",
              "      <td>65000.00</td>\n",
              "    </tr>\n",
              "  </tbody>\n",
              "</table>\n",
              "<p>2896 rows × 14 columns</p>\n",
              "</div>"
            ],
            "text/plain": [
              "                                name  ... usd_goal_real\n",
              "ID                                    ...              \n",
              "1032645935      Cancelled (Canceled)  ...     100000.00\n",
              "1039093987  New EP/Music Development  ...       3800.00\n",
              "1042208764              The Basement  ...      12000.00\n",
              "1042642941                  The Gift  ...       3000.00\n",
              "1044230780                Redemption  ...      11000.00\n",
              "...                              ...  ...           ...\n",
              "997542782               Innocent Sin  ...        300.00\n",
              "997919903                 Grassroots  ...      11963.01\n",
              "998836498               The InAction  ...      80000.00\n",
              "999055513            The Last Hurrah  ...       5500.00\n",
              "999410766                      Guilt  ...      65000.00\n",
              "\n",
              "[2896 rows x 14 columns]"
            ]
          },
          "metadata": {
            "tags": []
          },
          "execution_count": 118
        }
      ]
    },
    {
      "cell_type": "code",
      "metadata": {
        "id": "jFCNeu5DYsnA",
        "colab_type": "code",
        "colab": {
          "base_uri": "https://localhost:8080/",
          "height": 420
        },
        "outputId": "cd8c3256-4787-4cb4-c8ec-f81bd42657b0"
      },
      "source": [
        "dNcount = duplicatedName.groupby([duplicatedName.name]).count()\n",
        "dNcount = dNcount.sort_values(by=['category'])\n",
        "dNcount = dNcount[dNcount.category > 1]\n",
        "dNcount\n"
      ],
      "execution_count": null,
      "outputs": [
        {
          "output_type": "execute_result",
          "data": {
            "text/html": [
              "<div>\n",
              "<style scoped>\n",
              "    .dataframe tbody tr th:only-of-type {\n",
              "        vertical-align: middle;\n",
              "    }\n",
              "\n",
              "    .dataframe tbody tr th {\n",
              "        vertical-align: top;\n",
              "    }\n",
              "\n",
              "    .dataframe thead th {\n",
              "        text-align: right;\n",
              "    }\n",
              "</style>\n",
              "<table border=\"1\" class=\"dataframe\">\n",
              "  <thead>\n",
              "    <tr style=\"text-align: right;\">\n",
              "      <th></th>\n",
              "      <th>category</th>\n",
              "      <th>main_category</th>\n",
              "      <th>currency</th>\n",
              "      <th>deadline</th>\n",
              "      <th>goal</th>\n",
              "      <th>launched</th>\n",
              "      <th>pledged</th>\n",
              "      <th>state</th>\n",
              "      <th>backers</th>\n",
              "      <th>country</th>\n",
              "      <th>usd pledged</th>\n",
              "      <th>usd_pledged_real</th>\n",
              "      <th>usd_goal_real</th>\n",
              "    </tr>\n",
              "    <tr>\n",
              "      <th>name</th>\n",
              "      <th></th>\n",
              "      <th></th>\n",
              "      <th></th>\n",
              "      <th></th>\n",
              "      <th></th>\n",
              "      <th></th>\n",
              "      <th></th>\n",
              "      <th></th>\n",
              "      <th></th>\n",
              "      <th></th>\n",
              "      <th></th>\n",
              "      <th></th>\n",
              "      <th></th>\n",
              "    </tr>\n",
              "  </thead>\n",
              "  <tbody>\n",
              "    <tr>\n",
              "      <th>Touch</th>\n",
              "      <td>2</td>\n",
              "      <td>2</td>\n",
              "      <td>2</td>\n",
              "      <td>2</td>\n",
              "      <td>2</td>\n",
              "      <td>2</td>\n",
              "      <td>2</td>\n",
              "      <td>2</td>\n",
              "      <td>2</td>\n",
              "      <td>2</td>\n",
              "      <td>2</td>\n",
              "      <td>2</td>\n",
              "      <td>2</td>\n",
              "    </tr>\n",
              "    <tr>\n",
              "      <th>Voiceless</th>\n",
              "      <td>2</td>\n",
              "      <td>2</td>\n",
              "      <td>2</td>\n",
              "      <td>2</td>\n",
              "      <td>2</td>\n",
              "      <td>2</td>\n",
              "      <td>2</td>\n",
              "      <td>2</td>\n",
              "      <td>2</td>\n",
              "      <td>2</td>\n",
              "      <td>2</td>\n",
              "      <td>2</td>\n",
              "      <td>2</td>\n",
              "    </tr>\n",
              "    <tr>\n",
              "      <th>Tough Love</th>\n",
              "      <td>2</td>\n",
              "      <td>2</td>\n",
              "      <td>2</td>\n",
              "      <td>2</td>\n",
              "      <td>2</td>\n",
              "      <td>2</td>\n",
              "      <td>2</td>\n",
              "      <td>2</td>\n",
              "      <td>2</td>\n",
              "      <td>2</td>\n",
              "      <td>2</td>\n",
              "      <td>2</td>\n",
              "      <td>2</td>\n",
              "    </tr>\n",
              "    <tr>\n",
              "      <th>Awakening</th>\n",
              "      <td>2</td>\n",
              "      <td>2</td>\n",
              "      <td>2</td>\n",
              "      <td>2</td>\n",
              "      <td>2</td>\n",
              "      <td>2</td>\n",
              "      <td>2</td>\n",
              "      <td>2</td>\n",
              "      <td>2</td>\n",
              "      <td>2</td>\n",
              "      <td>2</td>\n",
              "      <td>2</td>\n",
              "      <td>2</td>\n",
              "    </tr>\n",
              "    <tr>\n",
              "      <th>Monsters</th>\n",
              "      <td>2</td>\n",
              "      <td>2</td>\n",
              "      <td>2</td>\n",
              "      <td>2</td>\n",
              "      <td>2</td>\n",
              "      <td>2</td>\n",
              "      <td>2</td>\n",
              "      <td>2</td>\n",
              "      <td>2</td>\n",
              "      <td>2</td>\n",
              "      <td>2</td>\n",
              "      <td>2</td>\n",
              "      <td>2</td>\n",
              "    </tr>\n",
              "    <tr>\n",
              "      <th>...</th>\n",
              "      <td>...</td>\n",
              "      <td>...</td>\n",
              "      <td>...</td>\n",
              "      <td>...</td>\n",
              "      <td>...</td>\n",
              "      <td>...</td>\n",
              "      <td>...</td>\n",
              "      <td>...</td>\n",
              "      <td>...</td>\n",
              "      <td>...</td>\n",
              "      <td>...</td>\n",
              "      <td>...</td>\n",
              "      <td>...</td>\n",
              "    </tr>\n",
              "    <tr>\n",
              "      <th>Debut Album</th>\n",
              "      <td>9</td>\n",
              "      <td>9</td>\n",
              "      <td>9</td>\n",
              "      <td>9</td>\n",
              "      <td>9</td>\n",
              "      <td>9</td>\n",
              "      <td>9</td>\n",
              "      <td>9</td>\n",
              "      <td>9</td>\n",
              "      <td>9</td>\n",
              "      <td>8</td>\n",
              "      <td>9</td>\n",
              "      <td>9</td>\n",
              "    </tr>\n",
              "    <tr>\n",
              "      <th>N/A (Canceled)</th>\n",
              "      <td>10</td>\n",
              "      <td>10</td>\n",
              "      <td>10</td>\n",
              "      <td>10</td>\n",
              "      <td>10</td>\n",
              "      <td>10</td>\n",
              "      <td>10</td>\n",
              "      <td>10</td>\n",
              "      <td>10</td>\n",
              "      <td>10</td>\n",
              "      <td>10</td>\n",
              "      <td>10</td>\n",
              "      <td>10</td>\n",
              "    </tr>\n",
              "    <tr>\n",
              "      <th>Music Video</th>\n",
              "      <td>10</td>\n",
              "      <td>10</td>\n",
              "      <td>10</td>\n",
              "      <td>10</td>\n",
              "      <td>10</td>\n",
              "      <td>10</td>\n",
              "      <td>10</td>\n",
              "      <td>10</td>\n",
              "      <td>10</td>\n",
              "      <td>10</td>\n",
              "      <td>10</td>\n",
              "      <td>10</td>\n",
              "      <td>10</td>\n",
              "    </tr>\n",
              "    <tr>\n",
              "      <th>Canceled (Canceled)</th>\n",
              "      <td>12</td>\n",
              "      <td>12</td>\n",
              "      <td>12</td>\n",
              "      <td>12</td>\n",
              "      <td>12</td>\n",
              "      <td>12</td>\n",
              "      <td>12</td>\n",
              "      <td>12</td>\n",
              "      <td>12</td>\n",
              "      <td>12</td>\n",
              "      <td>12</td>\n",
              "      <td>12</td>\n",
              "      <td>12</td>\n",
              "    </tr>\n",
              "    <tr>\n",
              "      <th>New EP/Music Development</th>\n",
              "      <td>40</td>\n",
              "      <td>40</td>\n",
              "      <td>40</td>\n",
              "      <td>40</td>\n",
              "      <td>40</td>\n",
              "      <td>40</td>\n",
              "      <td>40</td>\n",
              "      <td>40</td>\n",
              "      <td>40</td>\n",
              "      <td>40</td>\n",
              "      <td>13</td>\n",
              "      <td>40</td>\n",
              "      <td>40</td>\n",
              "    </tr>\n",
              "  </tbody>\n",
              "</table>\n",
              "<p>370 rows × 13 columns</p>\n",
              "</div>"
            ],
            "text/plain": [
              "                          category  ...  usd_goal_real\n",
              "name                                ...               \n",
              "Touch                            2  ...              2\n",
              "Voiceless                        2  ...              2\n",
              "Tough Love                       2  ...              2\n",
              "Awakening                        2  ...              2\n",
              "Monsters                         2  ...              2\n",
              "...                            ...  ...            ...\n",
              "Debut Album                      9  ...              9\n",
              "N/A (Canceled)                  10  ...             10\n",
              "Music Video                     10  ...             10\n",
              "Canceled (Canceled)             12  ...             12\n",
              "New EP/Music Development        40  ...             40\n",
              "\n",
              "[370 rows x 13 columns]"
            ]
          },
          "metadata": {
            "tags": []
          },
          "execution_count": 119
        }
      ]
    },
    {
      "cell_type": "code",
      "metadata": {
        "id": "_FnpitMcilxV",
        "colab_type": "code",
        "colab": {
          "base_uri": "https://localhost:8080/",
          "height": 228
        },
        "outputId": "3665f1f0-2f5a-46e3-d491-9386b15d839d"
      },
      "source": [
        "dNcount = duplicatedName.name.groupby([duplicatedName.name]).count()\n",
        "dNcount = dNcount.sort_values()\n",
        "dNcount[dNcount>1]"
      ],
      "execution_count": null,
      "outputs": [
        {
          "output_type": "execute_result",
          "data": {
            "text/plain": [
              "name\n",
              "Touch                        2\n",
              "Voiceless                    2\n",
              "Tough Love                   2\n",
              "Awakening                    2\n",
              "Monsters                     2\n",
              "                            ..\n",
              "Debut Album                  9\n",
              "N/A (Canceled)              10\n",
              "Music Video                 10\n",
              "Canceled (Canceled)         12\n",
              "New EP/Music Development    40\n",
              "Name: name, Length: 370, dtype: int64"
            ]
          },
          "metadata": {
            "tags": []
          },
          "execution_count": 120
        }
      ]
    },
    {
      "cell_type": "markdown",
      "metadata": {
        "colab_type": "text",
        "id": "NeVjrYP2YSu2"
      },
      "source": [
        "# 1.3. Despersonalizar datos y guardarlos en un nuevo archivo"
      ]
    },
    {
      "cell_type": "markdown",
      "metadata": {
        "colab_type": "text",
        "id": "oKIo48BBYSu3"
      },
      "source": [
        "Hay muuuchas técnicas para despersonalizar datos.\n",
        "\n",
        "Para ilustrar mostramos las ofrecidas por Google https://cloud.google.com/dlp/docs/transformations-reference:\n",
        "\n",
        "* **Reemplazo**: Reemplaza cada valor de entrada con un valor determinado.\n",
        "* **Ocultamiento**: Quita un valor y lo oculta.\n",
        "* **Enmascaramiento con caracteres**: Enmascara una string por completo o parcialmente mediante el reemplazo de un número determinado de caracteres con un carácter fijo especificado..\n",
        "* **Seudonimización mediante el reemplazo de un valor de entrada con un hash criptográfico**: Reemplaza valores de entrada con una string hexadecimal de 32 bytes mediante una clave de encriptación de datos.\n",
        "* **Cambio de fechas**: Cambia las fechas por un número de días al azar, con la opción de ser coherente en el mismo contexto..\n",
        "* **Seudonimización mediante el reemplazo con token de preservación de formato criptográfico**: Reemplaza un valor de entrada con un token, o valor sustituto, de la misma longitud mediante la encriptación de preservación de formato (FPE) con el modo de operación FFX. Esto permite que se use el resultado en sistemas con validación de formato o que necesitan aparecer como reales a pesar de que la información no se revela.\n",
        "* **Valores de depósito con base en rangos de tamaño fijos**: Enmascara los valores de entrada y los reemplaza por depósitos, o rangos dentro de los cuales se encuentra el valor de entrada.\n",
        "* **Valores de depósito con base en rangos de tamaño personalizados**: Valores de entrada de depósito con base en rangos configurables por el usuario y valores de reemplazo.\n",
        "* **Extracción de datos de tiempo**: EExtrae o preserva una porción de los valores Date, Timestamp y TimeOfDay."
      ]
    },
    {
      "cell_type": "code",
      "metadata": {
        "colab_type": "code",
        "id": "VQ5HQI73YSu3",
        "colab": {}
      },
      "source": [
        "from hashlib import md5"
      ],
      "execution_count": null,
      "outputs": []
    },
    {
      "cell_type": "code",
      "metadata": {
        "colab_type": "code",
        "id": "Dv1gB3GpYSvF",
        "colab": {
          "base_uri": "https://localhost:8080/",
          "height": 228
        },
        "outputId": "65492d5b-b2ff-46a2-96b8-278a9a07e9f8"
      },
      "source": [
        "def hashit(val):\n",
        "    if isinstance(val, float): \n",
        "        return str(val)\n",
        "    return md5(val.encode('utf-8')).hexdigest()\n",
        "\n",
        "\n",
        "kickstarter_2018['name'].apply(hashit)"
      ],
      "execution_count": null,
      "outputs": [
        {
          "output_type": "execute_result",
          "data": {
            "text/plain": [
              "ID\n",
              "1000002330    a6828ae8a2eca25f0dd7035efc0af0a0\n",
              "1000003930    81609b3bdc0b96f429672d69702f2524\n",
              "1000004038    c12f5c3bace2f0213cdb2679a265dca0\n",
              "1000007540    4dbdcf09c86bbf5683ec39bc57b77f81\n",
              "1000011046    9c01404a2ef702811c2088ce139042ad\n",
              "                            ...               \n",
              "999976400     d89228576343394467096843057f3aa4\n",
              "999977640     bbcb30bd9bd4f9bff0a96fc44d0001f0\n",
              "999986353     6c3094666e1a315b6e179566fe3972d9\n",
              "999987933     887be409ad8b93f26084845a41d4c178\n",
              "999988282     11f7ae3385c567df409deb5f4ac9a2a5\n",
              "Name: name, Length: 378661, dtype: object"
            ]
          },
          "metadata": {
            "tags": []
          },
          "execution_count": 122
        }
      ]
    },
    {
      "cell_type": "markdown",
      "metadata": {
        "id": "iMPq6FjikX9S",
        "colab_type": "text"
      },
      "source": [
        "#### Ejercicio 2:\n",
        "\n",
        "Verificar que los proyectos que tienen nombres duplicados también tienen el hash de nombre duplicado"
      ]
    },
    {
      "cell_type": "code",
      "metadata": {
        "id": "_fqFKzCU8FFM",
        "colab_type": "code",
        "colab": {
          "base_uri": "https://localhost:8080/",
          "height": 582
        },
        "outputId": "500b7a76-7d34-4c08-ab45-af12481b295d"
      },
      "source": [
        "kickstarter_2018['name'] = kickstarter_2018['name'].apply(hashit)\n",
        "\n",
        "kickstarter_2018"
      ],
      "execution_count": null,
      "outputs": [
        {
          "output_type": "execute_result",
          "data": {
            "text/html": [
              "<div>\n",
              "<style scoped>\n",
              "    .dataframe tbody tr th:only-of-type {\n",
              "        vertical-align: middle;\n",
              "    }\n",
              "\n",
              "    .dataframe tbody tr th {\n",
              "        vertical-align: top;\n",
              "    }\n",
              "\n",
              "    .dataframe thead th {\n",
              "        text-align: right;\n",
              "    }\n",
              "</style>\n",
              "<table border=\"1\" class=\"dataframe\">\n",
              "  <thead>\n",
              "    <tr style=\"text-align: right;\">\n",
              "      <th></th>\n",
              "      <th>name</th>\n",
              "      <th>category</th>\n",
              "      <th>main_category</th>\n",
              "      <th>currency</th>\n",
              "      <th>deadline</th>\n",
              "      <th>goal</th>\n",
              "      <th>launched</th>\n",
              "      <th>pledged</th>\n",
              "      <th>state</th>\n",
              "      <th>backers</th>\n",
              "      <th>country</th>\n",
              "      <th>usd pledged</th>\n",
              "      <th>usd_pledged_real</th>\n",
              "      <th>usd_goal_real</th>\n",
              "    </tr>\n",
              "    <tr>\n",
              "      <th>ID</th>\n",
              "      <th></th>\n",
              "      <th></th>\n",
              "      <th></th>\n",
              "      <th></th>\n",
              "      <th></th>\n",
              "      <th></th>\n",
              "      <th></th>\n",
              "      <th></th>\n",
              "      <th></th>\n",
              "      <th></th>\n",
              "      <th></th>\n",
              "      <th></th>\n",
              "      <th></th>\n",
              "      <th></th>\n",
              "    </tr>\n",
              "  </thead>\n",
              "  <tbody>\n",
              "    <tr>\n",
              "      <th>1000002330</th>\n",
              "      <td>a6828ae8a2eca25f0dd7035efc0af0a0</td>\n",
              "      <td>Poetry</td>\n",
              "      <td>Publishing</td>\n",
              "      <td>GBP</td>\n",
              "      <td>2015-10-09</td>\n",
              "      <td>1000.00</td>\n",
              "      <td>2015-08-11 12:12:28</td>\n",
              "      <td>0.00</td>\n",
              "      <td>failed</td>\n",
              "      <td>0</td>\n",
              "      <td>GB</td>\n",
              "      <td>0.00</td>\n",
              "      <td>0.00</td>\n",
              "      <td>1533.95</td>\n",
              "    </tr>\n",
              "    <tr>\n",
              "      <th>1000003930</th>\n",
              "      <td>81609b3bdc0b96f429672d69702f2524</td>\n",
              "      <td>Narrative Film</td>\n",
              "      <td>Film &amp; Video</td>\n",
              "      <td>USD</td>\n",
              "      <td>2017-11-01</td>\n",
              "      <td>30000.00</td>\n",
              "      <td>2017-09-02 04:43:57</td>\n",
              "      <td>2421.00</td>\n",
              "      <td>failed</td>\n",
              "      <td>15</td>\n",
              "      <td>US</td>\n",
              "      <td>100.00</td>\n",
              "      <td>2421.00</td>\n",
              "      <td>30000.00</td>\n",
              "    </tr>\n",
              "    <tr>\n",
              "      <th>1000004038</th>\n",
              "      <td>c12f5c3bace2f0213cdb2679a265dca0</td>\n",
              "      <td>Narrative Film</td>\n",
              "      <td>Film &amp; Video</td>\n",
              "      <td>USD</td>\n",
              "      <td>2013-02-26</td>\n",
              "      <td>45000.00</td>\n",
              "      <td>2013-01-12 00:20:50</td>\n",
              "      <td>220.00</td>\n",
              "      <td>failed</td>\n",
              "      <td>3</td>\n",
              "      <td>US</td>\n",
              "      <td>220.00</td>\n",
              "      <td>220.00</td>\n",
              "      <td>45000.00</td>\n",
              "    </tr>\n",
              "    <tr>\n",
              "      <th>1000007540</th>\n",
              "      <td>4dbdcf09c86bbf5683ec39bc57b77f81</td>\n",
              "      <td>Music</td>\n",
              "      <td>Music</td>\n",
              "      <td>USD</td>\n",
              "      <td>2012-04-16</td>\n",
              "      <td>5000.00</td>\n",
              "      <td>2012-03-17 03:24:11</td>\n",
              "      <td>1.00</td>\n",
              "      <td>failed</td>\n",
              "      <td>1</td>\n",
              "      <td>US</td>\n",
              "      <td>1.00</td>\n",
              "      <td>1.00</td>\n",
              "      <td>5000.00</td>\n",
              "    </tr>\n",
              "    <tr>\n",
              "      <th>1000011046</th>\n",
              "      <td>9c01404a2ef702811c2088ce139042ad</td>\n",
              "      <td>Film &amp; Video</td>\n",
              "      <td>Film &amp; Video</td>\n",
              "      <td>USD</td>\n",
              "      <td>2015-08-29</td>\n",
              "      <td>19500.00</td>\n",
              "      <td>2015-07-04 08:35:03</td>\n",
              "      <td>1283.00</td>\n",
              "      <td>canceled</td>\n",
              "      <td>14</td>\n",
              "      <td>US</td>\n",
              "      <td>1283.00</td>\n",
              "      <td>1283.00</td>\n",
              "      <td>19500.00</td>\n",
              "    </tr>\n",
              "    <tr>\n",
              "      <th>...</th>\n",
              "      <td>...</td>\n",
              "      <td>...</td>\n",
              "      <td>...</td>\n",
              "      <td>...</td>\n",
              "      <td>...</td>\n",
              "      <td>...</td>\n",
              "      <td>...</td>\n",
              "      <td>...</td>\n",
              "      <td>...</td>\n",
              "      <td>...</td>\n",
              "      <td>...</td>\n",
              "      <td>...</td>\n",
              "      <td>...</td>\n",
              "      <td>...</td>\n",
              "    </tr>\n",
              "    <tr>\n",
              "      <th>999976400</th>\n",
              "      <td>d89228576343394467096843057f3aa4</td>\n",
              "      <td>Documentary</td>\n",
              "      <td>Film &amp; Video</td>\n",
              "      <td>USD</td>\n",
              "      <td>2014-10-17</td>\n",
              "      <td>50000.00</td>\n",
              "      <td>2014-09-17 02:35:30</td>\n",
              "      <td>25.00</td>\n",
              "      <td>canceled</td>\n",
              "      <td>1</td>\n",
              "      <td>US</td>\n",
              "      <td>25.00</td>\n",
              "      <td>25.00</td>\n",
              "      <td>50000.00</td>\n",
              "    </tr>\n",
              "    <tr>\n",
              "      <th>999977640</th>\n",
              "      <td>bbcb30bd9bd4f9bff0a96fc44d0001f0</td>\n",
              "      <td>Narrative Film</td>\n",
              "      <td>Film &amp; Video</td>\n",
              "      <td>USD</td>\n",
              "      <td>2011-07-19</td>\n",
              "      <td>1500.00</td>\n",
              "      <td>2011-06-22 03:35:14</td>\n",
              "      <td>155.00</td>\n",
              "      <td>failed</td>\n",
              "      <td>5</td>\n",
              "      <td>US</td>\n",
              "      <td>155.00</td>\n",
              "      <td>155.00</td>\n",
              "      <td>1500.00</td>\n",
              "    </tr>\n",
              "    <tr>\n",
              "      <th>999986353</th>\n",
              "      <td>6c3094666e1a315b6e179566fe3972d9</td>\n",
              "      <td>Narrative Film</td>\n",
              "      <td>Film &amp; Video</td>\n",
              "      <td>USD</td>\n",
              "      <td>2010-08-16</td>\n",
              "      <td>15000.00</td>\n",
              "      <td>2010-07-01 19:40:30</td>\n",
              "      <td>20.00</td>\n",
              "      <td>failed</td>\n",
              "      <td>1</td>\n",
              "      <td>US</td>\n",
              "      <td>20.00</td>\n",
              "      <td>20.00</td>\n",
              "      <td>15000.00</td>\n",
              "    </tr>\n",
              "    <tr>\n",
              "      <th>999987933</th>\n",
              "      <td>887be409ad8b93f26084845a41d4c178</td>\n",
              "      <td>Technology</td>\n",
              "      <td>Technology</td>\n",
              "      <td>USD</td>\n",
              "      <td>2016-02-13</td>\n",
              "      <td>15000.00</td>\n",
              "      <td>2016-01-13 18:13:53</td>\n",
              "      <td>200.00</td>\n",
              "      <td>failed</td>\n",
              "      <td>6</td>\n",
              "      <td>US</td>\n",
              "      <td>200.00</td>\n",
              "      <td>200.00</td>\n",
              "      <td>15000.00</td>\n",
              "    </tr>\n",
              "    <tr>\n",
              "      <th>999988282</th>\n",
              "      <td>11f7ae3385c567df409deb5f4ac9a2a5</td>\n",
              "      <td>Performance Art</td>\n",
              "      <td>Art</td>\n",
              "      <td>USD</td>\n",
              "      <td>2011-08-16</td>\n",
              "      <td>2000.00</td>\n",
              "      <td>2011-07-19 09:07:47</td>\n",
              "      <td>524.00</td>\n",
              "      <td>failed</td>\n",
              "      <td>17</td>\n",
              "      <td>US</td>\n",
              "      <td>524.00</td>\n",
              "      <td>524.00</td>\n",
              "      <td>2000.00</td>\n",
              "    </tr>\n",
              "  </tbody>\n",
              "</table>\n",
              "<p>378661 rows × 14 columns</p>\n",
              "</div>"
            ],
            "text/plain": [
              "                                        name  ... usd_goal_real\n",
              "ID                                            ...              \n",
              "1000002330  a6828ae8a2eca25f0dd7035efc0af0a0  ...       1533.95\n",
              "1000003930  81609b3bdc0b96f429672d69702f2524  ...      30000.00\n",
              "1000004038  c12f5c3bace2f0213cdb2679a265dca0  ...      45000.00\n",
              "1000007540  4dbdcf09c86bbf5683ec39bc57b77f81  ...       5000.00\n",
              "1000011046  9c01404a2ef702811c2088ce139042ad  ...      19500.00\n",
              "...                                      ...  ...           ...\n",
              "999976400   d89228576343394467096843057f3aa4  ...      50000.00\n",
              "999977640   bbcb30bd9bd4f9bff0a96fc44d0001f0  ...       1500.00\n",
              "999986353   6c3094666e1a315b6e179566fe3972d9  ...      15000.00\n",
              "999987933   887be409ad8b93f26084845a41d4c178  ...      15000.00\n",
              "999988282   11f7ae3385c567df409deb5f4ac9a2a5  ...       2000.00\n",
              "\n",
              "[378661 rows x 14 columns]"
            ]
          },
          "metadata": {
            "tags": []
          },
          "execution_count": 123
        }
      ]
    },
    {
      "cell_type": "code",
      "metadata": {
        "id": "cjOYwfHpBwQL",
        "colab_type": "code",
        "colab": {
          "base_uri": "https://localhost:8080/",
          "height": 598
        },
        "outputId": "dc4a1e14-0f7e-41af-e2f8-ef848a5ae3be"
      },
      "source": [
        "duplicatedName = kickstarter_2018[kickstarter_2018.name.duplicated()]\n",
        "duplicatedName\n"
      ],
      "execution_count": null,
      "outputs": [
        {
          "output_type": "execute_result",
          "data": {
            "text/html": [
              "<div>\n",
              "<style scoped>\n",
              "    .dataframe tbody tr th:only-of-type {\n",
              "        vertical-align: middle;\n",
              "    }\n",
              "\n",
              "    .dataframe tbody tr th {\n",
              "        vertical-align: top;\n",
              "    }\n",
              "\n",
              "    .dataframe thead th {\n",
              "        text-align: right;\n",
              "    }\n",
              "</style>\n",
              "<table border=\"1\" class=\"dataframe\">\n",
              "  <thead>\n",
              "    <tr style=\"text-align: right;\">\n",
              "      <th></th>\n",
              "      <th>name</th>\n",
              "      <th>category</th>\n",
              "      <th>main_category</th>\n",
              "      <th>currency</th>\n",
              "      <th>deadline</th>\n",
              "      <th>goal</th>\n",
              "      <th>launched</th>\n",
              "      <th>pledged</th>\n",
              "      <th>state</th>\n",
              "      <th>backers</th>\n",
              "      <th>country</th>\n",
              "      <th>usd pledged</th>\n",
              "      <th>usd_pledged_real</th>\n",
              "      <th>usd_goal_real</th>\n",
              "    </tr>\n",
              "    <tr>\n",
              "      <th>ID</th>\n",
              "      <th></th>\n",
              "      <th></th>\n",
              "      <th></th>\n",
              "      <th></th>\n",
              "      <th></th>\n",
              "      <th></th>\n",
              "      <th></th>\n",
              "      <th></th>\n",
              "      <th></th>\n",
              "      <th></th>\n",
              "      <th></th>\n",
              "      <th></th>\n",
              "      <th></th>\n",
              "      <th></th>\n",
              "    </tr>\n",
              "  </thead>\n",
              "  <tbody>\n",
              "    <tr>\n",
              "      <th>1032645935</th>\n",
              "      <td>e989b2474d8166d65884d9db8db14ffc</td>\n",
              "      <td>Design</td>\n",
              "      <td>Design</td>\n",
              "      <td>USD</td>\n",
              "      <td>2015-06-05</td>\n",
              "      <td>100000.00</td>\n",
              "      <td>2015-05-06 12:29:08</td>\n",
              "      <td>3105.00</td>\n",
              "      <td>canceled</td>\n",
              "      <td>17</td>\n",
              "      <td>US</td>\n",
              "      <td>3105.00</td>\n",
              "      <td>3105.00</td>\n",
              "      <td>100000.00</td>\n",
              "    </tr>\n",
              "    <tr>\n",
              "      <th>1039093987</th>\n",
              "      <td>2cdff1887ad0f0d341ca3f08841de3a0</td>\n",
              "      <td>Music</td>\n",
              "      <td>Music</td>\n",
              "      <td>USD</td>\n",
              "      <td>2016-01-07</td>\n",
              "      <td>3800.00</td>\n",
              "      <td>2015-11-24 15:29:35</td>\n",
              "      <td>257.00</td>\n",
              "      <td>undefined</td>\n",
              "      <td>0</td>\n",
              "      <td>N,0\"</td>\n",
              "      <td>nan</td>\n",
              "      <td>257.00</td>\n",
              "      <td>3800.00</td>\n",
              "    </tr>\n",
              "    <tr>\n",
              "      <th>1042208764</th>\n",
              "      <td>5c6f20ac35d1425e100eceb428c31eda</td>\n",
              "      <td>Horror</td>\n",
              "      <td>Film &amp; Video</td>\n",
              "      <td>USD</td>\n",
              "      <td>2015-05-07</td>\n",
              "      <td>12000.00</td>\n",
              "      <td>2015-04-07 18:24:19</td>\n",
              "      <td>12311.00</td>\n",
              "      <td>successful</td>\n",
              "      <td>106</td>\n",
              "      <td>US</td>\n",
              "      <td>12311.00</td>\n",
              "      <td>12311.00</td>\n",
              "      <td>12000.00</td>\n",
              "    </tr>\n",
              "    <tr>\n",
              "      <th>1042642941</th>\n",
              "      <td>a47a79393e6fc05d4611c952cebfc3de</td>\n",
              "      <td>Film &amp; Video</td>\n",
              "      <td>Film &amp; Video</td>\n",
              "      <td>USD</td>\n",
              "      <td>2013-05-08</td>\n",
              "      <td>3000.00</td>\n",
              "      <td>2013-04-17 01:55:27</td>\n",
              "      <td>3370.00</td>\n",
              "      <td>successful</td>\n",
              "      <td>37</td>\n",
              "      <td>US</td>\n",
              "      <td>3370.00</td>\n",
              "      <td>3370.00</td>\n",
              "      <td>3000.00</td>\n",
              "    </tr>\n",
              "    <tr>\n",
              "      <th>1044230780</th>\n",
              "      <td>c20567dd64cdb8fe0c5ab3f8561396c1</td>\n",
              "      <td>Narrative Film</td>\n",
              "      <td>Film &amp; Video</td>\n",
              "      <td>USD</td>\n",
              "      <td>2012-08-25</td>\n",
              "      <td>11000.00</td>\n",
              "      <td>2012-06-26 19:13:21</td>\n",
              "      <td>11440.00</td>\n",
              "      <td>successful</td>\n",
              "      <td>67</td>\n",
              "      <td>US</td>\n",
              "      <td>11440.00</td>\n",
              "      <td>11440.00</td>\n",
              "      <td>11000.00</td>\n",
              "    </tr>\n",
              "    <tr>\n",
              "      <th>...</th>\n",
              "      <td>...</td>\n",
              "      <td>...</td>\n",
              "      <td>...</td>\n",
              "      <td>...</td>\n",
              "      <td>...</td>\n",
              "      <td>...</td>\n",
              "      <td>...</td>\n",
              "      <td>...</td>\n",
              "      <td>...</td>\n",
              "      <td>...</td>\n",
              "      <td>...</td>\n",
              "      <td>...</td>\n",
              "      <td>...</td>\n",
              "      <td>...</td>\n",
              "    </tr>\n",
              "    <tr>\n",
              "      <th>997542782</th>\n",
              "      <td>c93f3425f1f63a15d9df2dfc23020639</td>\n",
              "      <td>Indie Rock</td>\n",
              "      <td>Music</td>\n",
              "      <td>USD</td>\n",
              "      <td>2015-01-25</td>\n",
              "      <td>300.00</td>\n",
              "      <td>2014-12-26 18:04:28</td>\n",
              "      <td>600.00</td>\n",
              "      <td>successful</td>\n",
              "      <td>15</td>\n",
              "      <td>US</td>\n",
              "      <td>600.00</td>\n",
              "      <td>600.00</td>\n",
              "      <td>300.00</td>\n",
              "    </tr>\n",
              "    <tr>\n",
              "      <th>997919903</th>\n",
              "      <td>707bc5005aaa02dad9cfcc619b58f715</td>\n",
              "      <td>Publishing</td>\n",
              "      <td>Publishing</td>\n",
              "      <td>EUR</td>\n",
              "      <td>2017-09-14</td>\n",
              "      <td>10000.00</td>\n",
              "      <td>2017-08-15 18:36:18</td>\n",
              "      <td>21.00</td>\n",
              "      <td>failed</td>\n",
              "      <td>3</td>\n",
              "      <td>IE</td>\n",
              "      <td>0.00</td>\n",
              "      <td>25.12</td>\n",
              "      <td>11963.01</td>\n",
              "    </tr>\n",
              "    <tr>\n",
              "      <th>998836498</th>\n",
              "      <td>1c094d6b9041a60064f466070421858a</td>\n",
              "      <td>Camera Equipment</td>\n",
              "      <td>Technology</td>\n",
              "      <td>USD</td>\n",
              "      <td>2016-07-29</td>\n",
              "      <td>80000.00</td>\n",
              "      <td>2016-06-28 04:00:08</td>\n",
              "      <td>670.00</td>\n",
              "      <td>canceled</td>\n",
              "      <td>5</td>\n",
              "      <td>US</td>\n",
              "      <td>410.00</td>\n",
              "      <td>670.00</td>\n",
              "      <td>80000.00</td>\n",
              "    </tr>\n",
              "    <tr>\n",
              "      <th>999055513</th>\n",
              "      <td>50a1b06551c4cfb3720ab8332135d6f7</td>\n",
              "      <td>Rock</td>\n",
              "      <td>Music</td>\n",
              "      <td>USD</td>\n",
              "      <td>2012-06-03</td>\n",
              "      <td>5500.00</td>\n",
              "      <td>2012-05-04 15:20:41</td>\n",
              "      <td>7665.00</td>\n",
              "      <td>successful</td>\n",
              "      <td>69</td>\n",
              "      <td>US</td>\n",
              "      <td>7665.00</td>\n",
              "      <td>7665.00</td>\n",
              "      <td>5500.00</td>\n",
              "    </tr>\n",
              "    <tr>\n",
              "      <th>999410766</th>\n",
              "      <td>f1529f88df2bd78ecc8ba0d52ac6fbc2</td>\n",
              "      <td>Shorts</td>\n",
              "      <td>Film &amp; Video</td>\n",
              "      <td>USD</td>\n",
              "      <td>2014-05-16</td>\n",
              "      <td>65000.00</td>\n",
              "      <td>2014-04-16 17:45:46</td>\n",
              "      <td>791.00</td>\n",
              "      <td>failed</td>\n",
              "      <td>7</td>\n",
              "      <td>US</td>\n",
              "      <td>791.00</td>\n",
              "      <td>791.00</td>\n",
              "      <td>65000.00</td>\n",
              "    </tr>\n",
              "  </tbody>\n",
              "</table>\n",
              "<p>2896 rows × 14 columns</p>\n",
              "</div>"
            ],
            "text/plain": [
              "                                        name  ... usd_goal_real\n",
              "ID                                            ...              \n",
              "1032645935  e989b2474d8166d65884d9db8db14ffc  ...     100000.00\n",
              "1039093987  2cdff1887ad0f0d341ca3f08841de3a0  ...       3800.00\n",
              "1042208764  5c6f20ac35d1425e100eceb428c31eda  ...      12000.00\n",
              "1042642941  a47a79393e6fc05d4611c952cebfc3de  ...       3000.00\n",
              "1044230780  c20567dd64cdb8fe0c5ab3f8561396c1  ...      11000.00\n",
              "...                                      ...  ...           ...\n",
              "997542782   c93f3425f1f63a15d9df2dfc23020639  ...        300.00\n",
              "997919903   707bc5005aaa02dad9cfcc619b58f715  ...      11963.01\n",
              "998836498   1c094d6b9041a60064f466070421858a  ...      80000.00\n",
              "999055513   50a1b06551c4cfb3720ab8332135d6f7  ...       5500.00\n",
              "999410766   f1529f88df2bd78ecc8ba0d52ac6fbc2  ...      65000.00\n",
              "\n",
              "[2896 rows x 14 columns]"
            ]
          },
          "metadata": {
            "tags": []
          },
          "execution_count": 124
        }
      ]
    },
    {
      "cell_type": "code",
      "metadata": {
        "id": "H0xG5mAPCBYC",
        "colab_type": "code",
        "colab": {
          "base_uri": "https://localhost:8080/",
          "height": 420
        },
        "outputId": "55a147d4-8fe0-4d1b-d43d-2a2933524390"
      },
      "source": [
        "dNcount = duplicatedName.groupby([duplicatedName.name]).count()\n",
        "dNcount = dNcount.sort_values(by=['category'])\n",
        "dNcount = dNcount[dNcount.category > 1]\n",
        "dNcount"
      ],
      "execution_count": null,
      "outputs": [
        {
          "output_type": "execute_result",
          "data": {
            "text/html": [
              "<div>\n",
              "<style scoped>\n",
              "    .dataframe tbody tr th:only-of-type {\n",
              "        vertical-align: middle;\n",
              "    }\n",
              "\n",
              "    .dataframe tbody tr th {\n",
              "        vertical-align: top;\n",
              "    }\n",
              "\n",
              "    .dataframe thead th {\n",
              "        text-align: right;\n",
              "    }\n",
              "</style>\n",
              "<table border=\"1\" class=\"dataframe\">\n",
              "  <thead>\n",
              "    <tr style=\"text-align: right;\">\n",
              "      <th></th>\n",
              "      <th>category</th>\n",
              "      <th>main_category</th>\n",
              "      <th>currency</th>\n",
              "      <th>deadline</th>\n",
              "      <th>goal</th>\n",
              "      <th>launched</th>\n",
              "      <th>pledged</th>\n",
              "      <th>state</th>\n",
              "      <th>backers</th>\n",
              "      <th>country</th>\n",
              "      <th>usd pledged</th>\n",
              "      <th>usd_pledged_real</th>\n",
              "      <th>usd_goal_real</th>\n",
              "    </tr>\n",
              "    <tr>\n",
              "      <th>name</th>\n",
              "      <th></th>\n",
              "      <th></th>\n",
              "      <th></th>\n",
              "      <th></th>\n",
              "      <th></th>\n",
              "      <th></th>\n",
              "      <th></th>\n",
              "      <th></th>\n",
              "      <th></th>\n",
              "      <th></th>\n",
              "      <th></th>\n",
              "      <th></th>\n",
              "      <th></th>\n",
              "    </tr>\n",
              "  </thead>\n",
              "  <tbody>\n",
              "    <tr>\n",
              "      <th>5f325c99d5b9572c7cf5efab801200a4</th>\n",
              "      <td>2</td>\n",
              "      <td>2</td>\n",
              "      <td>2</td>\n",
              "      <td>2</td>\n",
              "      <td>2</td>\n",
              "      <td>2</td>\n",
              "      <td>2</td>\n",
              "      <td>2</td>\n",
              "      <td>2</td>\n",
              "      <td>2</td>\n",
              "      <td>2</td>\n",
              "      <td>2</td>\n",
              "      <td>2</td>\n",
              "    </tr>\n",
              "    <tr>\n",
              "      <th>732e3cac31f26338c08b878e326df9d9</th>\n",
              "      <td>2</td>\n",
              "      <td>2</td>\n",
              "      <td>2</td>\n",
              "      <td>2</td>\n",
              "      <td>2</td>\n",
              "      <td>2</td>\n",
              "      <td>2</td>\n",
              "      <td>2</td>\n",
              "      <td>2</td>\n",
              "      <td>2</td>\n",
              "      <td>2</td>\n",
              "      <td>2</td>\n",
              "      <td>2</td>\n",
              "    </tr>\n",
              "    <tr>\n",
              "      <th>15fb6ccbd11ebebcea2b48dc477f3561</th>\n",
              "      <td>2</td>\n",
              "      <td>2</td>\n",
              "      <td>2</td>\n",
              "      <td>2</td>\n",
              "      <td>2</td>\n",
              "      <td>2</td>\n",
              "      <td>2</td>\n",
              "      <td>2</td>\n",
              "      <td>2</td>\n",
              "      <td>2</td>\n",
              "      <td>2</td>\n",
              "      <td>2</td>\n",
              "      <td>2</td>\n",
              "    </tr>\n",
              "    <tr>\n",
              "      <th>73bdb8ef49a4688c75c557bb87f97a71</th>\n",
              "      <td>2</td>\n",
              "      <td>2</td>\n",
              "      <td>2</td>\n",
              "      <td>2</td>\n",
              "      <td>2</td>\n",
              "      <td>2</td>\n",
              "      <td>2</td>\n",
              "      <td>2</td>\n",
              "      <td>2</td>\n",
              "      <td>2</td>\n",
              "      <td>2</td>\n",
              "      <td>2</td>\n",
              "      <td>2</td>\n",
              "    </tr>\n",
              "    <tr>\n",
              "      <th>ef97df9d746d0e65ed18786ab30031c6</th>\n",
              "      <td>2</td>\n",
              "      <td>2</td>\n",
              "      <td>2</td>\n",
              "      <td>2</td>\n",
              "      <td>2</td>\n",
              "      <td>2</td>\n",
              "      <td>2</td>\n",
              "      <td>2</td>\n",
              "      <td>2</td>\n",
              "      <td>2</td>\n",
              "      <td>2</td>\n",
              "      <td>2</td>\n",
              "      <td>2</td>\n",
              "    </tr>\n",
              "    <tr>\n",
              "      <th>...</th>\n",
              "      <td>...</td>\n",
              "      <td>...</td>\n",
              "      <td>...</td>\n",
              "      <td>...</td>\n",
              "      <td>...</td>\n",
              "      <td>...</td>\n",
              "      <td>...</td>\n",
              "      <td>...</td>\n",
              "      <td>...</td>\n",
              "      <td>...</td>\n",
              "      <td>...</td>\n",
              "      <td>...</td>\n",
              "      <td>...</td>\n",
              "    </tr>\n",
              "    <tr>\n",
              "      <th>96d27ad875925beb1831132598186ec3</th>\n",
              "      <td>9</td>\n",
              "      <td>9</td>\n",
              "      <td>9</td>\n",
              "      <td>9</td>\n",
              "      <td>9</td>\n",
              "      <td>9</td>\n",
              "      <td>9</td>\n",
              "      <td>9</td>\n",
              "      <td>9</td>\n",
              "      <td>9</td>\n",
              "      <td>9</td>\n",
              "      <td>9</td>\n",
              "      <td>9</td>\n",
              "    </tr>\n",
              "    <tr>\n",
              "      <th>bb0d40fce79ff056d5eec41d7209280c</th>\n",
              "      <td>10</td>\n",
              "      <td>10</td>\n",
              "      <td>10</td>\n",
              "      <td>10</td>\n",
              "      <td>10</td>\n",
              "      <td>10</td>\n",
              "      <td>10</td>\n",
              "      <td>10</td>\n",
              "      <td>10</td>\n",
              "      <td>10</td>\n",
              "      <td>10</td>\n",
              "      <td>10</td>\n",
              "      <td>10</td>\n",
              "    </tr>\n",
              "    <tr>\n",
              "      <th>1873b836100b3e0ce9ce1d919afbf68e</th>\n",
              "      <td>10</td>\n",
              "      <td>10</td>\n",
              "      <td>10</td>\n",
              "      <td>10</td>\n",
              "      <td>10</td>\n",
              "      <td>10</td>\n",
              "      <td>10</td>\n",
              "      <td>10</td>\n",
              "      <td>10</td>\n",
              "      <td>10</td>\n",
              "      <td>10</td>\n",
              "      <td>10</td>\n",
              "      <td>10</td>\n",
              "    </tr>\n",
              "    <tr>\n",
              "      <th>d1e13bf7ae0042f691c963643742b5a9</th>\n",
              "      <td>12</td>\n",
              "      <td>12</td>\n",
              "      <td>12</td>\n",
              "      <td>12</td>\n",
              "      <td>12</td>\n",
              "      <td>12</td>\n",
              "      <td>12</td>\n",
              "      <td>12</td>\n",
              "      <td>12</td>\n",
              "      <td>12</td>\n",
              "      <td>12</td>\n",
              "      <td>12</td>\n",
              "      <td>12</td>\n",
              "    </tr>\n",
              "    <tr>\n",
              "      <th>2cdff1887ad0f0d341ca3f08841de3a0</th>\n",
              "      <td>40</td>\n",
              "      <td>40</td>\n",
              "      <td>40</td>\n",
              "      <td>40</td>\n",
              "      <td>40</td>\n",
              "      <td>40</td>\n",
              "      <td>40</td>\n",
              "      <td>40</td>\n",
              "      <td>40</td>\n",
              "      <td>40</td>\n",
              "      <td>13</td>\n",
              "      <td>40</td>\n",
              "      <td>40</td>\n",
              "    </tr>\n",
              "  </tbody>\n",
              "</table>\n",
              "<p>371 rows × 13 columns</p>\n",
              "</div>"
            ],
            "text/plain": [
              "                                  category  ...  usd_goal_real\n",
              "name                                        ...               \n",
              "5f325c99d5b9572c7cf5efab801200a4         2  ...              2\n",
              "732e3cac31f26338c08b878e326df9d9         2  ...              2\n",
              "15fb6ccbd11ebebcea2b48dc477f3561         2  ...              2\n",
              "73bdb8ef49a4688c75c557bb87f97a71         2  ...              2\n",
              "ef97df9d746d0e65ed18786ab30031c6         2  ...              2\n",
              "...                                    ...  ...            ...\n",
              "96d27ad875925beb1831132598186ec3         9  ...              9\n",
              "bb0d40fce79ff056d5eec41d7209280c        10  ...             10\n",
              "1873b836100b3e0ce9ce1d919afbf68e        10  ...             10\n",
              "d1e13bf7ae0042f691c963643742b5a9        12  ...             12\n",
              "2cdff1887ad0f0d341ca3f08841de3a0        40  ...             40\n",
              "\n",
              "[371 rows x 13 columns]"
            ]
          },
          "metadata": {
            "tags": []
          },
          "execution_count": 125
        }
      ]
    },
    {
      "cell_type": "markdown",
      "metadata": {
        "colab_type": "text",
        "id": "XGk94uFaYSvI"
      },
      "source": [
        "# 1.4. Nunca modificar los datos crudos u originales\n"
      ]
    },
    {
      "cell_type": "code",
      "metadata": {
        "colab_type": "code",
        "id": "ZicBTqBaYSvJ",
        "colab": {}
      },
      "source": [
        "if not in_colab:\n",
        "  kickstarter_2018.to_csv(BASE_DIR + \"/output/ks-projects-201801-for-pandas.csv\")"
      ],
      "execution_count": null,
      "outputs": []
    },
    {
      "cell_type": "markdown",
      "metadata": {
        "colab_type": "text",
        "id": "XzR8-UpTIS8S"
      },
      "source": [
        "\n",
        "# 2. Pasos necesarios\n"
      ]
    },
    {
      "cell_type": "code",
      "metadata": {
        "colab_type": "code",
        "id": "jY_rB6dIIXTS",
        "colab": {}
      },
      "source": [
        "#import pandas as pd\n",
        "if not in_colab:\n",
        "  kickstarter_2018 = pd.read_csv(BASE_DIR + \"/output/ks-projects-201801-for-pandas.csv\",\n",
        "                        index_col='ID',\n",
        "                        parse_dates=['deadline','launched'])"
      ],
      "execution_count": null,
      "outputs": []
    },
    {
      "cell_type": "code",
      "metadata": {
        "colab_type": "code",
        "id": "dXFOyYeiIXTV",
        "colab": {
          "base_uri": "https://localhost:8080/",
          "height": 486
        },
        "outputId": "52d03e1d-5624-4351-f7c5-f719918b5ba3"
      },
      "source": [
        "kickstarter_2018.describe(include='all')"
      ],
      "execution_count": null,
      "outputs": [
        {
          "output_type": "execute_result",
          "data": {
            "text/html": [
              "<div>\n",
              "<style scoped>\n",
              "    .dataframe tbody tr th:only-of-type {\n",
              "        vertical-align: middle;\n",
              "    }\n",
              "\n",
              "    .dataframe tbody tr th {\n",
              "        vertical-align: top;\n",
              "    }\n",
              "\n",
              "    .dataframe thead th {\n",
              "        text-align: right;\n",
              "    }\n",
              "</style>\n",
              "<table border=\"1\" class=\"dataframe\">\n",
              "  <thead>\n",
              "    <tr style=\"text-align: right;\">\n",
              "      <th></th>\n",
              "      <th>name</th>\n",
              "      <th>category</th>\n",
              "      <th>main_category</th>\n",
              "      <th>currency</th>\n",
              "      <th>deadline</th>\n",
              "      <th>goal</th>\n",
              "      <th>launched</th>\n",
              "      <th>pledged</th>\n",
              "      <th>state</th>\n",
              "      <th>backers</th>\n",
              "      <th>country</th>\n",
              "      <th>usd pledged</th>\n",
              "      <th>usd_pledged_real</th>\n",
              "      <th>usd_goal_real</th>\n",
              "    </tr>\n",
              "  </thead>\n",
              "  <tbody>\n",
              "    <tr>\n",
              "      <th>count</th>\n",
              "      <td>378661</td>\n",
              "      <td>378661</td>\n",
              "      <td>378661</td>\n",
              "      <td>378661</td>\n",
              "      <td>378661</td>\n",
              "      <td>378661.00</td>\n",
              "      <td>378661</td>\n",
              "      <td>378661.00</td>\n",
              "      <td>378661</td>\n",
              "      <td>378661.00</td>\n",
              "      <td>378661</td>\n",
              "      <td>374864.00</td>\n",
              "      <td>378661.00</td>\n",
              "      <td>378661.00</td>\n",
              "    </tr>\n",
              "    <tr>\n",
              "      <th>unique</th>\n",
              "      <td>375765</td>\n",
              "      <td>159</td>\n",
              "      <td>15</td>\n",
              "      <td>14</td>\n",
              "      <td>3164</td>\n",
              "      <td>nan</td>\n",
              "      <td>378089</td>\n",
              "      <td>nan</td>\n",
              "      <td>6</td>\n",
              "      <td>nan</td>\n",
              "      <td>23</td>\n",
              "      <td>nan</td>\n",
              "      <td>nan</td>\n",
              "      <td>nan</td>\n",
              "    </tr>\n",
              "    <tr>\n",
              "      <th>top</th>\n",
              "      <td>2cdff1887ad0f0d341ca3f08841de3a0</td>\n",
              "      <td>Product Design</td>\n",
              "      <td>Film &amp; Video</td>\n",
              "      <td>USD</td>\n",
              "      <td>2014-08-08 00:00:00</td>\n",
              "      <td>nan</td>\n",
              "      <td>1970-01-01 01:00:00</td>\n",
              "      <td>nan</td>\n",
              "      <td>failed</td>\n",
              "      <td>nan</td>\n",
              "      <td>US</td>\n",
              "      <td>nan</td>\n",
              "      <td>nan</td>\n",
              "      <td>nan</td>\n",
              "    </tr>\n",
              "    <tr>\n",
              "      <th>freq</th>\n",
              "      <td>41</td>\n",
              "      <td>22314</td>\n",
              "      <td>63585</td>\n",
              "      <td>295365</td>\n",
              "      <td>705</td>\n",
              "      <td>nan</td>\n",
              "      <td>7</td>\n",
              "      <td>nan</td>\n",
              "      <td>197719</td>\n",
              "      <td>nan</td>\n",
              "      <td>292627</td>\n",
              "      <td>nan</td>\n",
              "      <td>nan</td>\n",
              "      <td>nan</td>\n",
              "    </tr>\n",
              "    <tr>\n",
              "      <th>first</th>\n",
              "      <td>NaN</td>\n",
              "      <td>NaN</td>\n",
              "      <td>NaN</td>\n",
              "      <td>NaN</td>\n",
              "      <td>2009-05-03 00:00:00</td>\n",
              "      <td>nan</td>\n",
              "      <td>1970-01-01 01:00:00</td>\n",
              "      <td>nan</td>\n",
              "      <td>NaN</td>\n",
              "      <td>nan</td>\n",
              "      <td>NaN</td>\n",
              "      <td>nan</td>\n",
              "      <td>nan</td>\n",
              "      <td>nan</td>\n",
              "    </tr>\n",
              "    <tr>\n",
              "      <th>last</th>\n",
              "      <td>NaN</td>\n",
              "      <td>NaN</td>\n",
              "      <td>NaN</td>\n",
              "      <td>NaN</td>\n",
              "      <td>2018-03-03 00:00:00</td>\n",
              "      <td>nan</td>\n",
              "      <td>2018-01-02 15:02:31</td>\n",
              "      <td>nan</td>\n",
              "      <td>NaN</td>\n",
              "      <td>nan</td>\n",
              "      <td>NaN</td>\n",
              "      <td>nan</td>\n",
              "      <td>nan</td>\n",
              "      <td>nan</td>\n",
              "    </tr>\n",
              "    <tr>\n",
              "      <th>mean</th>\n",
              "      <td>NaN</td>\n",
              "      <td>NaN</td>\n",
              "      <td>NaN</td>\n",
              "      <td>NaN</td>\n",
              "      <td>NaN</td>\n",
              "      <td>49080.79</td>\n",
              "      <td>NaN</td>\n",
              "      <td>9682.98</td>\n",
              "      <td>NaN</td>\n",
              "      <td>105.62</td>\n",
              "      <td>NaN</td>\n",
              "      <td>7036.73</td>\n",
              "      <td>9058.92</td>\n",
              "      <td>45454.40</td>\n",
              "    </tr>\n",
              "    <tr>\n",
              "      <th>std</th>\n",
              "      <td>NaN</td>\n",
              "      <td>NaN</td>\n",
              "      <td>NaN</td>\n",
              "      <td>NaN</td>\n",
              "      <td>NaN</td>\n",
              "      <td>1183391.26</td>\n",
              "      <td>NaN</td>\n",
              "      <td>95636.01</td>\n",
              "      <td>NaN</td>\n",
              "      <td>907.19</td>\n",
              "      <td>NaN</td>\n",
              "      <td>78639.75</td>\n",
              "      <td>90973.34</td>\n",
              "      <td>1152950.06</td>\n",
              "    </tr>\n",
              "    <tr>\n",
              "      <th>min</th>\n",
              "      <td>NaN</td>\n",
              "      <td>NaN</td>\n",
              "      <td>NaN</td>\n",
              "      <td>NaN</td>\n",
              "      <td>NaN</td>\n",
              "      <td>0.01</td>\n",
              "      <td>NaN</td>\n",
              "      <td>0.00</td>\n",
              "      <td>NaN</td>\n",
              "      <td>0.00</td>\n",
              "      <td>NaN</td>\n",
              "      <td>0.00</td>\n",
              "      <td>0.00</td>\n",
              "      <td>0.01</td>\n",
              "    </tr>\n",
              "    <tr>\n",
              "      <th>25%</th>\n",
              "      <td>NaN</td>\n",
              "      <td>NaN</td>\n",
              "      <td>NaN</td>\n",
              "      <td>NaN</td>\n",
              "      <td>NaN</td>\n",
              "      <td>2000.00</td>\n",
              "      <td>NaN</td>\n",
              "      <td>30.00</td>\n",
              "      <td>NaN</td>\n",
              "      <td>2.00</td>\n",
              "      <td>NaN</td>\n",
              "      <td>16.98</td>\n",
              "      <td>31.00</td>\n",
              "      <td>2000.00</td>\n",
              "    </tr>\n",
              "    <tr>\n",
              "      <th>50%</th>\n",
              "      <td>NaN</td>\n",
              "      <td>NaN</td>\n",
              "      <td>NaN</td>\n",
              "      <td>NaN</td>\n",
              "      <td>NaN</td>\n",
              "      <td>5200.00</td>\n",
              "      <td>NaN</td>\n",
              "      <td>620.00</td>\n",
              "      <td>NaN</td>\n",
              "      <td>12.00</td>\n",
              "      <td>NaN</td>\n",
              "      <td>394.72</td>\n",
              "      <td>624.33</td>\n",
              "      <td>5500.00</td>\n",
              "    </tr>\n",
              "    <tr>\n",
              "      <th>75%</th>\n",
              "      <td>NaN</td>\n",
              "      <td>NaN</td>\n",
              "      <td>NaN</td>\n",
              "      <td>NaN</td>\n",
              "      <td>NaN</td>\n",
              "      <td>16000.00</td>\n",
              "      <td>NaN</td>\n",
              "      <td>4076.00</td>\n",
              "      <td>NaN</td>\n",
              "      <td>56.00</td>\n",
              "      <td>NaN</td>\n",
              "      <td>3034.09</td>\n",
              "      <td>4050.00</td>\n",
              "      <td>15500.00</td>\n",
              "    </tr>\n",
              "    <tr>\n",
              "      <th>max</th>\n",
              "      <td>NaN</td>\n",
              "      <td>NaN</td>\n",
              "      <td>NaN</td>\n",
              "      <td>NaN</td>\n",
              "      <td>NaN</td>\n",
              "      <td>100000000.00</td>\n",
              "      <td>NaN</td>\n",
              "      <td>20338986.27</td>\n",
              "      <td>NaN</td>\n",
              "      <td>219382.00</td>\n",
              "      <td>NaN</td>\n",
              "      <td>20338986.27</td>\n",
              "      <td>20338986.27</td>\n",
              "      <td>166361390.71</td>\n",
              "    </tr>\n",
              "  </tbody>\n",
              "</table>\n",
              "</div>"
            ],
            "text/plain": [
              "                                    name  ... usd_goal_real\n",
              "count                             378661  ...     378661.00\n",
              "unique                            375765  ...           nan\n",
              "top     2cdff1887ad0f0d341ca3f08841de3a0  ...           nan\n",
              "freq                                  41  ...           nan\n",
              "first                                NaN  ...           nan\n",
              "last                                 NaN  ...           nan\n",
              "mean                                 NaN  ...      45454.40\n",
              "std                                  NaN  ...    1152950.06\n",
              "min                                  NaN  ...          0.01\n",
              "25%                                  NaN  ...       2000.00\n",
              "50%                                  NaN  ...       5500.00\n",
              "75%                                  NaN  ...      15500.00\n",
              "max                                  NaN  ...  166361390.71\n",
              "\n",
              "[13 rows x 14 columns]"
            ]
          },
          "metadata": {
            "tags": []
          },
          "execution_count": 49
        }
      ]
    },
    {
      "cell_type": "markdown",
      "metadata": {
        "colab_type": "text",
        "id": "OUA2hGvQIXTX"
      },
      "source": [
        "## 2.1. Etiquetas de variables/columnas: no usar caracteres especiales\n",
        "\n"
      ]
    },
    {
      "cell_type": "code",
      "metadata": {
        "colab_type": "code",
        "id": "BkdI2pVDIXTX",
        "colab": {}
      },
      "source": [
        "# helpful character encoding module\n",
        "import chardet"
      ],
      "execution_count": null,
      "outputs": []
    },
    {
      "cell_type": "markdown",
      "metadata": {
        "colab_type": "text",
        "id": "lfyjvGsmIXTZ"
      },
      "source": [
        "¿Por qué? Por que aun hay limitaciones para trabajar con estos caracteres.\n",
        "\n",
        "¿Cúales son los caracteres \"normales\"? "
      ]
    },
    {
      "cell_type": "code",
      "metadata": {
        "colab_type": "code",
        "id": "fTc3NFPpIXTZ",
        "colab": {
          "base_uri": "https://localhost:8080/",
          "height": 35
        },
        "outputId": "d4266a9b-a1a2-45dd-c29d-033ad5f65651"
      },
      "source": [
        "import string\n",
        "\n",
        "string.ascii_letters + string.digits"
      ],
      "execution_count": null,
      "outputs": [
        {
          "output_type": "execute_result",
          "data": {
            "application/vnd.google.colaboratory.intrinsic+json": {
              "type": "string"
            },
            "text/plain": [
              "'abcdefghijklmnopqrstuvwxyzABCDEFGHIJKLMNOPQRSTUVWXYZ0123456789'"
            ]
          },
          "metadata": {
            "tags": []
          },
          "execution_count": 129
        }
      ]
    },
    {
      "cell_type": "markdown",
      "metadata": {
        "colab_type": "text",
        "id": "tWbcEuejIXTb"
      },
      "source": [
        "¿Qué es ASCII? Es una de las primeras codificaciones (o encoding) disponibles. Ver https://en.wikipedia.org/wiki/ASCII\n",
        "\n",
        "Un encoding es un mapa de caracteres a una representación en bits (por ejemplo 1000001). ASCII es uno de los primeros estandares para interoperatividad entre computadoras (antes cada fabricante de computadora usa su propia codificación), contempla sólo los caracteres ingleses y usa 7 bits, por ejemplo *1000001* codifica el caracter *A*\n",
        "\n",
        "Cómo sólo representaban los caracteres ingleses, empiezan a aparecer variantes para distintos idiomas, Microsoft hizo los propios para internacionalizar Windows, hubo otro estandar ISO 8859, hasta que llegó el éstandar Unicode que hizo múltiples encodings pero cada uno contempla múltiples idiomas e incluso es extensible a futuro. UTF-8 es de esos encodings el más utilizado. Ver https://en.wikipedia.org/wiki/Unicode\n",
        "\n",
        "En particular, Python 3 utiliza UTF-8 por defecto (lo que no sucedía en Python 2).\n",
        "\n",
        "Veamos un ejemplo práctico"
      ]
    },
    {
      "cell_type": "code",
      "metadata": {
        "colab_type": "code",
        "id": "uiUtEXG1IXTb",
        "colab": {
          "base_uri": "https://localhost:8080/",
          "height": 33
        },
        "outputId": "6c593544-02a7-4f2b-9e13-d60e8e94ee98"
      },
      "source": [
        "# start with a string\n",
        "before = \"This is the euro symbol: €\"\n",
        "\n",
        "# check to see what datatype it is\n",
        "type(before)"
      ],
      "execution_count": null,
      "outputs": [
        {
          "output_type": "execute_result",
          "data": {
            "text/plain": [
              "str"
            ]
          },
          "metadata": {
            "tags": []
          },
          "execution_count": 130
        }
      ]
    },
    {
      "cell_type": "code",
      "metadata": {
        "colab_type": "code",
        "id": "ISgFFMiiIXTc",
        "colab": {
          "base_uri": "https://localhost:8080/",
          "height": 33
        },
        "outputId": "e87d924b-3574-4697-b153-873e2ac3c39a"
      },
      "source": [
        "# encode it to a different encoding, replacing characters that raise errors\n",
        "after = before.encode(\"utf-8\", errors = \"replace\")\n",
        "\n",
        "# check the type\n",
        "type(after)"
      ],
      "execution_count": null,
      "outputs": [
        {
          "output_type": "execute_result",
          "data": {
            "text/plain": [
              "bytes"
            ]
          },
          "metadata": {
            "tags": []
          },
          "execution_count": 131
        }
      ]
    },
    {
      "cell_type": "code",
      "metadata": {
        "colab_type": "code",
        "id": "psYCTaZCIXTe",
        "colab": {
          "base_uri": "https://localhost:8080/",
          "height": 33
        },
        "outputId": "4420f4d1-5d42-490a-e53c-8e5ca7feb00e"
      },
      "source": [
        "# take a look at what the bytes look like\n",
        "after"
      ],
      "execution_count": null,
      "outputs": [
        {
          "output_type": "execute_result",
          "data": {
            "text/plain": [
              "b'This is the euro symbol: \\xe2\\x82\\xac'"
            ]
          },
          "metadata": {
            "tags": []
          },
          "execution_count": 132
        }
      ]
    },
    {
      "cell_type": "code",
      "metadata": {
        "colab_type": "code",
        "id": "fkbXONwzIXTf",
        "colab": {
          "base_uri": "https://localhost:8080/",
          "height": 33
        },
        "outputId": "fb626d0f-e5b8-42da-cc2f-4203ef8c4b77"
      },
      "source": [
        "# convert it back to utf-8\n",
        "print(after.decode(\"utf-8\"))"
      ],
      "execution_count": null,
      "outputs": [
        {
          "output_type": "stream",
          "text": [
            "This is the euro symbol: €\n"
          ],
          "name": "stdout"
        }
      ]
    },
    {
      "cell_type": "code",
      "metadata": {
        "colab_type": "code",
        "id": "3RRKGvArIXTk",
        "colab": {
          "base_uri": "https://localhost:8080/",
          "height": 33
        },
        "outputId": "12f3af91-0c4e-426f-c120-64a9d3d5f04f"
      },
      "source": [
        "# start with a string\n",
        "before = \"This is the euro symbol: €\"\n",
        "\n",
        "# encode it to a different encoding, replacing characters that raise errors\n",
        "after = before.encode(\"ascii\", errors = \"replace\")\n",
        "\n",
        "# convert it back to utf-8\n",
        "print(after.decode(\"ascii\"))\n",
        "\n",
        "# We've lost the original underlying byte string! It's been \n",
        "# replaced with the underlying byte string for the unknown character :("
      ],
      "execution_count": null,
      "outputs": [
        {
          "output_type": "stream",
          "text": [
            "This is the euro symbol: ?\n"
          ],
          "name": "stdout"
        }
      ]
    },
    {
      "cell_type": "markdown",
      "metadata": {
        "colab_type": "text",
        "id": "IkaMZurZIXTm"
      },
      "source": [
        "Este error ya lo vimos..."
      ]
    },
    {
      "cell_type": "markdown",
      "metadata": {
        "colab_type": "text",
        "id": "PP9Xzf3qIXTt"
      },
      "source": [
        "El error `UnicodeDecodeError` nos indica que el archivo no estaría en Unicode. Si no está en algún metadato o no fue indicado es dificil detectar el encoding, por suerte hay un paquete para esto en Python, que aplica unas heurísticas para detectar encoding."
      ]
    },
    {
      "cell_type": "code",
      "metadata": {
        "colab_type": "code",
        "id": "KVSigmfDIXTv",
        "colab": {
          "base_uri": "https://localhost:8080/",
          "height": 228
        },
        "outputId": "5778cca6-fd29-4de2-eab4-af8069ff1d09"
      },
      "source": [
        "# In Colab we need to download data locally\n",
        "if in_colab:\n",
        "  !wget -c $BASE_DIR/input/kickstarter-projects/ks-projects-201612.csv\n",
        "  DOWN_DIR = \"./\"\n",
        "else:\n",
        "  DOWN_DIR = BASE_DIR + \"/input/kickstarter-projects/\"\n",
        "  \n",
        "# look at the first ten thousand bytes to guess the character encoding\n",
        "with open(DOWN_DIR + \"/ks-projects-201612.csv\", 'rb') as rawdata:\n",
        "    result = chardet.detect(rawdata.read(10000))\n",
        "\n",
        "# check what the character encoding might be\n",
        "result"
      ],
      "execution_count": null,
      "outputs": [
        {
          "output_type": "stream",
          "text": [
            "--2020-07-22 21:39:21--  https://github.com/DiploDatos/AnalisisYCuracion/raw/master//input/kickstarter-projects/ks-projects-201612.csv\n",
            "Resolving github.com (github.com)... 140.82.113.3\n",
            "Connecting to github.com (github.com)|140.82.113.3|:443... connected.\n",
            "HTTP request sent, awaiting response... 302 Found\n",
            "Location: https://raw.githubusercontent.com/DiploDatos/AnalisisYCuracion/master/input/kickstarter-projects/ks-projects-201612.csv [following]\n",
            "--2020-07-22 21:39:21--  https://raw.githubusercontent.com/DiploDatos/AnalisisYCuracion/master/input/kickstarter-projects/ks-projects-201612.csv\n",
            "Resolving raw.githubusercontent.com (raw.githubusercontent.com)... 151.101.0.133, 151.101.64.133, 151.101.128.133, ...\n",
            "Connecting to raw.githubusercontent.com (raw.githubusercontent.com)|151.101.0.133|:443... connected.\n",
            "HTTP request sent, awaiting response... 416 Range Not Satisfiable\n",
            "\n",
            "    The file is already fully retrieved; nothing to do.\n",
            "\n"
          ],
          "name": "stdout"
        },
        {
          "output_type": "execute_result",
          "data": {
            "text/plain": [
              "{'confidence': 0.73, 'encoding': 'Windows-1252', 'language': ''}"
            ]
          },
          "metadata": {
            "tags": []
          },
          "execution_count": 135
        }
      ]
    },
    {
      "cell_type": "markdown",
      "metadata": {
        "colab_type": "text",
        "id": "BRvRjn15IXTy"
      },
      "source": [
        "Entonces le podemos indicar el encoding al leer el archivos"
      ]
    },
    {
      "cell_type": "code",
      "metadata": {
        "colab_type": "code",
        "id": "HpHQldSDIXTz",
        "colab": {
          "base_uri": "https://localhost:8080/",
          "height": 321
        },
        "outputId": "916b6e0e-612f-4c10-94dd-4d1d7aac33b6"
      },
      "source": [
        "# read in the file with the encoding detected by chardet\n",
        "kickstarter_2016 = pd.read_csv(BASE_DIR + \"/input/kickstarter-projects/ks-projects-201612.csv\", encoding='Windows-1252')\n",
        "\n",
        "# look at the first few lines\n",
        "kickstarter_2016.head()"
      ],
      "execution_count": null,
      "outputs": [
        {
          "output_type": "stream",
          "text": [
            "/usr/local/lib/python3.6/dist-packages/IPython/core/interactiveshell.py:2718: DtypeWarning: Columns (13,14,15) have mixed types.Specify dtype option on import or set low_memory=False.\n",
            "  interactivity=interactivity, compiler=compiler, result=result)\n"
          ],
          "name": "stderr"
        },
        {
          "output_type": "execute_result",
          "data": {
            "text/html": [
              "<div>\n",
              "<style scoped>\n",
              "    .dataframe tbody tr th:only-of-type {\n",
              "        vertical-align: middle;\n",
              "    }\n",
              "\n",
              "    .dataframe tbody tr th {\n",
              "        vertical-align: top;\n",
              "    }\n",
              "\n",
              "    .dataframe thead th {\n",
              "        text-align: right;\n",
              "    }\n",
              "</style>\n",
              "<table border=\"1\" class=\"dataframe\">\n",
              "  <thead>\n",
              "    <tr style=\"text-align: right;\">\n",
              "      <th></th>\n",
              "      <th>ID</th>\n",
              "      <th>name</th>\n",
              "      <th>category</th>\n",
              "      <th>main_category</th>\n",
              "      <th>currency</th>\n",
              "      <th>deadline</th>\n",
              "      <th>goal</th>\n",
              "      <th>launched</th>\n",
              "      <th>pledged</th>\n",
              "      <th>state</th>\n",
              "      <th>backers</th>\n",
              "      <th>country</th>\n",
              "      <th>usd pledged</th>\n",
              "      <th>Unnamed: 13</th>\n",
              "      <th>Unnamed: 14</th>\n",
              "      <th>Unnamed: 15</th>\n",
              "      <th>Unnamed: 16</th>\n",
              "    </tr>\n",
              "  </thead>\n",
              "  <tbody>\n",
              "    <tr>\n",
              "      <th>0</th>\n",
              "      <td>1000002330</td>\n",
              "      <td>The Songs of Adelaide &amp; Abullah</td>\n",
              "      <td>Poetry</td>\n",
              "      <td>Publishing</td>\n",
              "      <td>GBP</td>\n",
              "      <td>2015-10-09 11:36:00</td>\n",
              "      <td>1000</td>\n",
              "      <td>2015-08-11 12:12:28</td>\n",
              "      <td>0</td>\n",
              "      <td>failed</td>\n",
              "      <td>0</td>\n",
              "      <td>GB</td>\n",
              "      <td>0</td>\n",
              "      <td>NaN</td>\n",
              "      <td>NaN</td>\n",
              "      <td>NaN</td>\n",
              "      <td>nan</td>\n",
              "    </tr>\n",
              "    <tr>\n",
              "      <th>1</th>\n",
              "      <td>1000004038</td>\n",
              "      <td>Where is Hank?</td>\n",
              "      <td>Narrative Film</td>\n",
              "      <td>Film &amp; Video</td>\n",
              "      <td>USD</td>\n",
              "      <td>2013-02-26 00:20:50</td>\n",
              "      <td>45000</td>\n",
              "      <td>2013-01-12 00:20:50</td>\n",
              "      <td>220</td>\n",
              "      <td>failed</td>\n",
              "      <td>3</td>\n",
              "      <td>US</td>\n",
              "      <td>220</td>\n",
              "      <td>NaN</td>\n",
              "      <td>NaN</td>\n",
              "      <td>NaN</td>\n",
              "      <td>nan</td>\n",
              "    </tr>\n",
              "    <tr>\n",
              "      <th>2</th>\n",
              "      <td>1000007540</td>\n",
              "      <td>ToshiCapital Rekordz Needs Help to Complete Album</td>\n",
              "      <td>Music</td>\n",
              "      <td>Music</td>\n",
              "      <td>USD</td>\n",
              "      <td>2012-04-16 04:24:11</td>\n",
              "      <td>5000</td>\n",
              "      <td>2012-03-17 03:24:11</td>\n",
              "      <td>1</td>\n",
              "      <td>failed</td>\n",
              "      <td>1</td>\n",
              "      <td>US</td>\n",
              "      <td>1</td>\n",
              "      <td>NaN</td>\n",
              "      <td>NaN</td>\n",
              "      <td>NaN</td>\n",
              "      <td>nan</td>\n",
              "    </tr>\n",
              "    <tr>\n",
              "      <th>3</th>\n",
              "      <td>1000011046</td>\n",
              "      <td>Community Film Project: The Art of Neighborhoo...</td>\n",
              "      <td>Film &amp; Video</td>\n",
              "      <td>Film &amp; Video</td>\n",
              "      <td>USD</td>\n",
              "      <td>2015-08-29 01:00:00</td>\n",
              "      <td>19500</td>\n",
              "      <td>2015-07-04 08:35:03</td>\n",
              "      <td>1283</td>\n",
              "      <td>canceled</td>\n",
              "      <td>14</td>\n",
              "      <td>US</td>\n",
              "      <td>1283</td>\n",
              "      <td>NaN</td>\n",
              "      <td>NaN</td>\n",
              "      <td>NaN</td>\n",
              "      <td>nan</td>\n",
              "    </tr>\n",
              "    <tr>\n",
              "      <th>4</th>\n",
              "      <td>1000014025</td>\n",
              "      <td>Monarch Espresso Bar</td>\n",
              "      <td>Restaurants</td>\n",
              "      <td>Food</td>\n",
              "      <td>USD</td>\n",
              "      <td>2016-04-01 13:38:27</td>\n",
              "      <td>50000</td>\n",
              "      <td>2016-02-26 13:38:27</td>\n",
              "      <td>52375</td>\n",
              "      <td>successful</td>\n",
              "      <td>224</td>\n",
              "      <td>US</td>\n",
              "      <td>52375</td>\n",
              "      <td>NaN</td>\n",
              "      <td>NaN</td>\n",
              "      <td>NaN</td>\n",
              "      <td>nan</td>\n",
              "    </tr>\n",
              "  </tbody>\n",
              "</table>\n",
              "</div>"
            ],
            "text/plain": [
              "          ID   ... Unnamed: 16\n",
              "0  1000002330  ...         nan\n",
              "1  1000004038  ...         nan\n",
              "2  1000007540  ...         nan\n",
              "3  1000011046  ...         nan\n",
              "4  1000014025  ...         nan\n",
              "\n",
              "[5 rows x 17 columns]"
            ]
          },
          "metadata": {
            "tags": []
          },
          "execution_count": 136
        }
      ]
    },
    {
      "cell_type": "markdown",
      "metadata": {
        "colab_type": "text",
        "id": "EaBiRboHIXT6"
      },
      "source": [
        "Hay otro problema con los caracteres que es más sutíl: **[Mojibake](https://en.wikipedia.org/wiki/Mojibake)**\n",
        "\n",
        "Sucede al leer UTF-8 como ASCII extendido (ie. `Windows-*`, `iso-8859-*` entre otros)\n",
        "\n",
        "Ejemplo de mojibake:"
      ]
    },
    {
      "cell_type": "code",
      "metadata": {
        "colab_type": "code",
        "id": "5dFhIonJIXT6",
        "colab": {
          "base_uri": "https://localhost:8080/",
          "height": 35
        },
        "outputId": "15c872c2-84ca-49d8-9a14-95d73585f369"
      },
      "source": [
        "\"cigüeña\".encode('utf-8').decode('iso-8859-1')"
      ],
      "execution_count": null,
      "outputs": [
        {
          "output_type": "execute_result",
          "data": {
            "application/vnd.google.colaboratory.intrinsic+json": {
              "type": "string"
            },
            "text/plain": [
              "'cigÃ¼eÃ±a'"
            ]
          },
          "metadata": {
            "tags": []
          },
          "execution_count": 137
        }
      ]
    },
    {
      "cell_type": "markdown",
      "metadata": {
        "colab_type": "text",
        "id": "GYrNcEWGIXT8"
      },
      "source": [
        "Para esto vamos a usar un módulo específico [ftfy](https://ftfy.readthedocs.io/en/latest/). \n",
        "\n",
        "Que nos permite ordenar cadenas por rareza"
      ]
    },
    {
      "cell_type": "code",
      "metadata": {
        "colab_type": "code",
        "id": "iKpvvruQIXT8",
        "colab": {}
      },
      "source": [
        "import ftfy.badness as bad"
      ],
      "execution_count": null,
      "outputs": []
    },
    {
      "cell_type": "code",
      "metadata": {
        "colab_type": "code",
        "id": "qRTGjyZ-IXT-",
        "colab": {
          "base_uri": "https://localhost:8080/",
          "height": 76
        },
        "outputId": "c4258a3e-ae7f-4bab-baf5-0509dc42c931"
      },
      "source": [
        "def weird(val):\n",
        "    if isinstance(val, float): \n",
        "        return 0\n",
        "    return bad.sequence_weirdness(val)\n",
        "\n",
        "\n",
        "kickstarter_2018['name_weirdness'] = kickstarter_2018['name'].apply(weird)\n",
        "kickstarter_2018[kickstarter_2018['name_weirdness'] > 1]"
      ],
      "execution_count": null,
      "outputs": [
        {
          "output_type": "execute_result",
          "data": {
            "text/html": [
              "<div>\n",
              "<style scoped>\n",
              "    .dataframe tbody tr th:only-of-type {\n",
              "        vertical-align: middle;\n",
              "    }\n",
              "\n",
              "    .dataframe tbody tr th {\n",
              "        vertical-align: top;\n",
              "    }\n",
              "\n",
              "    .dataframe thead th {\n",
              "        text-align: right;\n",
              "    }\n",
              "</style>\n",
              "<table border=\"1\" class=\"dataframe\">\n",
              "  <thead>\n",
              "    <tr style=\"text-align: right;\">\n",
              "      <th></th>\n",
              "      <th>name</th>\n",
              "      <th>category</th>\n",
              "      <th>main_category</th>\n",
              "      <th>currency</th>\n",
              "      <th>deadline</th>\n",
              "      <th>goal</th>\n",
              "      <th>launched</th>\n",
              "      <th>pledged</th>\n",
              "      <th>state</th>\n",
              "      <th>backers</th>\n",
              "      <th>country</th>\n",
              "      <th>usd pledged</th>\n",
              "      <th>usd_pledged_real</th>\n",
              "      <th>usd_goal_real</th>\n",
              "      <th>name_weirdness</th>\n",
              "    </tr>\n",
              "    <tr>\n",
              "      <th>ID</th>\n",
              "      <th></th>\n",
              "      <th></th>\n",
              "      <th></th>\n",
              "      <th></th>\n",
              "      <th></th>\n",
              "      <th></th>\n",
              "      <th></th>\n",
              "      <th></th>\n",
              "      <th></th>\n",
              "      <th></th>\n",
              "      <th></th>\n",
              "      <th></th>\n",
              "      <th></th>\n",
              "      <th></th>\n",
              "      <th></th>\n",
              "    </tr>\n",
              "  </thead>\n",
              "  <tbody>\n",
              "  </tbody>\n",
              "</table>\n",
              "</div>"
            ],
            "text/plain": [
              "Empty DataFrame\n",
              "Columns: [name, category, main_category, currency, deadline, goal, launched, pledged, state, backers, country, usd pledged, usd_pledged_real, usd_goal_real, name_weirdness]\n",
              "Index: []"
            ]
          },
          "metadata": {
            "tags": []
          },
          "execution_count": 141
        }
      ]
    },
    {
      "cell_type": "markdown",
      "metadata": {
        "colab_type": "text",
        "id": "IWvV8C1LIXUA"
      },
      "source": [
        "Volviendo a la consigna original, chequeamos que no haya caracteres fuera de a-Z, 0-9 y _ en los nombres de columnas"
      ]
    },
    {
      "cell_type": "code",
      "metadata": {
        "colab_type": "code",
        "id": "dll59dNxIXUA",
        "colab": {
          "base_uri": "https://localhost:8080/",
          "height": 33
        },
        "outputId": "efce5ddb-7ddb-49c2-ff75-5bd0c63221de"
      },
      "source": [
        "kickstarter_2018.columns[~kickstarter_2018.columns.str.match(r'^(\\w+)$')]"
      ],
      "execution_count": null,
      "outputs": [
        {
          "output_type": "execute_result",
          "data": {
            "text/plain": [
              "Index(['usd pledged'], dtype='object')"
            ]
          },
          "metadata": {
            "tags": []
          },
          "execution_count": 142
        }
      ]
    },
    {
      "cell_type": "code",
      "metadata": {
        "colab_type": "code",
        "id": "qq6sydy8IXUG",
        "scrolled": true,
        "colab": {
          "base_uri": "https://localhost:8080/",
          "height": 402
        },
        "outputId": "2e766c27-a801-40d3-e242-1ca8b2733334"
      },
      "source": [
        "kickstarter_2018.columns = kickstarter_2018.columns.str.replace(' ', '_')\n",
        "kickstarter_2018.head()"
      ],
      "execution_count": null,
      "outputs": [
        {
          "output_type": "execute_result",
          "data": {
            "text/html": [
              "<div>\n",
              "<style scoped>\n",
              "    .dataframe tbody tr th:only-of-type {\n",
              "        vertical-align: middle;\n",
              "    }\n",
              "\n",
              "    .dataframe tbody tr th {\n",
              "        vertical-align: top;\n",
              "    }\n",
              "\n",
              "    .dataframe thead th {\n",
              "        text-align: right;\n",
              "    }\n",
              "</style>\n",
              "<table border=\"1\" class=\"dataframe\">\n",
              "  <thead>\n",
              "    <tr style=\"text-align: right;\">\n",
              "      <th></th>\n",
              "      <th>name</th>\n",
              "      <th>category</th>\n",
              "      <th>main_category</th>\n",
              "      <th>currency</th>\n",
              "      <th>deadline</th>\n",
              "      <th>goal</th>\n",
              "      <th>launched</th>\n",
              "      <th>pledged</th>\n",
              "      <th>state</th>\n",
              "      <th>backers</th>\n",
              "      <th>country</th>\n",
              "      <th>usd_pledged</th>\n",
              "      <th>usd_pledged_real</th>\n",
              "      <th>usd_goal_real</th>\n",
              "      <th>name_weirdness</th>\n",
              "    </tr>\n",
              "    <tr>\n",
              "      <th>ID</th>\n",
              "      <th></th>\n",
              "      <th></th>\n",
              "      <th></th>\n",
              "      <th></th>\n",
              "      <th></th>\n",
              "      <th></th>\n",
              "      <th></th>\n",
              "      <th></th>\n",
              "      <th></th>\n",
              "      <th></th>\n",
              "      <th></th>\n",
              "      <th></th>\n",
              "      <th></th>\n",
              "      <th></th>\n",
              "      <th></th>\n",
              "    </tr>\n",
              "  </thead>\n",
              "  <tbody>\n",
              "    <tr>\n",
              "      <th>1000002330</th>\n",
              "      <td>a6828ae8a2eca25f0dd7035efc0af0a0</td>\n",
              "      <td>Poetry</td>\n",
              "      <td>Publishing</td>\n",
              "      <td>GBP</td>\n",
              "      <td>2015-10-09</td>\n",
              "      <td>1000.00</td>\n",
              "      <td>2015-08-11 12:12:28</td>\n",
              "      <td>0.00</td>\n",
              "      <td>failed</td>\n",
              "      <td>0</td>\n",
              "      <td>GB</td>\n",
              "      <td>0.00</td>\n",
              "      <td>0.00</td>\n",
              "      <td>1533.95</td>\n",
              "      <td>0</td>\n",
              "    </tr>\n",
              "    <tr>\n",
              "      <th>1000003930</th>\n",
              "      <td>81609b3bdc0b96f429672d69702f2524</td>\n",
              "      <td>Narrative Film</td>\n",
              "      <td>Film &amp; Video</td>\n",
              "      <td>USD</td>\n",
              "      <td>2017-11-01</td>\n",
              "      <td>30000.00</td>\n",
              "      <td>2017-09-02 04:43:57</td>\n",
              "      <td>2421.00</td>\n",
              "      <td>failed</td>\n",
              "      <td>15</td>\n",
              "      <td>US</td>\n",
              "      <td>100.00</td>\n",
              "      <td>2421.00</td>\n",
              "      <td>30000.00</td>\n",
              "      <td>0</td>\n",
              "    </tr>\n",
              "    <tr>\n",
              "      <th>1000004038</th>\n",
              "      <td>c12f5c3bace2f0213cdb2679a265dca0</td>\n",
              "      <td>Narrative Film</td>\n",
              "      <td>Film &amp; Video</td>\n",
              "      <td>USD</td>\n",
              "      <td>2013-02-26</td>\n",
              "      <td>45000.00</td>\n",
              "      <td>2013-01-12 00:20:50</td>\n",
              "      <td>220.00</td>\n",
              "      <td>failed</td>\n",
              "      <td>3</td>\n",
              "      <td>US</td>\n",
              "      <td>220.00</td>\n",
              "      <td>220.00</td>\n",
              "      <td>45000.00</td>\n",
              "      <td>0</td>\n",
              "    </tr>\n",
              "    <tr>\n",
              "      <th>1000007540</th>\n",
              "      <td>4dbdcf09c86bbf5683ec39bc57b77f81</td>\n",
              "      <td>Music</td>\n",
              "      <td>Music</td>\n",
              "      <td>USD</td>\n",
              "      <td>2012-04-16</td>\n",
              "      <td>5000.00</td>\n",
              "      <td>2012-03-17 03:24:11</td>\n",
              "      <td>1.00</td>\n",
              "      <td>failed</td>\n",
              "      <td>1</td>\n",
              "      <td>US</td>\n",
              "      <td>1.00</td>\n",
              "      <td>1.00</td>\n",
              "      <td>5000.00</td>\n",
              "      <td>0</td>\n",
              "    </tr>\n",
              "    <tr>\n",
              "      <th>1000011046</th>\n",
              "      <td>9c01404a2ef702811c2088ce139042ad</td>\n",
              "      <td>Film &amp; Video</td>\n",
              "      <td>Film &amp; Video</td>\n",
              "      <td>USD</td>\n",
              "      <td>2015-08-29</td>\n",
              "      <td>19500.00</td>\n",
              "      <td>2015-07-04 08:35:03</td>\n",
              "      <td>1283.00</td>\n",
              "      <td>canceled</td>\n",
              "      <td>14</td>\n",
              "      <td>US</td>\n",
              "      <td>1283.00</td>\n",
              "      <td>1283.00</td>\n",
              "      <td>19500.00</td>\n",
              "      <td>0</td>\n",
              "    </tr>\n",
              "  </tbody>\n",
              "</table>\n",
              "</div>"
            ],
            "text/plain": [
              "                                        name  ... name_weirdness\n",
              "ID                                            ...               \n",
              "1000002330  a6828ae8a2eca25f0dd7035efc0af0a0  ...              0\n",
              "1000003930  81609b3bdc0b96f429672d69702f2524  ...              0\n",
              "1000004038  c12f5c3bace2f0213cdb2679a265dca0  ...              0\n",
              "1000007540  4dbdcf09c86bbf5683ec39bc57b77f81  ...              0\n",
              "1000011046  9c01404a2ef702811c2088ce139042ad  ...              0\n",
              "\n",
              "[5 rows x 15 columns]"
            ]
          },
          "metadata": {
            "tags": []
          },
          "execution_count": 143
        }
      ]
    },
    {
      "cell_type": "code",
      "metadata": {
        "colab_type": "code",
        "id": "O92pigy9IXUH",
        "colab": {
          "base_uri": "https://localhost:8080/",
          "height": 131
        },
        "outputId": "aa75cc86-7283-4978-ebf0-dcfc5e1839d3"
      },
      "source": [
        "kickstarter_2018.usd_pledged.head()"
      ],
      "execution_count": null,
      "outputs": [
        {
          "output_type": "execute_result",
          "data": {
            "text/plain": [
              "ID\n",
              "1000002330      0.00\n",
              "1000003930    100.00\n",
              "1000004038    220.00\n",
              "1000007540      1.00\n",
              "1000011046   1283.00\n",
              "Name: usd_pledged, dtype: float64"
            ]
          },
          "metadata": {
            "tags": []
          },
          "execution_count": 144
        }
      ]
    },
    {
      "cell_type": "markdown",
      "metadata": {
        "id": "JPFU7vVLkX-Q",
        "colab_type": "text"
      },
      "source": [
        "#### Ejercicio 3\n",
        "\n",
        "Comparar la cantidad de nombres raros en kickstarter_2018 con la que obtenemos al cargar 'ks-projects-201801.csv' con encoding iso-8859-1."
      ]
    },
    {
      "cell_type": "code",
      "metadata": {
        "id": "ADWQLuLBRLea",
        "colab_type": "code",
        "colab": {}
      },
      "source": [
        "# read in the file with the encoding detected by chardet\n",
        "kickstarter1_2018 = pd.read_csv(BASE_DIR + \"/input/kickstarter-projects/ks-projects-201801.csv\", encoding='iso-8859-1')\n",
        "\n"
      ],
      "execution_count": null,
      "outputs": []
    },
    {
      "cell_type": "code",
      "metadata": {
        "id": "-4XvjyhHRTdi",
        "colab_type": "code",
        "colab": {
          "base_uri": "https://localhost:8080/",
          "height": 33
        },
        "outputId": "93345e93-0678-4fa6-bb9b-3821a63b1240"
      },
      "source": [
        "kickstarter1_2018['name_weirdness'] = kickstarter1_2018['name'].apply(weird)\n",
        "len(kickstarter1_2018[kickstarter1_2018['name_weirdness'] > 1])"
      ],
      "execution_count": null,
      "outputs": [
        {
          "output_type": "execute_result",
          "data": {
            "text/plain": [
              "7682"
            ]
          },
          "metadata": {
            "tags": []
          },
          "execution_count": 146
        }
      ]
    },
    {
      "cell_type": "markdown",
      "metadata": {
        "colab_type": "text",
        "id": "ahRhnkZ7IXUI"
      },
      "source": [
        "## 2.2. Tratar valores faltantes\n",
        "\n",
        "Veamos cuantos valores nulos tenemos"
      ]
    },
    {
      "cell_type": "code",
      "metadata": {
        "colab_type": "code",
        "id": "UkbDCMZtIXUJ",
        "scrolled": true,
        "colab": {
          "base_uri": "https://localhost:8080/",
          "height": 50
        },
        "outputId": "98e0bb11-3db8-4652-ce00-0ebceecf5681"
      },
      "source": [
        "# get the number of missing data points per column\n",
        "missing_values_count = kickstarter_2018.isnull().sum()\n",
        "\n",
        "# look at the # of missing points in the first ten columns\n",
        "missing_values_count[missing_values_count > 0]"
      ],
      "execution_count": null,
      "outputs": [
        {
          "output_type": "execute_result",
          "data": {
            "text/plain": [
              "usd_pledged    3797\n",
              "dtype: int64"
            ]
          },
          "metadata": {
            "tags": []
          },
          "execution_count": 57
        }
      ]
    },
    {
      "cell_type": "markdown",
      "metadata": {
        "id": "TBKHUPjCkX-R",
        "colab_type": "text"
      },
      "source": [
        "Esta medida en sí, no dice nada más que con cuantos valores debemos lidiar. \n",
        "\n",
        "Primero tenemos que ver si en términos relativos su impacto."
      ]
    },
    {
      "cell_type": "code",
      "metadata": {
        "colab_type": "code",
        "id": "1WC9vl6mIXUK",
        "colab": {
          "base_uri": "https://localhost:8080/",
          "height": 33
        },
        "outputId": "5c58faac-c849-4712-a7de-e0bede9ff49f"
      },
      "source": [
        "len(kickstarter_2018.dropna())/len(kickstarter_2018)"
      ],
      "execution_count": null,
      "outputs": [
        {
          "output_type": "execute_result",
          "data": {
            "text/plain": [
              "0.9899725612091026"
            ]
          },
          "metadata": {
            "tags": []
          },
          "execution_count": 58
        }
      ]
    },
    {
      "cell_type": "code",
      "metadata": {
        "colab_type": "code",
        "id": "eqv839nVIXUN",
        "colab": {
          "base_uri": "https://localhost:8080/",
          "height": 33
        },
        "outputId": "9ac473c4-ad11-42c1-bb02-5bd809e5de13"
      },
      "source": [
        "len(kickstarter_2018.dropna(subset=['name']))/len(kickstarter_2018)"
      ],
      "execution_count": null,
      "outputs": [
        {
          "output_type": "execute_result",
          "data": {
            "text/plain": [
              "1.0"
            ]
          },
          "metadata": {
            "tags": []
          },
          "execution_count": 59
        }
      ]
    },
    {
      "cell_type": "markdown",
      "metadata": {
        "id": "OrgVR0FhkX-U",
        "colab_type": "text"
      },
      "source": [
        "También debemos ver que significan en términos de representatividad e importancia de nuestro análisis."
      ]
    },
    {
      "cell_type": "code",
      "metadata": {
        "colab_type": "code",
        "id": "2Aa4DZm1IXUO",
        "colab": {
          "base_uri": "https://localhost:8080/",
          "height": 76
        },
        "outputId": "1e400907-4a44-4e84-c73d-2cc2aa0d49f7"
      },
      "source": [
        "kickstarter_2018[kickstarter_2018.name.isnull()]"
      ],
      "execution_count": null,
      "outputs": [
        {
          "output_type": "execute_result",
          "data": {
            "text/html": [
              "<div>\n",
              "<style scoped>\n",
              "    .dataframe tbody tr th:only-of-type {\n",
              "        vertical-align: middle;\n",
              "    }\n",
              "\n",
              "    .dataframe tbody tr th {\n",
              "        vertical-align: top;\n",
              "    }\n",
              "\n",
              "    .dataframe thead th {\n",
              "        text-align: right;\n",
              "    }\n",
              "</style>\n",
              "<table border=\"1\" class=\"dataframe\">\n",
              "  <thead>\n",
              "    <tr style=\"text-align: right;\">\n",
              "      <th></th>\n",
              "      <th>name</th>\n",
              "      <th>category</th>\n",
              "      <th>main_category</th>\n",
              "      <th>currency</th>\n",
              "      <th>deadline</th>\n",
              "      <th>goal</th>\n",
              "      <th>launched</th>\n",
              "      <th>pledged</th>\n",
              "      <th>state</th>\n",
              "      <th>backers</th>\n",
              "      <th>country</th>\n",
              "      <th>usd_pledged</th>\n",
              "      <th>usd_pledged_real</th>\n",
              "      <th>usd_goal_real</th>\n",
              "      <th>name_weirdness</th>\n",
              "    </tr>\n",
              "    <tr>\n",
              "      <th>ID</th>\n",
              "      <th></th>\n",
              "      <th></th>\n",
              "      <th></th>\n",
              "      <th></th>\n",
              "      <th></th>\n",
              "      <th></th>\n",
              "      <th></th>\n",
              "      <th></th>\n",
              "      <th></th>\n",
              "      <th></th>\n",
              "      <th></th>\n",
              "      <th></th>\n",
              "      <th></th>\n",
              "      <th></th>\n",
              "      <th></th>\n",
              "    </tr>\n",
              "  </thead>\n",
              "  <tbody>\n",
              "  </tbody>\n",
              "</table>\n",
              "</div>"
            ],
            "text/plain": [
              "Empty DataFrame\n",
              "Columns: [name, category, main_category, currency, deadline, goal, launched, pledged, state, backers, country, usd_pledged, usd_pledged_real, usd_goal_real, name_weirdness]\n",
              "Index: []"
            ]
          },
          "metadata": {
            "tags": []
          },
          "execution_count": 60
        }
      ]
    },
    {
      "cell_type": "markdown",
      "metadata": {
        "id": "y1XimvQ2kX-W",
        "colab_type": "text"
      },
      "source": [
        "Ejemplo, cuantos de los proyectos suspendidos no tienen nombre"
      ]
    },
    {
      "cell_type": "code",
      "metadata": {
        "id": "C_IPKrV0kX-W",
        "colab_type": "code",
        "colab": {
          "base_uri": "https://localhost:8080/",
          "height": 33
        },
        "outputId": "81216654-5ec9-4d7a-aea6-3ef552b89f78"
      },
      "source": [
        "len(kickstarter_2018[kickstarter_2018.state == 'suspended'].dropna(subset=['name'])) / \\\n",
        "    len(kickstarter_2018[kickstarter_2018.state == 'suspended'])"
      ],
      "execution_count": null,
      "outputs": [
        {
          "output_type": "execute_result",
          "data": {
            "text/plain": [
              "1.0"
            ]
          },
          "metadata": {
            "tags": []
          },
          "execution_count": 61
        }
      ]
    },
    {
      "cell_type": "markdown",
      "metadata": {
        "id": "XP_O9Z-IkX-X",
        "colab_type": "text"
      },
      "source": [
        "En este caso, creemos que es seguro descartar los proyectos sin nombre"
      ]
    },
    {
      "cell_type": "code",
      "metadata": {
        "colab_type": "code",
        "id": "7ig47EETIXUP",
        "colab": {}
      },
      "source": [
        "kickstarter_2018 = kickstarter_2018.dropna(subset=['name'])"
      ],
      "execution_count": null,
      "outputs": []
    },
    {
      "cell_type": "code",
      "metadata": {
        "colab_type": "code",
        "id": "_mguXGJ7IXUQ",
        "colab": {
          "base_uri": "https://localhost:8080/",
          "height": 50
        },
        "outputId": "db0f7215-cff2-48ca-ab9c-985a50d964d4"
      },
      "source": [
        "missing_values_count = kickstarter_2018.isnull().sum()\n",
        "missing_values_count[missing_values_count > 0]"
      ],
      "execution_count": null,
      "outputs": [
        {
          "output_type": "execute_result",
          "data": {
            "text/plain": [
              "usd_pledged    3797\n",
              "dtype: int64"
            ]
          },
          "metadata": {
            "tags": []
          },
          "execution_count": 63
        }
      ]
    },
    {
      "cell_type": "code",
      "metadata": {
        "colab_type": "code",
        "id": "Xi85q0ytIXUR",
        "scrolled": true,
        "colab": {
          "base_uri": "https://localhost:8080/",
          "height": 765
        },
        "outputId": "c483e7b4-9b3f-4d93-d49d-12075b179704"
      },
      "source": [
        "kickstarter_2018[kickstarter_2018.usd_pledged.isnull()]"
      ],
      "execution_count": null,
      "outputs": [
        {
          "output_type": "execute_result",
          "data": {
            "text/html": [
              "<div>\n",
              "<style scoped>\n",
              "    .dataframe tbody tr th:only-of-type {\n",
              "        vertical-align: middle;\n",
              "    }\n",
              "\n",
              "    .dataframe tbody tr th {\n",
              "        vertical-align: top;\n",
              "    }\n",
              "\n",
              "    .dataframe thead th {\n",
              "        text-align: right;\n",
              "    }\n",
              "</style>\n",
              "<table border=\"1\" class=\"dataframe\">\n",
              "  <thead>\n",
              "    <tr style=\"text-align: right;\">\n",
              "      <th></th>\n",
              "      <th>name</th>\n",
              "      <th>category</th>\n",
              "      <th>main_category</th>\n",
              "      <th>currency</th>\n",
              "      <th>deadline</th>\n",
              "      <th>goal</th>\n",
              "      <th>launched</th>\n",
              "      <th>pledged</th>\n",
              "      <th>state</th>\n",
              "      <th>backers</th>\n",
              "      <th>country</th>\n",
              "      <th>usd_pledged</th>\n",
              "      <th>usd_pledged_real</th>\n",
              "      <th>usd_goal_real</th>\n",
              "      <th>name_weirdness</th>\n",
              "    </tr>\n",
              "    <tr>\n",
              "      <th>ID</th>\n",
              "      <th></th>\n",
              "      <th></th>\n",
              "      <th></th>\n",
              "      <th></th>\n",
              "      <th></th>\n",
              "      <th></th>\n",
              "      <th></th>\n",
              "      <th></th>\n",
              "      <th></th>\n",
              "      <th></th>\n",
              "      <th></th>\n",
              "      <th></th>\n",
              "      <th></th>\n",
              "      <th></th>\n",
              "      <th></th>\n",
              "    </tr>\n",
              "  </thead>\n",
              "  <tbody>\n",
              "    <tr>\n",
              "      <th>1000694855</th>\n",
              "      <td>317cb508c0d274aa44ea6dc7135f67e7</td>\n",
              "      <td>Film &amp; Video</td>\n",
              "      <td>Film &amp; Video</td>\n",
              "      <td>USD</td>\n",
              "      <td>2014-09-20</td>\n",
              "      <td>6500.00</td>\n",
              "      <td>2014-08-06 21:28:36</td>\n",
              "      <td>555.00</td>\n",
              "      <td>undefined</td>\n",
              "      <td>0</td>\n",
              "      <td>N,0\"</td>\n",
              "      <td>nan</td>\n",
              "      <td>555.00</td>\n",
              "      <td>6500.00</td>\n",
              "      <td>0</td>\n",
              "    </tr>\n",
              "    <tr>\n",
              "      <th>100149523</th>\n",
              "      <td>5e380aed7fb3ac232113ad8b84f6e281</td>\n",
              "      <td>Music</td>\n",
              "      <td>Music</td>\n",
              "      <td>AUD</td>\n",
              "      <td>2015-08-25</td>\n",
              "      <td>4500.00</td>\n",
              "      <td>2015-08-04 12:05:17</td>\n",
              "      <td>4767.00</td>\n",
              "      <td>undefined</td>\n",
              "      <td>0</td>\n",
              "      <td>N,0\"</td>\n",
              "      <td>nan</td>\n",
              "      <td>3402.08</td>\n",
              "      <td>3211.53</td>\n",
              "      <td>0</td>\n",
              "    </tr>\n",
              "    <tr>\n",
              "      <th>1003023003</th>\n",
              "      <td>db6c3338a76817fba7fa342ed6e8484f</td>\n",
              "      <td>Music</td>\n",
              "      <td>Music</td>\n",
              "      <td>USD</td>\n",
              "      <td>2015-04-09</td>\n",
              "      <td>3500.00</td>\n",
              "      <td>2015-03-10 20:06:13</td>\n",
              "      <td>3576.00</td>\n",
              "      <td>undefined</td>\n",
              "      <td>0</td>\n",
              "      <td>N,0\"</td>\n",
              "      <td>nan</td>\n",
              "      <td>3576.00</td>\n",
              "      <td>3500.00</td>\n",
              "      <td>0</td>\n",
              "    </tr>\n",
              "    <tr>\n",
              "      <th>1003130892</th>\n",
              "      <td>c6453b947fa89bb74055d6ac199670cb</td>\n",
              "      <td>Music</td>\n",
              "      <td>Music</td>\n",
              "      <td>USD</td>\n",
              "      <td>2015-11-26</td>\n",
              "      <td>6000.00</td>\n",
              "      <td>2015-11-02 22:09:19</td>\n",
              "      <td>7007.80</td>\n",
              "      <td>undefined</td>\n",
              "      <td>0</td>\n",
              "      <td>N,0\"</td>\n",
              "      <td>nan</td>\n",
              "      <td>7007.80</td>\n",
              "      <td>6000.00</td>\n",
              "      <td>0</td>\n",
              "    </tr>\n",
              "    <tr>\n",
              "      <th>1003629045</th>\n",
              "      <td>82871f83555fc30a3126ee35bc582f24</td>\n",
              "      <td>Music</td>\n",
              "      <td>Music</td>\n",
              "      <td>USD</td>\n",
              "      <td>2016-03-21</td>\n",
              "      <td>3000.00</td>\n",
              "      <td>2016-02-23 03:09:49</td>\n",
              "      <td>3660.38</td>\n",
              "      <td>undefined</td>\n",
              "      <td>0</td>\n",
              "      <td>N,0\"</td>\n",
              "      <td>nan</td>\n",
              "      <td>3660.38</td>\n",
              "      <td>3000.00</td>\n",
              "      <td>0</td>\n",
              "    </tr>\n",
              "    <tr>\n",
              "      <th>...</th>\n",
              "      <td>...</td>\n",
              "      <td>...</td>\n",
              "      <td>...</td>\n",
              "      <td>...</td>\n",
              "      <td>...</td>\n",
              "      <td>...</td>\n",
              "      <td>...</td>\n",
              "      <td>...</td>\n",
              "      <td>...</td>\n",
              "      <td>...</td>\n",
              "      <td>...</td>\n",
              "      <td>...</td>\n",
              "      <td>...</td>\n",
              "      <td>...</td>\n",
              "      <td>...</td>\n",
              "    </tr>\n",
              "    <tr>\n",
              "      <th>997971307</th>\n",
              "      <td>00604947267ec75ee84c7d54e63569fc</td>\n",
              "      <td>Film &amp; Video</td>\n",
              "      <td>Film &amp; Video</td>\n",
              "      <td>USD</td>\n",
              "      <td>2015-02-03</td>\n",
              "      <td>7500.00</td>\n",
              "      <td>2014-12-05 04:19:14</td>\n",
              "      <td>10.00</td>\n",
              "      <td>undefined</td>\n",
              "      <td>0</td>\n",
              "      <td>N,0\"</td>\n",
              "      <td>nan</td>\n",
              "      <td>10.00</td>\n",
              "      <td>7500.00</td>\n",
              "      <td>0</td>\n",
              "    </tr>\n",
              "    <tr>\n",
              "      <th>998319149</th>\n",
              "      <td>fd1c279626d39862f637316776fc85df</td>\n",
              "      <td>Film &amp; Video</td>\n",
              "      <td>Film &amp; Video</td>\n",
              "      <td>CAD</td>\n",
              "      <td>2014-05-23</td>\n",
              "      <td>3000.00</td>\n",
              "      <td>2014-04-08 00:30:09</td>\n",
              "      <td>3102.00</td>\n",
              "      <td>undefined</td>\n",
              "      <td>0</td>\n",
              "      <td>N,0\"</td>\n",
              "      <td>nan</td>\n",
              "      <td>2845.61</td>\n",
              "      <td>2752.04</td>\n",
              "      <td>0</td>\n",
              "    </tr>\n",
              "    <tr>\n",
              "      <th>9988744</th>\n",
              "      <td>ddc0ec39f772c0c0444e278612d0baf9</td>\n",
              "      <td>Music</td>\n",
              "      <td>Music</td>\n",
              "      <td>USD</td>\n",
              "      <td>2016-02-05</td>\n",
              "      <td>5000.00</td>\n",
              "      <td>2016-01-06 21:59:23</td>\n",
              "      <td>235.00</td>\n",
              "      <td>undefined</td>\n",
              "      <td>0</td>\n",
              "      <td>N,0\"</td>\n",
              "      <td>nan</td>\n",
              "      <td>235.00</td>\n",
              "      <td>5000.00</td>\n",
              "      <td>0</td>\n",
              "    </tr>\n",
              "    <tr>\n",
              "      <th>999610349</th>\n",
              "      <td>05ee5867bc77a523f2597c325b144f80</td>\n",
              "      <td>Music</td>\n",
              "      <td>Music</td>\n",
              "      <td>GBP</td>\n",
              "      <td>2015-10-19</td>\n",
              "      <td>2000.00</td>\n",
              "      <td>2015-09-21 22:33:18</td>\n",
              "      <td>2125.00</td>\n",
              "      <td>undefined</td>\n",
              "      <td>0</td>\n",
              "      <td>N,0\"</td>\n",
              "      <td>nan</td>\n",
              "      <td>3273.36</td>\n",
              "      <td>3080.81</td>\n",
              "      <td>0</td>\n",
              "    </tr>\n",
              "    <tr>\n",
              "      <th>999621278</th>\n",
              "      <td>6cab36c61f76c06f3c70e01cafe95cd2</td>\n",
              "      <td>Publishing</td>\n",
              "      <td>Publishing</td>\n",
              "      <td>EUR</td>\n",
              "      <td>2015-11-20</td>\n",
              "      <td>1600.00</td>\n",
              "      <td>2015-10-21 21:28:13</td>\n",
              "      <td>0.00</td>\n",
              "      <td>undefined</td>\n",
              "      <td>0</td>\n",
              "      <td>N,0\"</td>\n",
              "      <td>nan</td>\n",
              "      <td>0.00</td>\n",
              "      <td>1710.08</td>\n",
              "      <td>0</td>\n",
              "    </tr>\n",
              "  </tbody>\n",
              "</table>\n",
              "<p>3797 rows × 15 columns</p>\n",
              "</div>"
            ],
            "text/plain": [
              "                                        name  ... name_weirdness\n",
              "ID                                            ...               \n",
              "1000694855  317cb508c0d274aa44ea6dc7135f67e7  ...              0\n",
              "100149523   5e380aed7fb3ac232113ad8b84f6e281  ...              0\n",
              "1003023003  db6c3338a76817fba7fa342ed6e8484f  ...              0\n",
              "1003130892  c6453b947fa89bb74055d6ac199670cb  ...              0\n",
              "1003629045  82871f83555fc30a3126ee35bc582f24  ...              0\n",
              "...                                      ...  ...            ...\n",
              "997971307   00604947267ec75ee84c7d54e63569fc  ...              0\n",
              "998319149   fd1c279626d39862f637316776fc85df  ...              0\n",
              "9988744     ddc0ec39f772c0c0444e278612d0baf9  ...              0\n",
              "999610349   05ee5867bc77a523f2597c325b144f80  ...              0\n",
              "999621278   6cab36c61f76c06f3c70e01cafe95cd2  ...              0\n",
              "\n",
              "[3797 rows x 15 columns]"
            ]
          },
          "metadata": {
            "tags": []
          },
          "execution_count": 64
        }
      ]
    },
    {
      "cell_type": "code",
      "metadata": {
        "colab_type": "code",
        "id": "hIHOdVWuIXUU",
        "colab": {
          "base_uri": "https://localhost:8080/",
          "height": 538
        },
        "outputId": "6286ae6e-041d-4bfc-e11d-4f7e16ee75ad"
      },
      "source": [
        "kickstarter_2018[kickstarter_2018.usd_pledged.isnull()].describe(include='all')"
      ],
      "execution_count": null,
      "outputs": [
        {
          "output_type": "execute_result",
          "data": {
            "text/html": [
              "<div>\n",
              "<style scoped>\n",
              "    .dataframe tbody tr th:only-of-type {\n",
              "        vertical-align: middle;\n",
              "    }\n",
              "\n",
              "    .dataframe tbody tr th {\n",
              "        vertical-align: top;\n",
              "    }\n",
              "\n",
              "    .dataframe thead th {\n",
              "        text-align: right;\n",
              "    }\n",
              "</style>\n",
              "<table border=\"1\" class=\"dataframe\">\n",
              "  <thead>\n",
              "    <tr style=\"text-align: right;\">\n",
              "      <th></th>\n",
              "      <th>name</th>\n",
              "      <th>category</th>\n",
              "      <th>main_category</th>\n",
              "      <th>currency</th>\n",
              "      <th>deadline</th>\n",
              "      <th>goal</th>\n",
              "      <th>launched</th>\n",
              "      <th>pledged</th>\n",
              "      <th>state</th>\n",
              "      <th>backers</th>\n",
              "      <th>country</th>\n",
              "      <th>usd_pledged</th>\n",
              "      <th>usd_pledged_real</th>\n",
              "      <th>usd_goal_real</th>\n",
              "      <th>name_weirdness</th>\n",
              "    </tr>\n",
              "  </thead>\n",
              "  <tbody>\n",
              "    <tr>\n",
              "      <th>count</th>\n",
              "      <td>3797</td>\n",
              "      <td>3797</td>\n",
              "      <td>3797</td>\n",
              "      <td>3797</td>\n",
              "      <td>3797</td>\n",
              "      <td>3797.00</td>\n",
              "      <td>3797</td>\n",
              "      <td>3797.00</td>\n",
              "      <td>3797</td>\n",
              "      <td>3797.00</td>\n",
              "      <td>3797</td>\n",
              "      <td>0.00</td>\n",
              "      <td>3797.00</td>\n",
              "      <td>3797.00</td>\n",
              "      <td>3797.00</td>\n",
              "    </tr>\n",
              "    <tr>\n",
              "      <th>unique</th>\n",
              "      <td>3764</td>\n",
              "      <td>28</td>\n",
              "      <td>12</td>\n",
              "      <td>10</td>\n",
              "      <td>722</td>\n",
              "      <td>nan</td>\n",
              "      <td>3797</td>\n",
              "      <td>nan</td>\n",
              "      <td>6</td>\n",
              "      <td>nan</td>\n",
              "      <td>1</td>\n",
              "      <td>nan</td>\n",
              "      <td>nan</td>\n",
              "      <td>nan</td>\n",
              "      <td>nan</td>\n",
              "    </tr>\n",
              "    <tr>\n",
              "      <th>top</th>\n",
              "      <td>2cdff1887ad0f0d341ca3f08841de3a0</td>\n",
              "      <td>Music</td>\n",
              "      <td>Music</td>\n",
              "      <td>USD</td>\n",
              "      <td>2015-05-01 00:00:00</td>\n",
              "      <td>nan</td>\n",
              "      <td>2015-10-27 17:00:11</td>\n",
              "      <td>nan</td>\n",
              "      <td>undefined</td>\n",
              "      <td>nan</td>\n",
              "      <td>N,0\"</td>\n",
              "      <td>nan</td>\n",
              "      <td>nan</td>\n",
              "      <td>nan</td>\n",
              "      <td>nan</td>\n",
              "    </tr>\n",
              "    <tr>\n",
              "      <th>freq</th>\n",
              "      <td>28</td>\n",
              "      <td>2387</td>\n",
              "      <td>2388</td>\n",
              "      <td>2738</td>\n",
              "      <td>26</td>\n",
              "      <td>nan</td>\n",
              "      <td>1</td>\n",
              "      <td>nan</td>\n",
              "      <td>3562</td>\n",
              "      <td>nan</td>\n",
              "      <td>3797</td>\n",
              "      <td>nan</td>\n",
              "      <td>nan</td>\n",
              "      <td>nan</td>\n",
              "      <td>nan</td>\n",
              "    </tr>\n",
              "    <tr>\n",
              "      <th>first</th>\n",
              "      <td>NaN</td>\n",
              "      <td>NaN</td>\n",
              "      <td>NaN</td>\n",
              "      <td>NaN</td>\n",
              "      <td>2012-04-24 00:00:00</td>\n",
              "      <td>nan</td>\n",
              "      <td>2012-03-14 19:05:44</td>\n",
              "      <td>nan</td>\n",
              "      <td>NaN</td>\n",
              "      <td>nan</td>\n",
              "      <td>NaN</td>\n",
              "      <td>nan</td>\n",
              "      <td>nan</td>\n",
              "      <td>nan</td>\n",
              "      <td>nan</td>\n",
              "    </tr>\n",
              "    <tr>\n",
              "      <th>last</th>\n",
              "      <td>NaN</td>\n",
              "      <td>NaN</td>\n",
              "      <td>NaN</td>\n",
              "      <td>NaN</td>\n",
              "      <td>2016-07-07 00:00:00</td>\n",
              "      <td>nan</td>\n",
              "      <td>2016-05-21 20:45:12</td>\n",
              "      <td>nan</td>\n",
              "      <td>NaN</td>\n",
              "      <td>nan</td>\n",
              "      <td>NaN</td>\n",
              "      <td>nan</td>\n",
              "      <td>nan</td>\n",
              "      <td>nan</td>\n",
              "      <td>nan</td>\n",
              "    </tr>\n",
              "    <tr>\n",
              "      <th>mean</th>\n",
              "      <td>NaN</td>\n",
              "      <td>NaN</td>\n",
              "      <td>NaN</td>\n",
              "      <td>NaN</td>\n",
              "      <td>NaN</td>\n",
              "      <td>5413.35</td>\n",
              "      <td>NaN</td>\n",
              "      <td>3023.26</td>\n",
              "      <td>NaN</td>\n",
              "      <td>0.00</td>\n",
              "      <td>NaN</td>\n",
              "      <td>nan</td>\n",
              "      <td>2949.85</td>\n",
              "      <td>5097.31</td>\n",
              "      <td>0.00</td>\n",
              "    </tr>\n",
              "    <tr>\n",
              "      <th>std</th>\n",
              "      <td>NaN</td>\n",
              "      <td>NaN</td>\n",
              "      <td>NaN</td>\n",
              "      <td>NaN</td>\n",
              "      <td>NaN</td>\n",
              "      <td>37466.24</td>\n",
              "      <td>NaN</td>\n",
              "      <td>44919.41</td>\n",
              "      <td>NaN</td>\n",
              "      <td>0.00</td>\n",
              "      <td>NaN</td>\n",
              "      <td>nan</td>\n",
              "      <td>44881.72</td>\n",
              "      <td>37258.79</td>\n",
              "      <td>0.00</td>\n",
              "    </tr>\n",
              "    <tr>\n",
              "      <th>min</th>\n",
              "      <td>NaN</td>\n",
              "      <td>NaN</td>\n",
              "      <td>NaN</td>\n",
              "      <td>NaN</td>\n",
              "      <td>NaN</td>\n",
              "      <td>108.00</td>\n",
              "      <td>NaN</td>\n",
              "      <td>0.00</td>\n",
              "      <td>NaN</td>\n",
              "      <td>0.00</td>\n",
              "      <td>NaN</td>\n",
              "      <td>nan</td>\n",
              "      <td>0.00</td>\n",
              "      <td>85.28</td>\n",
              "      <td>0.00</td>\n",
              "    </tr>\n",
              "    <tr>\n",
              "      <th>25%</th>\n",
              "      <td>NaN</td>\n",
              "      <td>NaN</td>\n",
              "      <td>NaN</td>\n",
              "      <td>NaN</td>\n",
              "      <td>NaN</td>\n",
              "      <td>2000.00</td>\n",
              "      <td>NaN</td>\n",
              "      <td>5.00</td>\n",
              "      <td>NaN</td>\n",
              "      <td>0.00</td>\n",
              "      <td>NaN</td>\n",
              "      <td>nan</td>\n",
              "      <td>5.00</td>\n",
              "      <td>2250.00</td>\n",
              "      <td>0.00</td>\n",
              "    </tr>\n",
              "    <tr>\n",
              "      <th>50%</th>\n",
              "      <td>NaN</td>\n",
              "      <td>NaN</td>\n",
              "      <td>NaN</td>\n",
              "      <td>NaN</td>\n",
              "      <td>NaN</td>\n",
              "      <td>3500.00</td>\n",
              "      <td>NaN</td>\n",
              "      <td>640.00</td>\n",
              "      <td>NaN</td>\n",
              "      <td>0.00</td>\n",
              "      <td>NaN</td>\n",
              "      <td>nan</td>\n",
              "      <td>616.00</td>\n",
              "      <td>3583.05</td>\n",
              "      <td>0.00</td>\n",
              "    </tr>\n",
              "    <tr>\n",
              "      <th>75%</th>\n",
              "      <td>NaN</td>\n",
              "      <td>NaN</td>\n",
              "      <td>NaN</td>\n",
              "      <td>NaN</td>\n",
              "      <td>NaN</td>\n",
              "      <td>5000.00</td>\n",
              "      <td>NaN</td>\n",
              "      <td>3845.00</td>\n",
              "      <td>NaN</td>\n",
              "      <td>0.00</td>\n",
              "      <td>NaN</td>\n",
              "      <td>nan</td>\n",
              "      <td>3932.23</td>\n",
              "      <td>5208.09</td>\n",
              "      <td>0.00</td>\n",
              "    </tr>\n",
              "    <tr>\n",
              "      <th>max</th>\n",
              "      <td>NaN</td>\n",
              "      <td>NaN</td>\n",
              "      <td>NaN</td>\n",
              "      <td>NaN</td>\n",
              "      <td>NaN</td>\n",
              "      <td>1877000.00</td>\n",
              "      <td>NaN</td>\n",
              "      <td>2762571.78</td>\n",
              "      <td>NaN</td>\n",
              "      <td>0.00</td>\n",
              "      <td>NaN</td>\n",
              "      <td>nan</td>\n",
              "      <td>2762571.78</td>\n",
              "      <td>1877000.00</td>\n",
              "      <td>0.00</td>\n",
              "    </tr>\n",
              "  </tbody>\n",
              "</table>\n",
              "</div>"
            ],
            "text/plain": [
              "                                    name  ... name_weirdness\n",
              "count                               3797  ...        3797.00\n",
              "unique                              3764  ...            nan\n",
              "top     2cdff1887ad0f0d341ca3f08841de3a0  ...            nan\n",
              "freq                                  28  ...            nan\n",
              "first                                NaN  ...            nan\n",
              "last                                 NaN  ...            nan\n",
              "mean                                 NaN  ...           0.00\n",
              "std                                  NaN  ...           0.00\n",
              "min                                  NaN  ...           0.00\n",
              "25%                                  NaN  ...           0.00\n",
              "50%                                  NaN  ...           0.00\n",
              "75%                                  NaN  ...           0.00\n",
              "max                                  NaN  ...           0.00\n",
              "\n",
              "[13 rows x 15 columns]"
            ]
          },
          "metadata": {
            "tags": []
          },
          "execution_count": 65
        }
      ]
    },
    {
      "cell_type": "markdown",
      "metadata": {
        "id": "VVTPw-yHkX-i",
        "colab_type": "text"
      },
      "source": [
        "Interesante, todos los datos pertenecen a un país indeterminado.\n",
        "\n",
        "Todos los datos de ese \"país\" no tienen dinero prometido?"
      ]
    },
    {
      "cell_type": "code",
      "metadata": {
        "colab_type": "code",
        "id": "V1fJwrLFIXUW",
        "colab": {
          "base_uri": "https://localhost:8080/",
          "height": 76
        },
        "outputId": "25b0b2c1-bd12-4a1e-b2f3-d7ecbde10d56"
      },
      "source": [
        "kickstarter_2018[(kickstarter_2018.country == 'N,0\"') & ~(kickstarter_2018.usd_pledged.isnull())].head()"
      ],
      "execution_count": null,
      "outputs": [
        {
          "output_type": "execute_result",
          "data": {
            "text/html": [
              "<div>\n",
              "<style scoped>\n",
              "    .dataframe tbody tr th:only-of-type {\n",
              "        vertical-align: middle;\n",
              "    }\n",
              "\n",
              "    .dataframe tbody tr th {\n",
              "        vertical-align: top;\n",
              "    }\n",
              "\n",
              "    .dataframe thead th {\n",
              "        text-align: right;\n",
              "    }\n",
              "</style>\n",
              "<table border=\"1\" class=\"dataframe\">\n",
              "  <thead>\n",
              "    <tr style=\"text-align: right;\">\n",
              "      <th></th>\n",
              "      <th>name</th>\n",
              "      <th>category</th>\n",
              "      <th>main_category</th>\n",
              "      <th>currency</th>\n",
              "      <th>deadline</th>\n",
              "      <th>goal</th>\n",
              "      <th>launched</th>\n",
              "      <th>pledged</th>\n",
              "      <th>state</th>\n",
              "      <th>backers</th>\n",
              "      <th>country</th>\n",
              "      <th>usd_pledged</th>\n",
              "      <th>usd_pledged_real</th>\n",
              "      <th>usd_goal_real</th>\n",
              "      <th>name_weirdness</th>\n",
              "    </tr>\n",
              "    <tr>\n",
              "      <th>ID</th>\n",
              "      <th></th>\n",
              "      <th></th>\n",
              "      <th></th>\n",
              "      <th></th>\n",
              "      <th></th>\n",
              "      <th></th>\n",
              "      <th></th>\n",
              "      <th></th>\n",
              "      <th></th>\n",
              "      <th></th>\n",
              "      <th></th>\n",
              "      <th></th>\n",
              "      <th></th>\n",
              "      <th></th>\n",
              "      <th></th>\n",
              "    </tr>\n",
              "  </thead>\n",
              "  <tbody>\n",
              "  </tbody>\n",
              "</table>\n",
              "</div>"
            ],
            "text/plain": [
              "Empty DataFrame\n",
              "Columns: [name, category, main_category, currency, deadline, goal, launched, pledged, state, backers, country, usd_pledged, usd_pledged_real, usd_goal_real, name_weirdness]\n",
              "Index: []"
            ]
          },
          "metadata": {
            "tags": []
          },
          "execution_count": 66
        }
      ]
    },
    {
      "cell_type": "markdown",
      "metadata": {
        "id": "J8A9g39jkX-k",
        "colab_type": "text"
      },
      "source": [
        "A priori como los proyectos no tienen patrocinantes, completamos en 0 los valores"
      ]
    },
    {
      "cell_type": "code",
      "metadata": {
        "colab_type": "code",
        "id": "GRx81S7wIXUX",
        "colab": {
          "base_uri": "https://localhost:8080/",
          "height": 33
        },
        "outputId": "ebe95013-be97-4d04-8321-ef7a6473fda8"
      },
      "source": [
        "kickstarter_2018 = kickstarter_2018.fillna(0)\n",
        "missing_values_count = kickstarter_2018.isnull().sum()\n",
        "missing_values_count[missing_values_count > 0]"
      ],
      "execution_count": null,
      "outputs": [
        {
          "output_type": "execute_result",
          "data": {
            "text/plain": [
              "Series([], dtype: int64)"
            ]
          },
          "metadata": {
            "tags": []
          },
          "execution_count": 67
        }
      ]
    },
    {
      "cell_type": "code",
      "metadata": {
        "id": "rHGTwfBNkX-m",
        "colab_type": "code",
        "colab": {
          "base_uri": "https://localhost:8080/",
          "height": 33
        },
        "outputId": "98b3144f-8577-4e1a-91b7-0cd5df7850e6"
      },
      "source": [
        "kickstarter_2018.shape"
      ],
      "execution_count": null,
      "outputs": [
        {
          "output_type": "execute_result",
          "data": {
            "text/plain": [
              "(378661, 15)"
            ]
          },
          "metadata": {
            "tags": []
          },
          "execution_count": 68
        }
      ]
    },
    {
      "cell_type": "markdown",
      "metadata": {
        "colab_type": "text",
        "id": "kMX1NiqXIXUY"
      },
      "source": [
        "Más métodos disponibles en https://pandas.pydata.org/pandas-docs/stable/api.html#api-dataframe-missing y http://scikit-learn.org/stable/modules/classes.html#module-sklearn.preprocessing"
      ]
    },
    {
      "cell_type": "markdown",
      "metadata": {
        "colab_type": "text",
        "id": "wg5g7VivIXUY"
      },
      "source": [
        "## 2.3. Codificar variables\n",
        "\n",
        "Para trabajar con los algoritmos de aprendizaje automático, las variables categóricas estas deben ser codificadas como variables numéricas, no como cadenas.\n",
        "\n",
        "Para esta tarea también hay diferentes estrategias, dos comunes son: asociar cadena a número y asociar cadena a columna."
      ]
    },
    {
      "cell_type": "code",
      "metadata": {
        "colab_type": "code",
        "id": "vSA_t4gkIXUY",
        "colab": {}
      },
      "source": [
        "from sklearn import preprocessing"
      ],
      "execution_count": null,
      "outputs": []
    },
    {
      "cell_type": "code",
      "metadata": {
        "colab_type": "code",
        "id": "64TDAVR9IXUZ",
        "colab": {
          "base_uri": "https://localhost:8080/",
          "height": 162
        },
        "outputId": "d165b031-0992-4b69-f64c-3ed74dfbcba0"
      },
      "source": [
        "kickstarter_2018.describe(include=['O']) #'O' from object"
      ],
      "execution_count": null,
      "outputs": [
        {
          "output_type": "execute_result",
          "data": {
            "text/html": [
              "<div>\n",
              "<style scoped>\n",
              "    .dataframe tbody tr th:only-of-type {\n",
              "        vertical-align: middle;\n",
              "    }\n",
              "\n",
              "    .dataframe tbody tr th {\n",
              "        vertical-align: top;\n",
              "    }\n",
              "\n",
              "    .dataframe thead th {\n",
              "        text-align: right;\n",
              "    }\n",
              "</style>\n",
              "<table border=\"1\" class=\"dataframe\">\n",
              "  <thead>\n",
              "    <tr style=\"text-align: right;\">\n",
              "      <th></th>\n",
              "      <th>name</th>\n",
              "      <th>category</th>\n",
              "      <th>main_category</th>\n",
              "      <th>currency</th>\n",
              "      <th>state</th>\n",
              "      <th>country</th>\n",
              "    </tr>\n",
              "  </thead>\n",
              "  <tbody>\n",
              "    <tr>\n",
              "      <th>count</th>\n",
              "      <td>378661</td>\n",
              "      <td>378661</td>\n",
              "      <td>378661</td>\n",
              "      <td>378661</td>\n",
              "      <td>378661</td>\n",
              "      <td>378661</td>\n",
              "    </tr>\n",
              "    <tr>\n",
              "      <th>unique</th>\n",
              "      <td>375765</td>\n",
              "      <td>159</td>\n",
              "      <td>15</td>\n",
              "      <td>14</td>\n",
              "      <td>6</td>\n",
              "      <td>23</td>\n",
              "    </tr>\n",
              "    <tr>\n",
              "      <th>top</th>\n",
              "      <td>2cdff1887ad0f0d341ca3f08841de3a0</td>\n",
              "      <td>Product Design</td>\n",
              "      <td>Film &amp; Video</td>\n",
              "      <td>USD</td>\n",
              "      <td>failed</td>\n",
              "      <td>US</td>\n",
              "    </tr>\n",
              "    <tr>\n",
              "      <th>freq</th>\n",
              "      <td>41</td>\n",
              "      <td>22314</td>\n",
              "      <td>63585</td>\n",
              "      <td>295365</td>\n",
              "      <td>197719</td>\n",
              "      <td>292627</td>\n",
              "    </tr>\n",
              "  </tbody>\n",
              "</table>\n",
              "</div>"
            ],
            "text/plain": [
              "                                    name        category  ...   state country\n",
              "count                             378661          378661  ...  378661  378661\n",
              "unique                            375765             159  ...       6      23\n",
              "top     2cdff1887ad0f0d341ca3f08841de3a0  Product Design  ...  failed      US\n",
              "freq                                  41           22314  ...  197719  292627\n",
              "\n",
              "[4 rows x 6 columns]"
            ]
          },
          "metadata": {
            "tags": []
          },
          "execution_count": 70
        }
      ]
    },
    {
      "cell_type": "code",
      "metadata": {
        "colab_type": "code",
        "id": "Furd8rzbIXUa",
        "colab": {
          "base_uri": "https://localhost:8080/",
          "height": 33
        },
        "outputId": "bfbe5aaa-2cf1-4c51-c7bf-99e78ba1b25a"
      },
      "source": [
        "column='main_category'\n",
        "# Create a label (category) encoder object\n",
        "le = preprocessing.LabelEncoder()\n",
        "# Fit the encoder to the pandas column\n",
        "le.fit(kickstarter_2018[column])"
      ],
      "execution_count": null,
      "outputs": [
        {
          "output_type": "execute_result",
          "data": {
            "text/plain": [
              "LabelEncoder()"
            ]
          },
          "metadata": {
            "tags": []
          },
          "execution_count": 71
        }
      ]
    },
    {
      "cell_type": "code",
      "metadata": {
        "colab_type": "code",
        "id": "cit8woaJIXUb",
        "colab": {
          "base_uri": "https://localhost:8080/",
          "height": 261
        },
        "outputId": "1439b1cd-c309-4860-dda4-d94a501b5bbd"
      },
      "source": [
        "# View encoder mapping\n",
        "dict(zip(le.classes_,le.transform(le.classes_)))"
      ],
      "execution_count": null,
      "outputs": [
        {
          "output_type": "execute_result",
          "data": {
            "text/plain": [
              "{'Art': 0,\n",
              " 'Comics': 1,\n",
              " 'Crafts': 2,\n",
              " 'Dance': 3,\n",
              " 'Design': 4,\n",
              " 'Fashion': 5,\n",
              " 'Film & Video': 6,\n",
              " 'Food': 7,\n",
              " 'Games': 8,\n",
              " 'Journalism': 9,\n",
              " 'Music': 10,\n",
              " 'Photography': 11,\n",
              " 'Publishing': 12,\n",
              " 'Technology': 13,\n",
              " 'Theater': 14}"
            ]
          },
          "metadata": {
            "tags": []
          },
          "execution_count": 72
        }
      ]
    },
    {
      "cell_type": "code",
      "metadata": {
        "colab_type": "code",
        "id": "ugnDG6WNIXUc",
        "colab": {
          "base_uri": "https://localhost:8080/",
          "height": 402
        },
        "outputId": "d0ef82ec-8401-4cfe-d49d-edc62d61fa92"
      },
      "source": [
        "# Apply the fitted encoder to the pandas column\n",
        "kickstarter_2018[column] = le.transform(kickstarter_2018[column]) \n",
        "kickstarter_2018.head()"
      ],
      "execution_count": null,
      "outputs": [
        {
          "output_type": "execute_result",
          "data": {
            "text/html": [
              "<div>\n",
              "<style scoped>\n",
              "    .dataframe tbody tr th:only-of-type {\n",
              "        vertical-align: middle;\n",
              "    }\n",
              "\n",
              "    .dataframe tbody tr th {\n",
              "        vertical-align: top;\n",
              "    }\n",
              "\n",
              "    .dataframe thead th {\n",
              "        text-align: right;\n",
              "    }\n",
              "</style>\n",
              "<table border=\"1\" class=\"dataframe\">\n",
              "  <thead>\n",
              "    <tr style=\"text-align: right;\">\n",
              "      <th></th>\n",
              "      <th>name</th>\n",
              "      <th>category</th>\n",
              "      <th>main_category</th>\n",
              "      <th>currency</th>\n",
              "      <th>deadline</th>\n",
              "      <th>goal</th>\n",
              "      <th>launched</th>\n",
              "      <th>pledged</th>\n",
              "      <th>state</th>\n",
              "      <th>backers</th>\n",
              "      <th>country</th>\n",
              "      <th>usd_pledged</th>\n",
              "      <th>usd_pledged_real</th>\n",
              "      <th>usd_goal_real</th>\n",
              "      <th>name_weirdness</th>\n",
              "    </tr>\n",
              "    <tr>\n",
              "      <th>ID</th>\n",
              "      <th></th>\n",
              "      <th></th>\n",
              "      <th></th>\n",
              "      <th></th>\n",
              "      <th></th>\n",
              "      <th></th>\n",
              "      <th></th>\n",
              "      <th></th>\n",
              "      <th></th>\n",
              "      <th></th>\n",
              "      <th></th>\n",
              "      <th></th>\n",
              "      <th></th>\n",
              "      <th></th>\n",
              "      <th></th>\n",
              "    </tr>\n",
              "  </thead>\n",
              "  <tbody>\n",
              "    <tr>\n",
              "      <th>1000002330</th>\n",
              "      <td>a6828ae8a2eca25f0dd7035efc0af0a0</td>\n",
              "      <td>Poetry</td>\n",
              "      <td>12</td>\n",
              "      <td>GBP</td>\n",
              "      <td>2015-10-09</td>\n",
              "      <td>1000.00</td>\n",
              "      <td>2015-08-11 12:12:28</td>\n",
              "      <td>0.00</td>\n",
              "      <td>failed</td>\n",
              "      <td>0</td>\n",
              "      <td>GB</td>\n",
              "      <td>0.00</td>\n",
              "      <td>0.00</td>\n",
              "      <td>1533.95</td>\n",
              "      <td>0</td>\n",
              "    </tr>\n",
              "    <tr>\n",
              "      <th>1000003930</th>\n",
              "      <td>81609b3bdc0b96f429672d69702f2524</td>\n",
              "      <td>Narrative Film</td>\n",
              "      <td>6</td>\n",
              "      <td>USD</td>\n",
              "      <td>2017-11-01</td>\n",
              "      <td>30000.00</td>\n",
              "      <td>2017-09-02 04:43:57</td>\n",
              "      <td>2421.00</td>\n",
              "      <td>failed</td>\n",
              "      <td>15</td>\n",
              "      <td>US</td>\n",
              "      <td>100.00</td>\n",
              "      <td>2421.00</td>\n",
              "      <td>30000.00</td>\n",
              "      <td>0</td>\n",
              "    </tr>\n",
              "    <tr>\n",
              "      <th>1000004038</th>\n",
              "      <td>c12f5c3bace2f0213cdb2679a265dca0</td>\n",
              "      <td>Narrative Film</td>\n",
              "      <td>6</td>\n",
              "      <td>USD</td>\n",
              "      <td>2013-02-26</td>\n",
              "      <td>45000.00</td>\n",
              "      <td>2013-01-12 00:20:50</td>\n",
              "      <td>220.00</td>\n",
              "      <td>failed</td>\n",
              "      <td>3</td>\n",
              "      <td>US</td>\n",
              "      <td>220.00</td>\n",
              "      <td>220.00</td>\n",
              "      <td>45000.00</td>\n",
              "      <td>0</td>\n",
              "    </tr>\n",
              "    <tr>\n",
              "      <th>1000007540</th>\n",
              "      <td>4dbdcf09c86bbf5683ec39bc57b77f81</td>\n",
              "      <td>Music</td>\n",
              "      <td>10</td>\n",
              "      <td>USD</td>\n",
              "      <td>2012-04-16</td>\n",
              "      <td>5000.00</td>\n",
              "      <td>2012-03-17 03:24:11</td>\n",
              "      <td>1.00</td>\n",
              "      <td>failed</td>\n",
              "      <td>1</td>\n",
              "      <td>US</td>\n",
              "      <td>1.00</td>\n",
              "      <td>1.00</td>\n",
              "      <td>5000.00</td>\n",
              "      <td>0</td>\n",
              "    </tr>\n",
              "    <tr>\n",
              "      <th>1000011046</th>\n",
              "      <td>9c01404a2ef702811c2088ce139042ad</td>\n",
              "      <td>Film &amp; Video</td>\n",
              "      <td>6</td>\n",
              "      <td>USD</td>\n",
              "      <td>2015-08-29</td>\n",
              "      <td>19500.00</td>\n",
              "      <td>2015-07-04 08:35:03</td>\n",
              "      <td>1283.00</td>\n",
              "      <td>canceled</td>\n",
              "      <td>14</td>\n",
              "      <td>US</td>\n",
              "      <td>1283.00</td>\n",
              "      <td>1283.00</td>\n",
              "      <td>19500.00</td>\n",
              "      <td>0</td>\n",
              "    </tr>\n",
              "  </tbody>\n",
              "</table>\n",
              "</div>"
            ],
            "text/plain": [
              "                                        name  ... name_weirdness\n",
              "ID                                            ...               \n",
              "1000002330  a6828ae8a2eca25f0dd7035efc0af0a0  ...              0\n",
              "1000003930  81609b3bdc0b96f429672d69702f2524  ...              0\n",
              "1000004038  c12f5c3bace2f0213cdb2679a265dca0  ...              0\n",
              "1000007540  4dbdcf09c86bbf5683ec39bc57b77f81  ...              0\n",
              "1000011046  9c01404a2ef702811c2088ce139042ad  ...              0\n",
              "\n",
              "[5 rows x 15 columns]"
            ]
          },
          "metadata": {
            "tags": []
          },
          "execution_count": 73
        }
      ]
    },
    {
      "cell_type": "code",
      "metadata": {
        "colab_type": "code",
        "id": "04eBH7hoIXUd",
        "colab": {
          "base_uri": "https://localhost:8080/",
          "height": 402
        },
        "outputId": "71f5fca3-1874-4dcb-9b72-4e6f010400ae"
      },
      "source": [
        "# Reversing encoding\n",
        "kickstarter_2018[column] = le.inverse_transform(kickstarter_2018[column]) \n",
        "kickstarter_2018.head()"
      ],
      "execution_count": null,
      "outputs": [
        {
          "output_type": "execute_result",
          "data": {
            "text/html": [
              "<div>\n",
              "<style scoped>\n",
              "    .dataframe tbody tr th:only-of-type {\n",
              "        vertical-align: middle;\n",
              "    }\n",
              "\n",
              "    .dataframe tbody tr th {\n",
              "        vertical-align: top;\n",
              "    }\n",
              "\n",
              "    .dataframe thead th {\n",
              "        text-align: right;\n",
              "    }\n",
              "</style>\n",
              "<table border=\"1\" class=\"dataframe\">\n",
              "  <thead>\n",
              "    <tr style=\"text-align: right;\">\n",
              "      <th></th>\n",
              "      <th>name</th>\n",
              "      <th>category</th>\n",
              "      <th>main_category</th>\n",
              "      <th>currency</th>\n",
              "      <th>deadline</th>\n",
              "      <th>goal</th>\n",
              "      <th>launched</th>\n",
              "      <th>pledged</th>\n",
              "      <th>state</th>\n",
              "      <th>backers</th>\n",
              "      <th>country</th>\n",
              "      <th>usd_pledged</th>\n",
              "      <th>usd_pledged_real</th>\n",
              "      <th>usd_goal_real</th>\n",
              "      <th>name_weirdness</th>\n",
              "    </tr>\n",
              "    <tr>\n",
              "      <th>ID</th>\n",
              "      <th></th>\n",
              "      <th></th>\n",
              "      <th></th>\n",
              "      <th></th>\n",
              "      <th></th>\n",
              "      <th></th>\n",
              "      <th></th>\n",
              "      <th></th>\n",
              "      <th></th>\n",
              "      <th></th>\n",
              "      <th></th>\n",
              "      <th></th>\n",
              "      <th></th>\n",
              "      <th></th>\n",
              "      <th></th>\n",
              "    </tr>\n",
              "  </thead>\n",
              "  <tbody>\n",
              "    <tr>\n",
              "      <th>1000002330</th>\n",
              "      <td>a6828ae8a2eca25f0dd7035efc0af0a0</td>\n",
              "      <td>Poetry</td>\n",
              "      <td>Publishing</td>\n",
              "      <td>GBP</td>\n",
              "      <td>2015-10-09</td>\n",
              "      <td>1000.00</td>\n",
              "      <td>2015-08-11 12:12:28</td>\n",
              "      <td>0.00</td>\n",
              "      <td>failed</td>\n",
              "      <td>0</td>\n",
              "      <td>GB</td>\n",
              "      <td>0.00</td>\n",
              "      <td>0.00</td>\n",
              "      <td>1533.95</td>\n",
              "      <td>0</td>\n",
              "    </tr>\n",
              "    <tr>\n",
              "      <th>1000003930</th>\n",
              "      <td>81609b3bdc0b96f429672d69702f2524</td>\n",
              "      <td>Narrative Film</td>\n",
              "      <td>Film &amp; Video</td>\n",
              "      <td>USD</td>\n",
              "      <td>2017-11-01</td>\n",
              "      <td>30000.00</td>\n",
              "      <td>2017-09-02 04:43:57</td>\n",
              "      <td>2421.00</td>\n",
              "      <td>failed</td>\n",
              "      <td>15</td>\n",
              "      <td>US</td>\n",
              "      <td>100.00</td>\n",
              "      <td>2421.00</td>\n",
              "      <td>30000.00</td>\n",
              "      <td>0</td>\n",
              "    </tr>\n",
              "    <tr>\n",
              "      <th>1000004038</th>\n",
              "      <td>c12f5c3bace2f0213cdb2679a265dca0</td>\n",
              "      <td>Narrative Film</td>\n",
              "      <td>Film &amp; Video</td>\n",
              "      <td>USD</td>\n",
              "      <td>2013-02-26</td>\n",
              "      <td>45000.00</td>\n",
              "      <td>2013-01-12 00:20:50</td>\n",
              "      <td>220.00</td>\n",
              "      <td>failed</td>\n",
              "      <td>3</td>\n",
              "      <td>US</td>\n",
              "      <td>220.00</td>\n",
              "      <td>220.00</td>\n",
              "      <td>45000.00</td>\n",
              "      <td>0</td>\n",
              "    </tr>\n",
              "    <tr>\n",
              "      <th>1000007540</th>\n",
              "      <td>4dbdcf09c86bbf5683ec39bc57b77f81</td>\n",
              "      <td>Music</td>\n",
              "      <td>Music</td>\n",
              "      <td>USD</td>\n",
              "      <td>2012-04-16</td>\n",
              "      <td>5000.00</td>\n",
              "      <td>2012-03-17 03:24:11</td>\n",
              "      <td>1.00</td>\n",
              "      <td>failed</td>\n",
              "      <td>1</td>\n",
              "      <td>US</td>\n",
              "      <td>1.00</td>\n",
              "      <td>1.00</td>\n",
              "      <td>5000.00</td>\n",
              "      <td>0</td>\n",
              "    </tr>\n",
              "    <tr>\n",
              "      <th>1000011046</th>\n",
              "      <td>9c01404a2ef702811c2088ce139042ad</td>\n",
              "      <td>Film &amp; Video</td>\n",
              "      <td>Film &amp; Video</td>\n",
              "      <td>USD</td>\n",
              "      <td>2015-08-29</td>\n",
              "      <td>19500.00</td>\n",
              "      <td>2015-07-04 08:35:03</td>\n",
              "      <td>1283.00</td>\n",
              "      <td>canceled</td>\n",
              "      <td>14</td>\n",
              "      <td>US</td>\n",
              "      <td>1283.00</td>\n",
              "      <td>1283.00</td>\n",
              "      <td>19500.00</td>\n",
              "      <td>0</td>\n",
              "    </tr>\n",
              "  </tbody>\n",
              "</table>\n",
              "</div>"
            ],
            "text/plain": [
              "                                        name  ... name_weirdness\n",
              "ID                                            ...               \n",
              "1000002330  a6828ae8a2eca25f0dd7035efc0af0a0  ...              0\n",
              "1000003930  81609b3bdc0b96f429672d69702f2524  ...              0\n",
              "1000004038  c12f5c3bace2f0213cdb2679a265dca0  ...              0\n",
              "1000007540  4dbdcf09c86bbf5683ec39bc57b77f81  ...              0\n",
              "1000011046  9c01404a2ef702811c2088ce139042ad  ...              0\n",
              "\n",
              "[5 rows x 15 columns]"
            ]
          },
          "metadata": {
            "tags": []
          },
          "execution_count": 74
        }
      ]
    },
    {
      "cell_type": "code",
      "metadata": {
        "colab_type": "code",
        "id": "CwNKqbgbIXUd",
        "colab": {
          "base_uri": "https://localhost:8080/",
          "height": 335
        },
        "outputId": "e0efc4bb-41c6-407d-b792-486682d589f3"
      },
      "source": [
        "from sklearn.preprocessing import LabelBinarizer\n",
        "other_column = 'state'\n",
        "\n",
        "lb = LabelBinarizer()\n",
        "\n",
        "lb_results = lb.fit_transform(kickstarter_2018[other_column])\n",
        "pd.DataFrame(lb_results, columns=((other_column + '_') + pd.Series(lb.classes_))).head(10)"
      ],
      "execution_count": null,
      "outputs": [
        {
          "output_type": "execute_result",
          "data": {
            "text/html": [
              "<div>\n",
              "<style scoped>\n",
              "    .dataframe tbody tr th:only-of-type {\n",
              "        vertical-align: middle;\n",
              "    }\n",
              "\n",
              "    .dataframe tbody tr th {\n",
              "        vertical-align: top;\n",
              "    }\n",
              "\n",
              "    .dataframe thead th {\n",
              "        text-align: right;\n",
              "    }\n",
              "</style>\n",
              "<table border=\"1\" class=\"dataframe\">\n",
              "  <thead>\n",
              "    <tr style=\"text-align: right;\">\n",
              "      <th></th>\n",
              "      <th>state_canceled</th>\n",
              "      <th>state_failed</th>\n",
              "      <th>state_live</th>\n",
              "      <th>state_successful</th>\n",
              "      <th>state_suspended</th>\n",
              "      <th>state_undefined</th>\n",
              "    </tr>\n",
              "  </thead>\n",
              "  <tbody>\n",
              "    <tr>\n",
              "      <th>0</th>\n",
              "      <td>0</td>\n",
              "      <td>1</td>\n",
              "      <td>0</td>\n",
              "      <td>0</td>\n",
              "      <td>0</td>\n",
              "      <td>0</td>\n",
              "    </tr>\n",
              "    <tr>\n",
              "      <th>1</th>\n",
              "      <td>0</td>\n",
              "      <td>1</td>\n",
              "      <td>0</td>\n",
              "      <td>0</td>\n",
              "      <td>0</td>\n",
              "      <td>0</td>\n",
              "    </tr>\n",
              "    <tr>\n",
              "      <th>2</th>\n",
              "      <td>0</td>\n",
              "      <td>1</td>\n",
              "      <td>0</td>\n",
              "      <td>0</td>\n",
              "      <td>0</td>\n",
              "      <td>0</td>\n",
              "    </tr>\n",
              "    <tr>\n",
              "      <th>3</th>\n",
              "      <td>0</td>\n",
              "      <td>1</td>\n",
              "      <td>0</td>\n",
              "      <td>0</td>\n",
              "      <td>0</td>\n",
              "      <td>0</td>\n",
              "    </tr>\n",
              "    <tr>\n",
              "      <th>4</th>\n",
              "      <td>1</td>\n",
              "      <td>0</td>\n",
              "      <td>0</td>\n",
              "      <td>0</td>\n",
              "      <td>0</td>\n",
              "      <td>0</td>\n",
              "    </tr>\n",
              "    <tr>\n",
              "      <th>5</th>\n",
              "      <td>0</td>\n",
              "      <td>0</td>\n",
              "      <td>0</td>\n",
              "      <td>1</td>\n",
              "      <td>0</td>\n",
              "      <td>0</td>\n",
              "    </tr>\n",
              "    <tr>\n",
              "      <th>6</th>\n",
              "      <td>0</td>\n",
              "      <td>0</td>\n",
              "      <td>0</td>\n",
              "      <td>1</td>\n",
              "      <td>0</td>\n",
              "      <td>0</td>\n",
              "    </tr>\n",
              "    <tr>\n",
              "      <th>7</th>\n",
              "      <td>0</td>\n",
              "      <td>1</td>\n",
              "      <td>0</td>\n",
              "      <td>0</td>\n",
              "      <td>0</td>\n",
              "      <td>0</td>\n",
              "    </tr>\n",
              "    <tr>\n",
              "      <th>8</th>\n",
              "      <td>1</td>\n",
              "      <td>0</td>\n",
              "      <td>0</td>\n",
              "      <td>0</td>\n",
              "      <td>0</td>\n",
              "      <td>0</td>\n",
              "    </tr>\n",
              "    <tr>\n",
              "      <th>9</th>\n",
              "      <td>1</td>\n",
              "      <td>0</td>\n",
              "      <td>0</td>\n",
              "      <td>0</td>\n",
              "      <td>0</td>\n",
              "      <td>0</td>\n",
              "    </tr>\n",
              "  </tbody>\n",
              "</table>\n",
              "</div>"
            ],
            "text/plain": [
              "   state_canceled  state_failed  ...  state_suspended  state_undefined\n",
              "0               0             1  ...                0                0\n",
              "1               0             1  ...                0                0\n",
              "2               0             1  ...                0                0\n",
              "3               0             1  ...                0                0\n",
              "4               1             0  ...                0                0\n",
              "5               0             0  ...                0                0\n",
              "6               0             0  ...                0                0\n",
              "7               0             1  ...                0                0\n",
              "8               1             0  ...                0                0\n",
              "9               1             0  ...                0                0\n",
              "\n",
              "[10 rows x 6 columns]"
            ]
          },
          "metadata": {
            "tags": []
          },
          "execution_count": 75
        }
      ]
    },
    {
      "cell_type": "markdown",
      "metadata": {
        "colab_type": "text",
        "id": "8N1YbkwSIXUe"
      },
      "source": [
        "More about preprocessing in http://scikit-learn.org/stable/modules/classes.html#module-sklearn.preprocessing"
      ]
    },
    {
      "cell_type": "markdown",
      "metadata": {
        "id": "3Zm_JoqikX-9",
        "colab_type": "text"
      },
      "source": [
        "#### Ejercicio 4\n",
        "\n",
        "Codificar `currency` con ambas estrategias"
      ]
    },
    {
      "cell_type": "code",
      "metadata": {
        "id": "yHoLBmiQUI5v",
        "colab_type": "code",
        "colab": {
          "base_uri": "https://localhost:8080/",
          "height": 402
        },
        "outputId": "d971ea10-08f4-4650-ebf0-a32b909fbd1b"
      },
      "source": [
        "column='currency'\n",
        "# Create a label (category) encoder object\n",
        "le = preprocessing.LabelEncoder()\n",
        "# Fit the encoder to the pandas column\n",
        "le.fit(kickstarter_2018[column])\n",
        "kickstarter_2018[column] = le.transform(kickstarter_2018[column]) \n",
        "kickstarter_2018.head()\n",
        "\n"
      ],
      "execution_count": null,
      "outputs": [
        {
          "output_type": "execute_result",
          "data": {
            "text/html": [
              "<div>\n",
              "<style scoped>\n",
              "    .dataframe tbody tr th:only-of-type {\n",
              "        vertical-align: middle;\n",
              "    }\n",
              "\n",
              "    .dataframe tbody tr th {\n",
              "        vertical-align: top;\n",
              "    }\n",
              "\n",
              "    .dataframe thead th {\n",
              "        text-align: right;\n",
              "    }\n",
              "</style>\n",
              "<table border=\"1\" class=\"dataframe\">\n",
              "  <thead>\n",
              "    <tr style=\"text-align: right;\">\n",
              "      <th></th>\n",
              "      <th>name</th>\n",
              "      <th>category</th>\n",
              "      <th>main_category</th>\n",
              "      <th>currency</th>\n",
              "      <th>deadline</th>\n",
              "      <th>goal</th>\n",
              "      <th>launched</th>\n",
              "      <th>pledged</th>\n",
              "      <th>state</th>\n",
              "      <th>backers</th>\n",
              "      <th>country</th>\n",
              "      <th>usd_pledged</th>\n",
              "      <th>usd_pledged_real</th>\n",
              "      <th>usd_goal_real</th>\n",
              "      <th>name_weirdness</th>\n",
              "    </tr>\n",
              "    <tr>\n",
              "      <th>ID</th>\n",
              "      <th></th>\n",
              "      <th></th>\n",
              "      <th></th>\n",
              "      <th></th>\n",
              "      <th></th>\n",
              "      <th></th>\n",
              "      <th></th>\n",
              "      <th></th>\n",
              "      <th></th>\n",
              "      <th></th>\n",
              "      <th></th>\n",
              "      <th></th>\n",
              "      <th></th>\n",
              "      <th></th>\n",
              "      <th></th>\n",
              "    </tr>\n",
              "  </thead>\n",
              "  <tbody>\n",
              "    <tr>\n",
              "      <th>1000002330</th>\n",
              "      <td>a6828ae8a2eca25f0dd7035efc0af0a0</td>\n",
              "      <td>Poetry</td>\n",
              "      <td>Publishing</td>\n",
              "      <td>5</td>\n",
              "      <td>2015-10-09</td>\n",
              "      <td>1000.00</td>\n",
              "      <td>2015-08-11 12:12:28</td>\n",
              "      <td>0.00</td>\n",
              "      <td>failed</td>\n",
              "      <td>0</td>\n",
              "      <td>GB</td>\n",
              "      <td>0.00</td>\n",
              "      <td>0.00</td>\n",
              "      <td>1533.95</td>\n",
              "      <td>0</td>\n",
              "    </tr>\n",
              "    <tr>\n",
              "      <th>1000003930</th>\n",
              "      <td>81609b3bdc0b96f429672d69702f2524</td>\n",
              "      <td>Narrative Film</td>\n",
              "      <td>Film &amp; Video</td>\n",
              "      <td>13</td>\n",
              "      <td>2017-11-01</td>\n",
              "      <td>30000.00</td>\n",
              "      <td>2017-09-02 04:43:57</td>\n",
              "      <td>2421.00</td>\n",
              "      <td>failed</td>\n",
              "      <td>15</td>\n",
              "      <td>US</td>\n",
              "      <td>100.00</td>\n",
              "      <td>2421.00</td>\n",
              "      <td>30000.00</td>\n",
              "      <td>0</td>\n",
              "    </tr>\n",
              "    <tr>\n",
              "      <th>1000004038</th>\n",
              "      <td>c12f5c3bace2f0213cdb2679a265dca0</td>\n",
              "      <td>Narrative Film</td>\n",
              "      <td>Film &amp; Video</td>\n",
              "      <td>13</td>\n",
              "      <td>2013-02-26</td>\n",
              "      <td>45000.00</td>\n",
              "      <td>2013-01-12 00:20:50</td>\n",
              "      <td>220.00</td>\n",
              "      <td>failed</td>\n",
              "      <td>3</td>\n",
              "      <td>US</td>\n",
              "      <td>220.00</td>\n",
              "      <td>220.00</td>\n",
              "      <td>45000.00</td>\n",
              "      <td>0</td>\n",
              "    </tr>\n",
              "    <tr>\n",
              "      <th>1000007540</th>\n",
              "      <td>4dbdcf09c86bbf5683ec39bc57b77f81</td>\n",
              "      <td>Music</td>\n",
              "      <td>Music</td>\n",
              "      <td>13</td>\n",
              "      <td>2012-04-16</td>\n",
              "      <td>5000.00</td>\n",
              "      <td>2012-03-17 03:24:11</td>\n",
              "      <td>1.00</td>\n",
              "      <td>failed</td>\n",
              "      <td>1</td>\n",
              "      <td>US</td>\n",
              "      <td>1.00</td>\n",
              "      <td>1.00</td>\n",
              "      <td>5000.00</td>\n",
              "      <td>0</td>\n",
              "    </tr>\n",
              "    <tr>\n",
              "      <th>1000011046</th>\n",
              "      <td>9c01404a2ef702811c2088ce139042ad</td>\n",
              "      <td>Film &amp; Video</td>\n",
              "      <td>Film &amp; Video</td>\n",
              "      <td>13</td>\n",
              "      <td>2015-08-29</td>\n",
              "      <td>19500.00</td>\n",
              "      <td>2015-07-04 08:35:03</td>\n",
              "      <td>1283.00</td>\n",
              "      <td>canceled</td>\n",
              "      <td>14</td>\n",
              "      <td>US</td>\n",
              "      <td>1283.00</td>\n",
              "      <td>1283.00</td>\n",
              "      <td>19500.00</td>\n",
              "      <td>0</td>\n",
              "    </tr>\n",
              "  </tbody>\n",
              "</table>\n",
              "</div>"
            ],
            "text/plain": [
              "                                        name  ... name_weirdness\n",
              "ID                                            ...               \n",
              "1000002330  a6828ae8a2eca25f0dd7035efc0af0a0  ...              0\n",
              "1000003930  81609b3bdc0b96f429672d69702f2524  ...              0\n",
              "1000004038  c12f5c3bace2f0213cdb2679a265dca0  ...              0\n",
              "1000007540  4dbdcf09c86bbf5683ec39bc57b77f81  ...              0\n",
              "1000011046  9c01404a2ef702811c2088ce139042ad  ...              0\n",
              "\n",
              "[5 rows x 15 columns]"
            ]
          },
          "metadata": {
            "tags": []
          },
          "execution_count": 76
        }
      ]
    },
    {
      "cell_type": "code",
      "metadata": {
        "id": "-r-6rJY-WuVe",
        "colab_type": "code",
        "colab": {
          "base_uri": "https://localhost:8080/",
          "height": 228
        },
        "outputId": "2250335e-80b4-4107-f90b-24d5127f0b4f"
      },
      "source": [
        "kickstarter_2018.currency = le.inverse_transform(kickstarter_2018.currency)\n",
        "kickstarter_2018.currency"
      ],
      "execution_count": null,
      "outputs": [
        {
          "output_type": "execute_result",
          "data": {
            "text/plain": [
              "ID\n",
              "1000002330    GBP\n",
              "1000003930    USD\n",
              "1000004038    USD\n",
              "1000007540    USD\n",
              "1000011046    USD\n",
              "             ... \n",
              "999976400     USD\n",
              "999977640     USD\n",
              "999986353     USD\n",
              "999987933     USD\n",
              "999988282     USD\n",
              "Name: currency, Length: 378661, dtype: object"
            ]
          },
          "metadata": {
            "tags": []
          },
          "execution_count": 77
        }
      ]
    },
    {
      "cell_type": "code",
      "metadata": {
        "id": "8YtDHjZjVeAp",
        "colab_type": "code",
        "colab": {
          "base_uri": "https://localhost:8080/",
          "height": 335
        },
        "outputId": "dfba1c77-6221-461a-e016-9ef66f161477"
      },
      "source": [
        "\n",
        "from sklearn.preprocessing import LabelBinarizer\n",
        "other_column = 'currency'\n",
        "\n",
        "lb = LabelBinarizer()\n",
        "\n",
        "lb_results = lb.fit_transform(kickstarter_2018[other_column])\n",
        "pd.DataFrame(lb_results, columns=((other_column + '_') + pd.Series(lb.classes_))).head(10)"
      ],
      "execution_count": null,
      "outputs": [
        {
          "output_type": "execute_result",
          "data": {
            "text/html": [
              "<div>\n",
              "<style scoped>\n",
              "    .dataframe tbody tr th:only-of-type {\n",
              "        vertical-align: middle;\n",
              "    }\n",
              "\n",
              "    .dataframe tbody tr th {\n",
              "        vertical-align: top;\n",
              "    }\n",
              "\n",
              "    .dataframe thead th {\n",
              "        text-align: right;\n",
              "    }\n",
              "</style>\n",
              "<table border=\"1\" class=\"dataframe\">\n",
              "  <thead>\n",
              "    <tr style=\"text-align: right;\">\n",
              "      <th></th>\n",
              "      <th>currency_AUD</th>\n",
              "      <th>currency_CAD</th>\n",
              "      <th>currency_CHF</th>\n",
              "      <th>currency_DKK</th>\n",
              "      <th>currency_EUR</th>\n",
              "      <th>currency_GBP</th>\n",
              "      <th>currency_HKD</th>\n",
              "      <th>currency_JPY</th>\n",
              "      <th>currency_MXN</th>\n",
              "      <th>currency_NOK</th>\n",
              "      <th>currency_NZD</th>\n",
              "      <th>currency_SEK</th>\n",
              "      <th>currency_SGD</th>\n",
              "      <th>currency_USD</th>\n",
              "    </tr>\n",
              "  </thead>\n",
              "  <tbody>\n",
              "    <tr>\n",
              "      <th>0</th>\n",
              "      <td>0</td>\n",
              "      <td>0</td>\n",
              "      <td>0</td>\n",
              "      <td>0</td>\n",
              "      <td>0</td>\n",
              "      <td>1</td>\n",
              "      <td>0</td>\n",
              "      <td>0</td>\n",
              "      <td>0</td>\n",
              "      <td>0</td>\n",
              "      <td>0</td>\n",
              "      <td>0</td>\n",
              "      <td>0</td>\n",
              "      <td>0</td>\n",
              "    </tr>\n",
              "    <tr>\n",
              "      <th>1</th>\n",
              "      <td>0</td>\n",
              "      <td>0</td>\n",
              "      <td>0</td>\n",
              "      <td>0</td>\n",
              "      <td>0</td>\n",
              "      <td>0</td>\n",
              "      <td>0</td>\n",
              "      <td>0</td>\n",
              "      <td>0</td>\n",
              "      <td>0</td>\n",
              "      <td>0</td>\n",
              "      <td>0</td>\n",
              "      <td>0</td>\n",
              "      <td>1</td>\n",
              "    </tr>\n",
              "    <tr>\n",
              "      <th>2</th>\n",
              "      <td>0</td>\n",
              "      <td>0</td>\n",
              "      <td>0</td>\n",
              "      <td>0</td>\n",
              "      <td>0</td>\n",
              "      <td>0</td>\n",
              "      <td>0</td>\n",
              "      <td>0</td>\n",
              "      <td>0</td>\n",
              "      <td>0</td>\n",
              "      <td>0</td>\n",
              "      <td>0</td>\n",
              "      <td>0</td>\n",
              "      <td>1</td>\n",
              "    </tr>\n",
              "    <tr>\n",
              "      <th>3</th>\n",
              "      <td>0</td>\n",
              "      <td>0</td>\n",
              "      <td>0</td>\n",
              "      <td>0</td>\n",
              "      <td>0</td>\n",
              "      <td>0</td>\n",
              "      <td>0</td>\n",
              "      <td>0</td>\n",
              "      <td>0</td>\n",
              "      <td>0</td>\n",
              "      <td>0</td>\n",
              "      <td>0</td>\n",
              "      <td>0</td>\n",
              "      <td>1</td>\n",
              "    </tr>\n",
              "    <tr>\n",
              "      <th>4</th>\n",
              "      <td>0</td>\n",
              "      <td>0</td>\n",
              "      <td>0</td>\n",
              "      <td>0</td>\n",
              "      <td>0</td>\n",
              "      <td>0</td>\n",
              "      <td>0</td>\n",
              "      <td>0</td>\n",
              "      <td>0</td>\n",
              "      <td>0</td>\n",
              "      <td>0</td>\n",
              "      <td>0</td>\n",
              "      <td>0</td>\n",
              "      <td>1</td>\n",
              "    </tr>\n",
              "    <tr>\n",
              "      <th>5</th>\n",
              "      <td>0</td>\n",
              "      <td>0</td>\n",
              "      <td>0</td>\n",
              "      <td>0</td>\n",
              "      <td>0</td>\n",
              "      <td>0</td>\n",
              "      <td>0</td>\n",
              "      <td>0</td>\n",
              "      <td>0</td>\n",
              "      <td>0</td>\n",
              "      <td>0</td>\n",
              "      <td>0</td>\n",
              "      <td>0</td>\n",
              "      <td>1</td>\n",
              "    </tr>\n",
              "    <tr>\n",
              "      <th>6</th>\n",
              "      <td>0</td>\n",
              "      <td>0</td>\n",
              "      <td>0</td>\n",
              "      <td>0</td>\n",
              "      <td>0</td>\n",
              "      <td>0</td>\n",
              "      <td>0</td>\n",
              "      <td>0</td>\n",
              "      <td>0</td>\n",
              "      <td>0</td>\n",
              "      <td>0</td>\n",
              "      <td>0</td>\n",
              "      <td>0</td>\n",
              "      <td>1</td>\n",
              "    </tr>\n",
              "    <tr>\n",
              "      <th>7</th>\n",
              "      <td>0</td>\n",
              "      <td>0</td>\n",
              "      <td>0</td>\n",
              "      <td>0</td>\n",
              "      <td>0</td>\n",
              "      <td>0</td>\n",
              "      <td>0</td>\n",
              "      <td>0</td>\n",
              "      <td>0</td>\n",
              "      <td>0</td>\n",
              "      <td>0</td>\n",
              "      <td>0</td>\n",
              "      <td>0</td>\n",
              "      <td>1</td>\n",
              "    </tr>\n",
              "    <tr>\n",
              "      <th>8</th>\n",
              "      <td>0</td>\n",
              "      <td>0</td>\n",
              "      <td>0</td>\n",
              "      <td>0</td>\n",
              "      <td>0</td>\n",
              "      <td>0</td>\n",
              "      <td>0</td>\n",
              "      <td>0</td>\n",
              "      <td>0</td>\n",
              "      <td>0</td>\n",
              "      <td>0</td>\n",
              "      <td>0</td>\n",
              "      <td>0</td>\n",
              "      <td>1</td>\n",
              "    </tr>\n",
              "    <tr>\n",
              "      <th>9</th>\n",
              "      <td>0</td>\n",
              "      <td>0</td>\n",
              "      <td>0</td>\n",
              "      <td>0</td>\n",
              "      <td>0</td>\n",
              "      <td>0</td>\n",
              "      <td>0</td>\n",
              "      <td>0</td>\n",
              "      <td>0</td>\n",
              "      <td>0</td>\n",
              "      <td>0</td>\n",
              "      <td>0</td>\n",
              "      <td>0</td>\n",
              "      <td>1</td>\n",
              "    </tr>\n",
              "  </tbody>\n",
              "</table>\n",
              "</div>"
            ],
            "text/plain": [
              "   currency_AUD  currency_CAD  ...  currency_SGD  currency_USD\n",
              "0             0             0  ...             0             0\n",
              "1             0             0  ...             0             1\n",
              "2             0             0  ...             0             1\n",
              "3             0             0  ...             0             1\n",
              "4             0             0  ...             0             1\n",
              "5             0             0  ...             0             1\n",
              "6             0             0  ...             0             1\n",
              "7             0             0  ...             0             1\n",
              "8             0             0  ...             0             1\n",
              "9             0             0  ...             0             1\n",
              "\n",
              "[10 rows x 14 columns]"
            ]
          },
          "metadata": {
            "tags": []
          },
          "execution_count": 78
        }
      ]
    },
    {
      "cell_type": "markdown",
      "metadata": {
        "colab_type": "text",
        "id": "c2qVOSsQIXUf"
      },
      "source": [
        "## 2.4. No cambiar los nombres de las variables de la fuente de origen\n"
      ]
    },
    {
      "cell_type": "markdown",
      "metadata": {
        "colab_type": "text",
        "id": "k9XvL-yMIXUf"
      },
      "source": [
        "## 2.5. Verificar la consistencia de las variables\n",
        "Aplicar reglas de integridad\n"
      ]
    },
    {
      "cell_type": "code",
      "metadata": {
        "colab_type": "code",
        "id": "y5W24vJwIXUf",
        "colab": {
          "base_uri": "https://localhost:8080/",
          "height": 402
        },
        "outputId": "7a590632-1109-4d59-88aa-aca6123046d8"
      },
      "source": [
        "kickstarter_2018.head()"
      ],
      "execution_count": null,
      "outputs": [
        {
          "output_type": "execute_result",
          "data": {
            "text/html": [
              "<div>\n",
              "<style scoped>\n",
              "    .dataframe tbody tr th:only-of-type {\n",
              "        vertical-align: middle;\n",
              "    }\n",
              "\n",
              "    .dataframe tbody tr th {\n",
              "        vertical-align: top;\n",
              "    }\n",
              "\n",
              "    .dataframe thead th {\n",
              "        text-align: right;\n",
              "    }\n",
              "</style>\n",
              "<table border=\"1\" class=\"dataframe\">\n",
              "  <thead>\n",
              "    <tr style=\"text-align: right;\">\n",
              "      <th></th>\n",
              "      <th>name</th>\n",
              "      <th>category</th>\n",
              "      <th>main_category</th>\n",
              "      <th>currency</th>\n",
              "      <th>deadline</th>\n",
              "      <th>goal</th>\n",
              "      <th>launched</th>\n",
              "      <th>pledged</th>\n",
              "      <th>state</th>\n",
              "      <th>backers</th>\n",
              "      <th>country</th>\n",
              "      <th>usd_pledged</th>\n",
              "      <th>usd_pledged_real</th>\n",
              "      <th>usd_goal_real</th>\n",
              "      <th>name_weirdness</th>\n",
              "    </tr>\n",
              "    <tr>\n",
              "      <th>ID</th>\n",
              "      <th></th>\n",
              "      <th></th>\n",
              "      <th></th>\n",
              "      <th></th>\n",
              "      <th></th>\n",
              "      <th></th>\n",
              "      <th></th>\n",
              "      <th></th>\n",
              "      <th></th>\n",
              "      <th></th>\n",
              "      <th></th>\n",
              "      <th></th>\n",
              "      <th></th>\n",
              "      <th></th>\n",
              "      <th></th>\n",
              "    </tr>\n",
              "  </thead>\n",
              "  <tbody>\n",
              "    <tr>\n",
              "      <th>1000002330</th>\n",
              "      <td>a6828ae8a2eca25f0dd7035efc0af0a0</td>\n",
              "      <td>Poetry</td>\n",
              "      <td>Publishing</td>\n",
              "      <td>GBP</td>\n",
              "      <td>2015-10-09</td>\n",
              "      <td>1000.00</td>\n",
              "      <td>2015-08-11 12:12:28</td>\n",
              "      <td>0.00</td>\n",
              "      <td>failed</td>\n",
              "      <td>0</td>\n",
              "      <td>GB</td>\n",
              "      <td>0.00</td>\n",
              "      <td>0.00</td>\n",
              "      <td>1533.95</td>\n",
              "      <td>0</td>\n",
              "    </tr>\n",
              "    <tr>\n",
              "      <th>1000003930</th>\n",
              "      <td>81609b3bdc0b96f429672d69702f2524</td>\n",
              "      <td>Narrative Film</td>\n",
              "      <td>Film &amp; Video</td>\n",
              "      <td>USD</td>\n",
              "      <td>2017-11-01</td>\n",
              "      <td>30000.00</td>\n",
              "      <td>2017-09-02 04:43:57</td>\n",
              "      <td>2421.00</td>\n",
              "      <td>failed</td>\n",
              "      <td>15</td>\n",
              "      <td>US</td>\n",
              "      <td>100.00</td>\n",
              "      <td>2421.00</td>\n",
              "      <td>30000.00</td>\n",
              "      <td>0</td>\n",
              "    </tr>\n",
              "    <tr>\n",
              "      <th>1000004038</th>\n",
              "      <td>c12f5c3bace2f0213cdb2679a265dca0</td>\n",
              "      <td>Narrative Film</td>\n",
              "      <td>Film &amp; Video</td>\n",
              "      <td>USD</td>\n",
              "      <td>2013-02-26</td>\n",
              "      <td>45000.00</td>\n",
              "      <td>2013-01-12 00:20:50</td>\n",
              "      <td>220.00</td>\n",
              "      <td>failed</td>\n",
              "      <td>3</td>\n",
              "      <td>US</td>\n",
              "      <td>220.00</td>\n",
              "      <td>220.00</td>\n",
              "      <td>45000.00</td>\n",
              "      <td>0</td>\n",
              "    </tr>\n",
              "    <tr>\n",
              "      <th>1000007540</th>\n",
              "      <td>4dbdcf09c86bbf5683ec39bc57b77f81</td>\n",
              "      <td>Music</td>\n",
              "      <td>Music</td>\n",
              "      <td>USD</td>\n",
              "      <td>2012-04-16</td>\n",
              "      <td>5000.00</td>\n",
              "      <td>2012-03-17 03:24:11</td>\n",
              "      <td>1.00</td>\n",
              "      <td>failed</td>\n",
              "      <td>1</td>\n",
              "      <td>US</td>\n",
              "      <td>1.00</td>\n",
              "      <td>1.00</td>\n",
              "      <td>5000.00</td>\n",
              "      <td>0</td>\n",
              "    </tr>\n",
              "    <tr>\n",
              "      <th>1000011046</th>\n",
              "      <td>9c01404a2ef702811c2088ce139042ad</td>\n",
              "      <td>Film &amp; Video</td>\n",
              "      <td>Film &amp; Video</td>\n",
              "      <td>USD</td>\n",
              "      <td>2015-08-29</td>\n",
              "      <td>19500.00</td>\n",
              "      <td>2015-07-04 08:35:03</td>\n",
              "      <td>1283.00</td>\n",
              "      <td>canceled</td>\n",
              "      <td>14</td>\n",
              "      <td>US</td>\n",
              "      <td>1283.00</td>\n",
              "      <td>1283.00</td>\n",
              "      <td>19500.00</td>\n",
              "      <td>0</td>\n",
              "    </tr>\n",
              "  </tbody>\n",
              "</table>\n",
              "</div>"
            ],
            "text/plain": [
              "                                        name  ... name_weirdness\n",
              "ID                                            ...               \n",
              "1000002330  a6828ae8a2eca25f0dd7035efc0af0a0  ...              0\n",
              "1000003930  81609b3bdc0b96f429672d69702f2524  ...              0\n",
              "1000004038  c12f5c3bace2f0213cdb2679a265dca0  ...              0\n",
              "1000007540  4dbdcf09c86bbf5683ec39bc57b77f81  ...              0\n",
              "1000011046  9c01404a2ef702811c2088ce139042ad  ...              0\n",
              "\n",
              "[5 rows x 15 columns]"
            ]
          },
          "metadata": {
            "tags": []
          },
          "execution_count": 79
        }
      ]
    },
    {
      "cell_type": "markdown",
      "metadata": {
        "colab_type": "text",
        "id": "4EAwb-5BIXUh"
      },
      "source": [
        "¿Hay proyectos sin patrocinadores pero con plata prometida?"
      ]
    },
    {
      "cell_type": "code",
      "metadata": {
        "colab_type": "code",
        "id": "x0YWqWntIXUh",
        "colab": {
          "base_uri": "https://localhost:8080/",
          "height": 765
        },
        "outputId": "24129a18-5ffa-4815-d67d-268fde6b60ff"
      },
      "source": [
        "kickstarter_2018[(kickstarter_2018.backers == 0) & (kickstarter_2018.usd_pledged > 0)]"
      ],
      "execution_count": null,
      "outputs": [
        {
          "output_type": "execute_result",
          "data": {
            "text/html": [
              "<div>\n",
              "<style scoped>\n",
              "    .dataframe tbody tr th:only-of-type {\n",
              "        vertical-align: middle;\n",
              "    }\n",
              "\n",
              "    .dataframe tbody tr th {\n",
              "        vertical-align: top;\n",
              "    }\n",
              "\n",
              "    .dataframe thead th {\n",
              "        text-align: right;\n",
              "    }\n",
              "</style>\n",
              "<table border=\"1\" class=\"dataframe\">\n",
              "  <thead>\n",
              "    <tr style=\"text-align: right;\">\n",
              "      <th></th>\n",
              "      <th>name</th>\n",
              "      <th>category</th>\n",
              "      <th>main_category</th>\n",
              "      <th>currency</th>\n",
              "      <th>deadline</th>\n",
              "      <th>goal</th>\n",
              "      <th>launched</th>\n",
              "      <th>pledged</th>\n",
              "      <th>state</th>\n",
              "      <th>backers</th>\n",
              "      <th>country</th>\n",
              "      <th>usd_pledged</th>\n",
              "      <th>usd_pledged_real</th>\n",
              "      <th>usd_goal_real</th>\n",
              "      <th>name_weirdness</th>\n",
              "    </tr>\n",
              "    <tr>\n",
              "      <th>ID</th>\n",
              "      <th></th>\n",
              "      <th></th>\n",
              "      <th></th>\n",
              "      <th></th>\n",
              "      <th></th>\n",
              "      <th></th>\n",
              "      <th></th>\n",
              "      <th></th>\n",
              "      <th></th>\n",
              "      <th></th>\n",
              "      <th></th>\n",
              "      <th></th>\n",
              "      <th></th>\n",
              "      <th></th>\n",
              "      <th></th>\n",
              "    </tr>\n",
              "  </thead>\n",
              "  <tbody>\n",
              "    <tr>\n",
              "      <th>100173829</th>\n",
              "      <td>cbcc3c7dad48ed37d2cdd1934856dcbf</td>\n",
              "      <td>Gadgets</td>\n",
              "      <td>Technology</td>\n",
              "      <td>CAD</td>\n",
              "      <td>2017-11-11</td>\n",
              "      <td>40000.00</td>\n",
              "      <td>2017-09-12 05:11:01</td>\n",
              "      <td>0.00</td>\n",
              "      <td>failed</td>\n",
              "      <td>0</td>\n",
              "      <td>CA</td>\n",
              "      <td>86.46</td>\n",
              "      <td>0.00</td>\n",
              "      <td>31343.05</td>\n",
              "      <td>0</td>\n",
              "    </tr>\n",
              "    <tr>\n",
              "      <th>1004972393</th>\n",
              "      <td>d73273df2548071ee9d03b1f8e8dbe3b</td>\n",
              "      <td>Web</td>\n",
              "      <td>Technology</td>\n",
              "      <td>AUD</td>\n",
              "      <td>2017-05-15</td>\n",
              "      <td>100000.00</td>\n",
              "      <td>2017-04-15 09:17:40</td>\n",
              "      <td>0.00</td>\n",
              "      <td>failed</td>\n",
              "      <td>0</td>\n",
              "      <td>AU</td>\n",
              "      <td>18.93</td>\n",
              "      <td>0.00</td>\n",
              "      <td>74371.56</td>\n",
              "      <td>0</td>\n",
              "    </tr>\n",
              "    <tr>\n",
              "      <th>1006945199</th>\n",
              "      <td>0753d15df31c5f426a8ec48e598ebd08</td>\n",
              "      <td>Food</td>\n",
              "      <td>Food</td>\n",
              "      <td>USD</td>\n",
              "      <td>2016-12-05</td>\n",
              "      <td>10000.00</td>\n",
              "      <td>2016-11-05 20:16:29</td>\n",
              "      <td>0.00</td>\n",
              "      <td>canceled</td>\n",
              "      <td>0</td>\n",
              "      <td>US</td>\n",
              "      <td>24.00</td>\n",
              "      <td>0.00</td>\n",
              "      <td>10000.00</td>\n",
              "      <td>0</td>\n",
              "    </tr>\n",
              "    <tr>\n",
              "      <th>1019661678</th>\n",
              "      <td>062149628560c4b4976ca4abe3bfbd31</td>\n",
              "      <td>Digital Art</td>\n",
              "      <td>Art</td>\n",
              "      <td>USD</td>\n",
              "      <td>2017-05-14</td>\n",
              "      <td>66600.00</td>\n",
              "      <td>2017-04-14 23:13:10</td>\n",
              "      <td>0.00</td>\n",
              "      <td>failed</td>\n",
              "      <td>0</td>\n",
              "      <td>US</td>\n",
              "      <td>25.00</td>\n",
              "      <td>0.00</td>\n",
              "      <td>66600.00</td>\n",
              "      <td>0</td>\n",
              "    </tr>\n",
              "    <tr>\n",
              "      <th>1031663961</th>\n",
              "      <td>895358fda4e49d9e53b54ce87882d88c</td>\n",
              "      <td>Comics</td>\n",
              "      <td>Comics</td>\n",
              "      <td>USD</td>\n",
              "      <td>2017-05-09</td>\n",
              "      <td>10000.00</td>\n",
              "      <td>2017-04-09 02:20:51</td>\n",
              "      <td>0.00</td>\n",
              "      <td>failed</td>\n",
              "      <td>0</td>\n",
              "      <td>US</td>\n",
              "      <td>25.00</td>\n",
              "      <td>0.00</td>\n",
              "      <td>10000.00</td>\n",
              "      <td>0</td>\n",
              "    </tr>\n",
              "    <tr>\n",
              "      <th>...</th>\n",
              "      <td>...</td>\n",
              "      <td>...</td>\n",
              "      <td>...</td>\n",
              "      <td>...</td>\n",
              "      <td>...</td>\n",
              "      <td>...</td>\n",
              "      <td>...</td>\n",
              "      <td>...</td>\n",
              "      <td>...</td>\n",
              "      <td>...</td>\n",
              "      <td>...</td>\n",
              "      <td>...</td>\n",
              "      <td>...</td>\n",
              "      <td>...</td>\n",
              "      <td>...</td>\n",
              "    </tr>\n",
              "    <tr>\n",
              "      <th>928930112</th>\n",
              "      <td>5570d8a0f8d70d3cea68476728c36d3f</td>\n",
              "      <td>Documentary</td>\n",
              "      <td>Film &amp; Video</td>\n",
              "      <td>SEK</td>\n",
              "      <td>2017-03-06</td>\n",
              "      <td>45000.00</td>\n",
              "      <td>2017-01-05 14:18:14</td>\n",
              "      <td>0.00</td>\n",
              "      <td>failed</td>\n",
              "      <td>0</td>\n",
              "      <td>SE</td>\n",
              "      <td>10.91</td>\n",
              "      <td>0.00</td>\n",
              "      <td>4983.11</td>\n",
              "      <td>0</td>\n",
              "    </tr>\n",
              "    <tr>\n",
              "      <th>930939140</th>\n",
              "      <td>b124d70dd259dc9f879de7802d28714f</td>\n",
              "      <td>Apparel</td>\n",
              "      <td>Fashion</td>\n",
              "      <td>USD</td>\n",
              "      <td>2017-05-12</td>\n",
              "      <td>750.00</td>\n",
              "      <td>2017-04-12 21:18:11</td>\n",
              "      <td>0.00</td>\n",
              "      <td>failed</td>\n",
              "      <td>0</td>\n",
              "      <td>US</td>\n",
              "      <td>25.00</td>\n",
              "      <td>0.00</td>\n",
              "      <td>750.00</td>\n",
              "      <td>0</td>\n",
              "    </tr>\n",
              "    <tr>\n",
              "      <th>945359364</th>\n",
              "      <td>78f82dede38d7223c7cbc3c01ecf71b6</td>\n",
              "      <td>Digital Art</td>\n",
              "      <td>Art</td>\n",
              "      <td>GBP</td>\n",
              "      <td>2017-12-04</td>\n",
              "      <td>50.00</td>\n",
              "      <td>2017-11-03 23:48:24</td>\n",
              "      <td>0.00</td>\n",
              "      <td>failed</td>\n",
              "      <td>0</td>\n",
              "      <td>GB</td>\n",
              "      <td>53.12</td>\n",
              "      <td>0.00</td>\n",
              "      <td>67.08</td>\n",
              "      <td>0</td>\n",
              "    </tr>\n",
              "    <tr>\n",
              "      <th>950767056</th>\n",
              "      <td>8dfb37d57e53f9384f4f3b35203e374e</td>\n",
              "      <td>Documentary</td>\n",
              "      <td>Film &amp; Video</td>\n",
              "      <td>USD</td>\n",
              "      <td>2010-09-04</td>\n",
              "      <td>3500.00</td>\n",
              "      <td>2010-07-02 23:41:15</td>\n",
              "      <td>1.00</td>\n",
              "      <td>failed</td>\n",
              "      <td>0</td>\n",
              "      <td>US</td>\n",
              "      <td>1.00</td>\n",
              "      <td>1.00</td>\n",
              "      <td>3500.00</td>\n",
              "      <td>0</td>\n",
              "    </tr>\n",
              "    <tr>\n",
              "      <th>958530198</th>\n",
              "      <td>3a4e407835efb0b0101f0fc518281ead</td>\n",
              "      <td>DIY</td>\n",
              "      <td>Crafts</td>\n",
              "      <td>USD</td>\n",
              "      <td>2017-08-07</td>\n",
              "      <td>10000.00</td>\n",
              "      <td>2017-07-08 20:33:01</td>\n",
              "      <td>0.00</td>\n",
              "      <td>failed</td>\n",
              "      <td>0</td>\n",
              "      <td>US</td>\n",
              "      <td>100.00</td>\n",
              "      <td>0.00</td>\n",
              "      <td>10000.00</td>\n",
              "      <td>0</td>\n",
              "    </tr>\n",
              "  </tbody>\n",
              "</table>\n",
              "<p>315 rows × 15 columns</p>\n",
              "</div>"
            ],
            "text/plain": [
              "                                        name  ... name_weirdness\n",
              "ID                                            ...               \n",
              "100173829   cbcc3c7dad48ed37d2cdd1934856dcbf  ...              0\n",
              "1004972393  d73273df2548071ee9d03b1f8e8dbe3b  ...              0\n",
              "1006945199  0753d15df31c5f426a8ec48e598ebd08  ...              0\n",
              "1019661678  062149628560c4b4976ca4abe3bfbd31  ...              0\n",
              "1031663961  895358fda4e49d9e53b54ce87882d88c  ...              0\n",
              "...                                      ...  ...            ...\n",
              "928930112   5570d8a0f8d70d3cea68476728c36d3f  ...              0\n",
              "930939140   b124d70dd259dc9f879de7802d28714f  ...              0\n",
              "945359364   78f82dede38d7223c7cbc3c01ecf71b6  ...              0\n",
              "950767056   8dfb37d57e53f9384f4f3b35203e374e  ...              0\n",
              "958530198   3a4e407835efb0b0101f0fc518281ead  ...              0\n",
              "\n",
              "[315 rows x 15 columns]"
            ]
          },
          "metadata": {
            "tags": []
          },
          "execution_count": 80
        }
      ]
    },
    {
      "cell_type": "markdown",
      "metadata": {
        "colab_type": "text",
        "id": "8oFs6r9CIXUj"
      },
      "source": [
        "¿Hay proyecto no exitosos que pasaron el objetivo?"
      ]
    },
    {
      "cell_type": "code",
      "metadata": {
        "colab_type": "code",
        "id": "_5lPvwqYIXUj",
        "colab": {
          "base_uri": "https://localhost:8080/",
          "height": 765
        },
        "outputId": "3a67edc5-584a-49ae-83bf-da72de616c29"
      },
      "source": [
        "kickstarter_2018[(kickstarter_2018.state != 'successful') & (kickstarter_2018.pledged > kickstarter_2018.goal)]"
      ],
      "execution_count": null,
      "outputs": [
        {
          "output_type": "execute_result",
          "data": {
            "text/html": [
              "<div>\n",
              "<style scoped>\n",
              "    .dataframe tbody tr th:only-of-type {\n",
              "        vertical-align: middle;\n",
              "    }\n",
              "\n",
              "    .dataframe tbody tr th {\n",
              "        vertical-align: top;\n",
              "    }\n",
              "\n",
              "    .dataframe thead th {\n",
              "        text-align: right;\n",
              "    }\n",
              "</style>\n",
              "<table border=\"1\" class=\"dataframe\">\n",
              "  <thead>\n",
              "    <tr style=\"text-align: right;\">\n",
              "      <th></th>\n",
              "      <th>name</th>\n",
              "      <th>category</th>\n",
              "      <th>main_category</th>\n",
              "      <th>currency</th>\n",
              "      <th>deadline</th>\n",
              "      <th>goal</th>\n",
              "      <th>launched</th>\n",
              "      <th>pledged</th>\n",
              "      <th>state</th>\n",
              "      <th>backers</th>\n",
              "      <th>country</th>\n",
              "      <th>usd_pledged</th>\n",
              "      <th>usd_pledged_real</th>\n",
              "      <th>usd_goal_real</th>\n",
              "      <th>name_weirdness</th>\n",
              "    </tr>\n",
              "    <tr>\n",
              "      <th>ID</th>\n",
              "      <th></th>\n",
              "      <th></th>\n",
              "      <th></th>\n",
              "      <th></th>\n",
              "      <th></th>\n",
              "      <th></th>\n",
              "      <th></th>\n",
              "      <th></th>\n",
              "      <th></th>\n",
              "      <th></th>\n",
              "      <th></th>\n",
              "      <th></th>\n",
              "      <th></th>\n",
              "      <th></th>\n",
              "      <th></th>\n",
              "    </tr>\n",
              "  </thead>\n",
              "  <tbody>\n",
              "    <tr>\n",
              "      <th>100149523</th>\n",
              "      <td>5e380aed7fb3ac232113ad8b84f6e281</td>\n",
              "      <td>Music</td>\n",
              "      <td>Music</td>\n",
              "      <td>AUD</td>\n",
              "      <td>2015-08-25</td>\n",
              "      <td>4500.00</td>\n",
              "      <td>2015-08-04 12:05:17</td>\n",
              "      <td>4767.00</td>\n",
              "      <td>undefined</td>\n",
              "      <td>0</td>\n",
              "      <td>N,0\"</td>\n",
              "      <td>0.00</td>\n",
              "      <td>3402.08</td>\n",
              "      <td>3211.53</td>\n",
              "      <td>0</td>\n",
              "    </tr>\n",
              "    <tr>\n",
              "      <th>1001732009</th>\n",
              "      <td>6b1a3a0d5c57093ffb8af5cf7cd3f0d6</td>\n",
              "      <td>Product Design</td>\n",
              "      <td>Design</td>\n",
              "      <td>USD</td>\n",
              "      <td>2014-08-09</td>\n",
              "      <td>25000.00</td>\n",
              "      <td>2014-06-30 21:17:10</td>\n",
              "      <td>39693.00</td>\n",
              "      <td>suspended</td>\n",
              "      <td>647</td>\n",
              "      <td>US</td>\n",
              "      <td>39693.00</td>\n",
              "      <td>39693.00</td>\n",
              "      <td>25000.00</td>\n",
              "      <td>0</td>\n",
              "    </tr>\n",
              "    <tr>\n",
              "      <th>1002379225</th>\n",
              "      <td>2d8fba2c10d697a9788c7d671f4f897e</td>\n",
              "      <td>Technology</td>\n",
              "      <td>Technology</td>\n",
              "      <td>USD</td>\n",
              "      <td>2017-06-15</td>\n",
              "      <td>5000.00</td>\n",
              "      <td>2017-05-01 18:37:51</td>\n",
              "      <td>61416.00</td>\n",
              "      <td>canceled</td>\n",
              "      <td>103</td>\n",
              "      <td>US</td>\n",
              "      <td>13700.00</td>\n",
              "      <td>61416.00</td>\n",
              "      <td>5000.00</td>\n",
              "      <td>0</td>\n",
              "    </tr>\n",
              "    <tr>\n",
              "      <th>1002854072</th>\n",
              "      <td>6c9c718781cfc0153b5d4c8e1983f634</td>\n",
              "      <td>Gadgets</td>\n",
              "      <td>Technology</td>\n",
              "      <td>CAD</td>\n",
              "      <td>2015-12-19</td>\n",
              "      <td>5000.00</td>\n",
              "      <td>2015-11-19 17:26:34</td>\n",
              "      <td>6672.00</td>\n",
              "      <td>canceled</td>\n",
              "      <td>115</td>\n",
              "      <td>CA</td>\n",
              "      <td>5006.57</td>\n",
              "      <td>4810.38</td>\n",
              "      <td>3604.90</td>\n",
              "      <td>0</td>\n",
              "    </tr>\n",
              "    <tr>\n",
              "      <th>1003023003</th>\n",
              "      <td>db6c3338a76817fba7fa342ed6e8484f</td>\n",
              "      <td>Music</td>\n",
              "      <td>Music</td>\n",
              "      <td>USD</td>\n",
              "      <td>2015-04-09</td>\n",
              "      <td>3500.00</td>\n",
              "      <td>2015-03-10 20:06:13</td>\n",
              "      <td>3576.00</td>\n",
              "      <td>undefined</td>\n",
              "      <td>0</td>\n",
              "      <td>N,0\"</td>\n",
              "      <td>0.00</td>\n",
              "      <td>3576.00</td>\n",
              "      <td>3500.00</td>\n",
              "      <td>0</td>\n",
              "    </tr>\n",
              "    <tr>\n",
              "      <th>...</th>\n",
              "      <td>...</td>\n",
              "      <td>...</td>\n",
              "      <td>...</td>\n",
              "      <td>...</td>\n",
              "      <td>...</td>\n",
              "      <td>...</td>\n",
              "      <td>...</td>\n",
              "      <td>...</td>\n",
              "      <td>...</td>\n",
              "      <td>...</td>\n",
              "      <td>...</td>\n",
              "      <td>...</td>\n",
              "      <td>...</td>\n",
              "      <td>...</td>\n",
              "      <td>...</td>\n",
              "    </tr>\n",
              "    <tr>\n",
              "      <th>997445060</th>\n",
              "      <td>de693a44fb0e3e20cebbf35df12555b2</td>\n",
              "      <td>Fashion</td>\n",
              "      <td>Fashion</td>\n",
              "      <td>USD</td>\n",
              "      <td>2012-05-28</td>\n",
              "      <td>1000.00</td>\n",
              "      <td>2012-04-28 07:12:06</td>\n",
              "      <td>1358.00</td>\n",
              "      <td>canceled</td>\n",
              "      <td>35</td>\n",
              "      <td>US</td>\n",
              "      <td>1358.00</td>\n",
              "      <td>1358.00</td>\n",
              "      <td>1000.00</td>\n",
              "      <td>0</td>\n",
              "    </tr>\n",
              "    <tr>\n",
              "      <th>997554968</th>\n",
              "      <td>2d2b9c51ff1402a9056afe3861932303</td>\n",
              "      <td>Music</td>\n",
              "      <td>Music</td>\n",
              "      <td>USD</td>\n",
              "      <td>2015-03-01</td>\n",
              "      <td>8000.00</td>\n",
              "      <td>2015-01-31 20:58:01</td>\n",
              "      <td>8582.00</td>\n",
              "      <td>undefined</td>\n",
              "      <td>0</td>\n",
              "      <td>N,0\"</td>\n",
              "      <td>0.00</td>\n",
              "      <td>8582.00</td>\n",
              "      <td>8000.00</td>\n",
              "      <td>0</td>\n",
              "    </tr>\n",
              "    <tr>\n",
              "      <th>997915422</th>\n",
              "      <td>ad683e045b1caa4727c57b994c01ad1c</td>\n",
              "      <td>Music</td>\n",
              "      <td>Music</td>\n",
              "      <td>USD</td>\n",
              "      <td>2015-12-31</td>\n",
              "      <td>5000.00</td>\n",
              "      <td>2015-12-01 00:25:06</td>\n",
              "      <td>6065.26</td>\n",
              "      <td>undefined</td>\n",
              "      <td>0</td>\n",
              "      <td>N,0\"</td>\n",
              "      <td>0.00</td>\n",
              "      <td>6065.26</td>\n",
              "      <td>5000.00</td>\n",
              "      <td>0</td>\n",
              "    </tr>\n",
              "    <tr>\n",
              "      <th>998319149</th>\n",
              "      <td>fd1c279626d39862f637316776fc85df</td>\n",
              "      <td>Film &amp; Video</td>\n",
              "      <td>Film &amp; Video</td>\n",
              "      <td>CAD</td>\n",
              "      <td>2014-05-23</td>\n",
              "      <td>3000.00</td>\n",
              "      <td>2014-04-08 00:30:09</td>\n",
              "      <td>3102.00</td>\n",
              "      <td>undefined</td>\n",
              "      <td>0</td>\n",
              "      <td>N,0\"</td>\n",
              "      <td>0.00</td>\n",
              "      <td>2845.61</td>\n",
              "      <td>2752.04</td>\n",
              "      <td>0</td>\n",
              "    </tr>\n",
              "    <tr>\n",
              "      <th>999610349</th>\n",
              "      <td>05ee5867bc77a523f2597c325b144f80</td>\n",
              "      <td>Music</td>\n",
              "      <td>Music</td>\n",
              "      <td>GBP</td>\n",
              "      <td>2015-10-19</td>\n",
              "      <td>2000.00</td>\n",
              "      <td>2015-09-21 22:33:18</td>\n",
              "      <td>2125.00</td>\n",
              "      <td>undefined</td>\n",
              "      <td>0</td>\n",
              "      <td>N,0\"</td>\n",
              "      <td>0.00</td>\n",
              "      <td>3273.36</td>\n",
              "      <td>3080.81</td>\n",
              "      <td>0</td>\n",
              "    </tr>\n",
              "  </tbody>\n",
              "</table>\n",
              "<p>2952 rows × 15 columns</p>\n",
              "</div>"
            ],
            "text/plain": [
              "                                        name  ... name_weirdness\n",
              "ID                                            ...               \n",
              "100149523   5e380aed7fb3ac232113ad8b84f6e281  ...              0\n",
              "1001732009  6b1a3a0d5c57093ffb8af5cf7cd3f0d6  ...              0\n",
              "1002379225  2d8fba2c10d697a9788c7d671f4f897e  ...              0\n",
              "1002854072  6c9c718781cfc0153b5d4c8e1983f634  ...              0\n",
              "1003023003  db6c3338a76817fba7fa342ed6e8484f  ...              0\n",
              "...                                      ...  ...            ...\n",
              "997445060   de693a44fb0e3e20cebbf35df12555b2  ...              0\n",
              "997554968   2d2b9c51ff1402a9056afe3861932303  ...              0\n",
              "997915422   ad683e045b1caa4727c57b994c01ad1c  ...              0\n",
              "998319149   fd1c279626d39862f637316776fc85df  ...              0\n",
              "999610349   05ee5867bc77a523f2597c325b144f80  ...              0\n",
              "\n",
              "[2952 rows x 15 columns]"
            ]
          },
          "metadata": {
            "tags": []
          },
          "execution_count": 81
        }
      ]
    },
    {
      "cell_type": "markdown",
      "metadata": {
        "colab_type": "text",
        "id": "JcmsJSYXIXUl"
      },
      "source": [
        "¿Cómo es, en promedio, la correlación entre el objetivo y la plata obtenida?"
      ]
    },
    {
      "cell_type": "code",
      "metadata": {
        "colab_type": "code",
        "id": "vAI0_9m-IXUl",
        "colab": {
          "base_uri": "https://localhost:8080/",
          "height": 147
        },
        "outputId": "e998cf27-ac24-4e58-a6a3-4656d05bed7b"
      },
      "source": [
        "df = kickstarter_2018.groupby('state')[['goal','pledged']].aggregate('mean')\n",
        "\n",
        "df['pledged'] / df['goal']"
      ],
      "execution_count": null,
      "outputs": [
        {
          "output_type": "execute_result",
          "data": {
            "text/plain": [
              "state\n",
              "canceled     0.03\n",
              "failed       0.02\n",
              "live         0.12\n",
              "successful   2.37\n",
              "suspended    0.06\n",
              "undefined    0.52\n",
              "dtype: float64"
            ]
          },
          "metadata": {
            "tags": []
          },
          "execution_count": 82
        }
      ]
    },
    {
      "cell_type": "markdown",
      "metadata": {
        "colab_type": "text",
        "id": "0alq6UDrIXUn"
      },
      "source": [
        "¿Cuánta plata se obtiene en promedio por estado y categoría?"
      ]
    },
    {
      "cell_type": "code",
      "metadata": {
        "colab_type": "code",
        "id": "ZDDTnENBIXUn",
        "colab": {
          "base_uri": "https://localhost:8080/",
          "height": 248
        },
        "outputId": "f57417fb-3f4c-48e8-c07f-9ee0af7e5696"
      },
      "source": [
        "kickstarter_2018.pivot_table(values='usd_pledged',index='state',columns='main_category')"
      ],
      "execution_count": null,
      "outputs": [
        {
          "output_type": "execute_result",
          "data": {
            "text/html": [
              "<div>\n",
              "<style scoped>\n",
              "    .dataframe tbody tr th:only-of-type {\n",
              "        vertical-align: middle;\n",
              "    }\n",
              "\n",
              "    .dataframe tbody tr th {\n",
              "        vertical-align: top;\n",
              "    }\n",
              "\n",
              "    .dataframe thead th {\n",
              "        text-align: right;\n",
              "    }\n",
              "</style>\n",
              "<table border=\"1\" class=\"dataframe\">\n",
              "  <thead>\n",
              "    <tr style=\"text-align: right;\">\n",
              "      <th>main_category</th>\n",
              "      <th>Art</th>\n",
              "      <th>Comics</th>\n",
              "      <th>Crafts</th>\n",
              "      <th>Dance</th>\n",
              "      <th>Design</th>\n",
              "      <th>Fashion</th>\n",
              "      <th>Film &amp; Video</th>\n",
              "      <th>Food</th>\n",
              "      <th>Games</th>\n",
              "      <th>Journalism</th>\n",
              "      <th>Music</th>\n",
              "      <th>Photography</th>\n",
              "      <th>Publishing</th>\n",
              "      <th>Technology</th>\n",
              "      <th>Theater</th>\n",
              "    </tr>\n",
              "    <tr>\n",
              "      <th>state</th>\n",
              "      <th></th>\n",
              "      <th></th>\n",
              "      <th></th>\n",
              "      <th></th>\n",
              "      <th></th>\n",
              "      <th></th>\n",
              "      <th></th>\n",
              "      <th></th>\n",
              "      <th></th>\n",
              "      <th></th>\n",
              "      <th></th>\n",
              "      <th></th>\n",
              "      <th></th>\n",
              "      <th></th>\n",
              "      <th></th>\n",
              "    </tr>\n",
              "  </thead>\n",
              "  <tbody>\n",
              "    <tr>\n",
              "      <th>canceled</th>\n",
              "      <td>405.94</td>\n",
              "      <td>722.46</td>\n",
              "      <td>342.51</td>\n",
              "      <td>455.18</td>\n",
              "      <td>3361.22</td>\n",
              "      <td>996.49</td>\n",
              "      <td>1468.05</td>\n",
              "      <td>715.49</td>\n",
              "      <td>3312.50</td>\n",
              "      <td>198.61</td>\n",
              "      <td>585.91</td>\n",
              "      <td>418.70</td>\n",
              "      <td>451.11</td>\n",
              "      <td>3959.58</td>\n",
              "      <td>1472.81</td>\n",
              "    </tr>\n",
              "    <tr>\n",
              "      <th>failed</th>\n",
              "      <td>554.07</td>\n",
              "      <td>869.11</td>\n",
              "      <td>263.54</td>\n",
              "      <td>555.21</td>\n",
              "      <td>2353.08</td>\n",
              "      <td>686.00</td>\n",
              "      <td>1368.36</td>\n",
              "      <td>927.01</td>\n",
              "      <td>1970.81</td>\n",
              "      <td>452.95</td>\n",
              "      <td>557.37</td>\n",
              "      <td>565.53</td>\n",
              "      <td>539.22</td>\n",
              "      <td>2018.73</td>\n",
              "      <td>892.50</td>\n",
              "    </tr>\n",
              "    <tr>\n",
              "      <th>live</th>\n",
              "      <td>887.49</td>\n",
              "      <td>934.78</td>\n",
              "      <td>95.43</td>\n",
              "      <td>182.59</td>\n",
              "      <td>3559.01</td>\n",
              "      <td>443.48</td>\n",
              "      <td>336.93</td>\n",
              "      <td>1014.11</td>\n",
              "      <td>1678.80</td>\n",
              "      <td>762.78</td>\n",
              "      <td>434.78</td>\n",
              "      <td>832.48</td>\n",
              "      <td>1031.71</td>\n",
              "      <td>2028.49</td>\n",
              "      <td>479.18</td>\n",
              "    </tr>\n",
              "    <tr>\n",
              "      <th>successful</th>\n",
              "      <td>5420.99</td>\n",
              "      <td>9178.68</td>\n",
              "      <td>4053.92</td>\n",
              "      <td>4445.79</td>\n",
              "      <td>43545.99</td>\n",
              "      <td>15136.85</td>\n",
              "      <td>12403.29</td>\n",
              "      <td>14227.41</td>\n",
              "      <td>41643.05</td>\n",
              "      <td>8598.27</td>\n",
              "      <td>6283.11</td>\n",
              "      <td>7897.06</td>\n",
              "      <td>7257.91</td>\n",
              "      <td>67226.64</td>\n",
              "      <td>5289.17</td>\n",
              "    </tr>\n",
              "    <tr>\n",
              "      <th>suspended</th>\n",
              "      <td>436.70</td>\n",
              "      <td>347.47</td>\n",
              "      <td>201.33</td>\n",
              "      <td>320.43</td>\n",
              "      <td>11424.97</td>\n",
              "      <td>3539.29</td>\n",
              "      <td>2463.24</td>\n",
              "      <td>2708.65</td>\n",
              "      <td>2497.19</td>\n",
              "      <td>44.77</td>\n",
              "      <td>340.77</td>\n",
              "      <td>159.96</td>\n",
              "      <td>422.83</td>\n",
              "      <td>22953.52</td>\n",
              "      <td>57.08</td>\n",
              "    </tr>\n",
              "    <tr>\n",
              "      <th>undefined</th>\n",
              "      <td>nan</td>\n",
              "      <td>nan</td>\n",
              "      <td>nan</td>\n",
              "      <td>0.00</td>\n",
              "      <td>0.00</td>\n",
              "      <td>0.00</td>\n",
              "      <td>0.00</td>\n",
              "      <td>nan</td>\n",
              "      <td>0.00</td>\n",
              "      <td>nan</td>\n",
              "      <td>0.00</td>\n",
              "      <td>0.00</td>\n",
              "      <td>0.00</td>\n",
              "      <td>0.00</td>\n",
              "      <td>0.00</td>\n",
              "    </tr>\n",
              "  </tbody>\n",
              "</table>\n",
              "</div>"
            ],
            "text/plain": [
              "main_category     Art  Comics  Crafts  ...  Publishing  Technology  Theater\n",
              "state                                  ...                                 \n",
              "canceled       405.94  722.46  342.51  ...      451.11     3959.58  1472.81\n",
              "failed         554.07  869.11  263.54  ...      539.22     2018.73   892.50\n",
              "live           887.49  934.78   95.43  ...     1031.71     2028.49   479.18\n",
              "successful    5420.99 9178.68 4053.92  ...     7257.91    67226.64  5289.17\n",
              "suspended      436.70  347.47  201.33  ...      422.83    22953.52    57.08\n",
              "undefined         nan     nan     nan  ...        0.00        0.00     0.00\n",
              "\n",
              "[6 rows x 15 columns]"
            ]
          },
          "metadata": {
            "tags": []
          },
          "execution_count": 83
        }
      ]
    },
    {
      "cell_type": "markdown",
      "metadata": {
        "id": "hKDdcQf6kX_F",
        "colab_type": "text"
      },
      "source": [
        "#### Ejercicio 5\n",
        "\n",
        "1. ¿Hay proyecto éxitosos que no consiguieron el objetivo? Si hay, ¿Qué porcentaje sí y cuál no?\n",
        "2. Calcular una tabla con la cantidad de proyectos por categoría principal y estado."
      ]
    },
    {
      "cell_type": "code",
      "metadata": {
        "id": "uHrRMuEHc0cQ",
        "colab_type": "code",
        "colab": {
          "base_uri": "https://localhost:8080/",
          "height": 418
        },
        "outputId": "c3458952-84b1-40ee-e0fc-a09739f38314"
      },
      "source": [
        "df = kickstarter_2018[(kickstarter_2018.state == 'successful') & (kickstarter_2018.pledged < kickstarter_2018.goal)]\n",
        "display(df)\n",
        "len(df)/len(kickstarter_2018)"
      ],
      "execution_count": null,
      "outputs": [
        {
          "output_type": "display_data",
          "data": {
            "text/html": [
              "<div>\n",
              "<style scoped>\n",
              "    .dataframe tbody tr th:only-of-type {\n",
              "        vertical-align: middle;\n",
              "    }\n",
              "\n",
              "    .dataframe tbody tr th {\n",
              "        vertical-align: top;\n",
              "    }\n",
              "\n",
              "    .dataframe thead th {\n",
              "        text-align: right;\n",
              "    }\n",
              "</style>\n",
              "<table border=\"1\" class=\"dataframe\">\n",
              "  <thead>\n",
              "    <tr style=\"text-align: right;\">\n",
              "      <th></th>\n",
              "      <th>name</th>\n",
              "      <th>category</th>\n",
              "      <th>main_category</th>\n",
              "      <th>currency</th>\n",
              "      <th>deadline</th>\n",
              "      <th>goal</th>\n",
              "      <th>launched</th>\n",
              "      <th>pledged</th>\n",
              "      <th>state</th>\n",
              "      <th>backers</th>\n",
              "      <th>country</th>\n",
              "      <th>usd_pledged</th>\n",
              "      <th>usd_pledged_real</th>\n",
              "      <th>usd_goal_real</th>\n",
              "      <th>name_weirdness</th>\n",
              "    </tr>\n",
              "    <tr>\n",
              "      <th>ID</th>\n",
              "      <th></th>\n",
              "      <th></th>\n",
              "      <th></th>\n",
              "      <th></th>\n",
              "      <th></th>\n",
              "      <th></th>\n",
              "      <th></th>\n",
              "      <th></th>\n",
              "      <th></th>\n",
              "      <th></th>\n",
              "      <th></th>\n",
              "      <th></th>\n",
              "      <th></th>\n",
              "      <th></th>\n",
              "      <th></th>\n",
              "    </tr>\n",
              "  </thead>\n",
              "  <tbody>\n",
              "    <tr>\n",
              "      <th>1368992939</th>\n",
              "      <td>92f6e4970773ace6a1a5834f969aa063</td>\n",
              "      <td>Art</td>\n",
              "      <td>Art</td>\n",
              "      <td>USD</td>\n",
              "      <td>2012-08-27</td>\n",
              "      <td>3600.00</td>\n",
              "      <td>2012-07-26 03:31:28</td>\n",
              "      <td>3599.69</td>\n",
              "      <td>successful</td>\n",
              "      <td>64</td>\n",
              "      <td>US</td>\n",
              "      <td>3599.69</td>\n",
              "      <td>3599.69</td>\n",
              "      <td>3600.00</td>\n",
              "      <td>0</td>\n",
              "    </tr>\n",
              "    <tr>\n",
              "      <th>1769772834</th>\n",
              "      <td>a9df06a2771d5b16d9bc1565e01d6f74</td>\n",
              "      <td>Shorts</td>\n",
              "      <td>Film &amp; Video</td>\n",
              "      <td>USD</td>\n",
              "      <td>2015-12-27</td>\n",
              "      <td>36000.00</td>\n",
              "      <td>2015-11-12 19:06:18</td>\n",
              "      <td>30716.00</td>\n",
              "      <td>successful</td>\n",
              "      <td>275</td>\n",
              "      <td>US</td>\n",
              "      <td>30716.00</td>\n",
              "      <td>30716.00</td>\n",
              "      <td>36000.00</td>\n",
              "      <td>0</td>\n",
              "    </tr>\n",
              "    <tr>\n",
              "      <th>251325270</th>\n",
              "      <td>8d98ff9795b5f284d716f851e41e344a</td>\n",
              "      <td>Documentary</td>\n",
              "      <td>Film &amp; Video</td>\n",
              "      <td>USD</td>\n",
              "      <td>2010-07-18</td>\n",
              "      <td>8000.00</td>\n",
              "      <td>2010-06-02 22:15:38</td>\n",
              "      <td>7999.65</td>\n",
              "      <td>successful</td>\n",
              "      <td>73</td>\n",
              "      <td>US</td>\n",
              "      <td>7999.65</td>\n",
              "      <td>7999.65</td>\n",
              "      <td>8000.00</td>\n",
              "      <td>0</td>\n",
              "    </tr>\n",
              "    <tr>\n",
              "      <th>4732285</th>\n",
              "      <td>c746e76b03e0b8a1fa80816821f7ebb7</td>\n",
              "      <td>Art</td>\n",
              "      <td>Art</td>\n",
              "      <td>USD</td>\n",
              "      <td>2010-07-08</td>\n",
              "      <td>2000.00</td>\n",
              "      <td>2010-05-27 00:26:33</td>\n",
              "      <td>1999.66</td>\n",
              "      <td>successful</td>\n",
              "      <td>30</td>\n",
              "      <td>US</td>\n",
              "      <td>1999.66</td>\n",
              "      <td>1999.66</td>\n",
              "      <td>2000.00</td>\n",
              "      <td>0</td>\n",
              "    </tr>\n",
              "    <tr>\n",
              "      <th>780863434</th>\n",
              "      <td>61e9a198771a6c2b2ae6fb50d96eccbe</td>\n",
              "      <td>Product Design</td>\n",
              "      <td>Design</td>\n",
              "      <td>EUR</td>\n",
              "      <td>2016-03-19</td>\n",
              "      <td>25000.00</td>\n",
              "      <td>2016-02-08 19:14:02</td>\n",
              "      <td>24892.50</td>\n",
              "      <td>successful</td>\n",
              "      <td>90</td>\n",
              "      <td>DE</td>\n",
              "      <td>27778.24</td>\n",
              "      <td>27765.07</td>\n",
              "      <td>27884.98</td>\n",
              "      <td>0</td>\n",
              "    </tr>\n",
              "  </tbody>\n",
              "</table>\n",
              "</div>"
            ],
            "text/plain": [
              "                                        name  ... name_weirdness\n",
              "ID                                            ...               \n",
              "1368992939  92f6e4970773ace6a1a5834f969aa063  ...              0\n",
              "1769772834  a9df06a2771d5b16d9bc1565e01d6f74  ...              0\n",
              "251325270   8d98ff9795b5f284d716f851e41e344a  ...              0\n",
              "4732285     c746e76b03e0b8a1fa80816821f7ebb7  ...              0\n",
              "780863434   61e9a198771a6c2b2ae6fb50d96eccbe  ...              0\n",
              "\n",
              "[5 rows x 15 columns]"
            ]
          },
          "metadata": {
            "tags": []
          }
        },
        {
          "output_type": "execute_result",
          "data": {
            "text/plain": [
              "1.3204422953512509e-05"
            ]
          },
          "metadata": {
            "tags": []
          },
          "execution_count": 84
        }
      ]
    },
    {
      "cell_type": "code",
      "metadata": {
        "id": "d0zvOVSghBg_",
        "colab_type": "code",
        "colab": {
          "base_uri": "https://localhost:8080/",
          "height": 248
        },
        "outputId": "5344328b-87dc-4718-e9ce-48d018baaca9"
      },
      "source": [
        "df = pd.concat([kickstarter_2018.main_category, kickstarter_2018.state, kickstarter_2018.name], axis = 1)\n",
        "df = df.groupby(['state', 'main_category']).count()\n",
        "df.pivot_table(index='state', columns='main_category', values = 'name')\n"
      ],
      "execution_count": null,
      "outputs": [
        {
          "output_type": "execute_result",
          "data": {
            "text/html": [
              "<div>\n",
              "<style scoped>\n",
              "    .dataframe tbody tr th:only-of-type {\n",
              "        vertical-align: middle;\n",
              "    }\n",
              "\n",
              "    .dataframe tbody tr th {\n",
              "        vertical-align: top;\n",
              "    }\n",
              "\n",
              "    .dataframe thead th {\n",
              "        text-align: right;\n",
              "    }\n",
              "</style>\n",
              "<table border=\"1\" class=\"dataframe\">\n",
              "  <thead>\n",
              "    <tr style=\"text-align: right;\">\n",
              "      <th>main_category</th>\n",
              "      <th>Art</th>\n",
              "      <th>Comics</th>\n",
              "      <th>Crafts</th>\n",
              "      <th>Dance</th>\n",
              "      <th>Design</th>\n",
              "      <th>Fashion</th>\n",
              "      <th>Film &amp; Video</th>\n",
              "      <th>Food</th>\n",
              "      <th>Games</th>\n",
              "      <th>Journalism</th>\n",
              "      <th>Music</th>\n",
              "      <th>Photography</th>\n",
              "      <th>Publishing</th>\n",
              "      <th>Technology</th>\n",
              "      <th>Theater</th>\n",
              "    </tr>\n",
              "    <tr>\n",
              "      <th>state</th>\n",
              "      <th></th>\n",
              "      <th></th>\n",
              "      <th></th>\n",
              "      <th></th>\n",
              "      <th></th>\n",
              "      <th></th>\n",
              "      <th></th>\n",
              "      <th></th>\n",
              "      <th></th>\n",
              "      <th></th>\n",
              "      <th></th>\n",
              "      <th></th>\n",
              "      <th></th>\n",
              "      <th></th>\n",
              "      <th></th>\n",
              "    </tr>\n",
              "  </thead>\n",
              "  <tbody>\n",
              "    <tr>\n",
              "      <th>canceled</th>\n",
              "      <td>2222.00</td>\n",
              "      <td>842.00</td>\n",
              "      <td>843.00</td>\n",
              "      <td>163.00</td>\n",
              "      <td>4152.00</td>\n",
              "      <td>2650.00</td>\n",
              "      <td>5755.00</td>\n",
              "      <td>2211.00</td>\n",
              "      <td>6202.00</td>\n",
              "      <td>523.00</td>\n",
              "      <td>3305.00</td>\n",
              "      <td>986.00</td>\n",
              "      <td>3602.00</td>\n",
              "      <td>4715.00</td>\n",
              "      <td>608.00</td>\n",
              "    </tr>\n",
              "    <tr>\n",
              "      <th>failed</th>\n",
              "      <td>14131.00</td>\n",
              "      <td>4036.00</td>\n",
              "      <td>5703.00</td>\n",
              "      <td>1235.00</td>\n",
              "      <td>14814.00</td>\n",
              "      <td>14182.00</td>\n",
              "      <td>32904.00</td>\n",
              "      <td>15969.00</td>\n",
              "      <td>16003.00</td>\n",
              "      <td>3137.00</td>\n",
              "      <td>21752.00</td>\n",
              "      <td>6384.00</td>\n",
              "      <td>23145.00</td>\n",
              "      <td>20616.00</td>\n",
              "      <td>3708.00</td>\n",
              "    </tr>\n",
              "    <tr>\n",
              "      <th>live</th>\n",
              "      <td>194.00</td>\n",
              "      <td>76.00</td>\n",
              "      <td>76.00</td>\n",
              "      <td>18.00</td>\n",
              "      <td>305.00</td>\n",
              "      <td>250.00</td>\n",
              "      <td>332.00</td>\n",
              "      <td>184.00</td>\n",
              "      <td>287.00</td>\n",
              "      <td>31.00</td>\n",
              "      <td>281.00</td>\n",
              "      <td>48.00</td>\n",
              "      <td>299.00</td>\n",
              "      <td>377.00</td>\n",
              "      <td>41.00</td>\n",
              "    </tr>\n",
              "    <tr>\n",
              "      <th>successful</th>\n",
              "      <td>11510.00</td>\n",
              "      <td>5842.00</td>\n",
              "      <td>2115.00</td>\n",
              "      <td>2338.00</td>\n",
              "      <td>10550.00</td>\n",
              "      <td>5593.00</td>\n",
              "      <td>23623.00</td>\n",
              "      <td>6085.00</td>\n",
              "      <td>12518.00</td>\n",
              "      <td>1012.00</td>\n",
              "      <td>24197.00</td>\n",
              "      <td>3305.00</td>\n",
              "      <td>12300.00</td>\n",
              "      <td>6434.00</td>\n",
              "      <td>6534.00</td>\n",
              "    </tr>\n",
              "    <tr>\n",
              "      <th>suspended</th>\n",
              "      <td>96.00</td>\n",
              "      <td>23.00</td>\n",
              "      <td>72.00</td>\n",
              "      <td>13.00</td>\n",
              "      <td>247.00</td>\n",
              "      <td>138.00</td>\n",
              "      <td>117.00</td>\n",
              "      <td>153.00</td>\n",
              "      <td>220.00</td>\n",
              "      <td>52.00</td>\n",
              "      <td>149.00</td>\n",
              "      <td>55.00</td>\n",
              "      <td>66.00</td>\n",
              "      <td>424.00</td>\n",
              "      <td>21.00</td>\n",
              "    </tr>\n",
              "    <tr>\n",
              "      <th>undefined</th>\n",
              "      <td>nan</td>\n",
              "      <td>nan</td>\n",
              "      <td>nan</td>\n",
              "      <td>1.00</td>\n",
              "      <td>2.00</td>\n",
              "      <td>3.00</td>\n",
              "      <td>854.00</td>\n",
              "      <td>nan</td>\n",
              "      <td>1.00</td>\n",
              "      <td>nan</td>\n",
              "      <td>2234.00</td>\n",
              "      <td>1.00</td>\n",
              "      <td>462.00</td>\n",
              "      <td>3.00</td>\n",
              "      <td>1.00</td>\n",
              "    </tr>\n",
              "  </tbody>\n",
              "</table>\n",
              "</div>"
            ],
            "text/plain": [
              "main_category      Art  Comics  Crafts  ...  Publishing  Technology  Theater\n",
              "state                                   ...                                 \n",
              "canceled       2222.00  842.00  843.00  ...     3602.00     4715.00   608.00\n",
              "failed        14131.00 4036.00 5703.00  ...    23145.00    20616.00  3708.00\n",
              "live            194.00   76.00   76.00  ...      299.00      377.00    41.00\n",
              "successful    11510.00 5842.00 2115.00  ...    12300.00     6434.00  6534.00\n",
              "suspended        96.00   23.00   72.00  ...       66.00      424.00    21.00\n",
              "undefined          nan     nan     nan  ...      462.00        3.00     1.00\n",
              "\n",
              "[6 rows x 15 columns]"
            ]
          },
          "metadata": {
            "tags": []
          },
          "execution_count": 85
        }
      ]
    },
    {
      "cell_type": "markdown",
      "metadata": {
        "colab_type": "text",
        "id": "3ci4iq7MIXUq"
      },
      "source": [
        "## 2.6. Identificar y documentar valores atípicos/outliers\n"
      ]
    },
    {
      "cell_type": "markdown",
      "metadata": {
        "colab_type": "text",
        "id": "CFiuuPAlIXUq"
      },
      "source": [
        "Queremos analizar las características de los proyectos que obtienen dinero pero sin considerar los casos atípicos."
      ]
    },
    {
      "cell_type": "code",
      "metadata": {
        "colab_type": "code",
        "id": "krohU7VxIXUq",
        "colab": {
          "base_uri": "https://localhost:8080/",
          "height": 277
        },
        "outputId": "e82bb5fe-fde7-46a9-f5e5-512abf035b7f"
      },
      "source": [
        "%matplotlib inline\n",
        "kickstarter_2018.usd_pledged.hist();"
      ],
      "execution_count": null,
      "outputs": [
        {
          "output_type": "display_data",
          "data": {
            "image/png": "[encoded data removed]",
            "text/plain": [
              "<Figure size 432x288 with 1 Axes>"
            ]
          },
          "metadata": {
            "tags": [],
            "needs_background": "light"
          }
        }
      ]
    },
    {
      "cell_type": "code",
      "metadata": {
        "colab_type": "code",
        "id": "4KNUgM_xIXUr",
        "colab": {
          "base_uri": "https://localhost:8080/",
          "height": 277
        },
        "outputId": "c696c585-a249-4e4a-f300-9f5a4bd62238"
      },
      "source": [
        "kickstarter_2018.boxplot(column='usd_pledged');"
      ],
      "execution_count": null,
      "outputs": [
        {
          "output_type": "display_data",
          "data": {
            "image/png": "[encoded data removed]",
            "text/plain": [
              "<Figure size 432x288 with 1 Axes>"
            ]
          },
          "metadata": {
            "tags": [],
            "needs_background": "light"
          }
        }
      ]
    },
    {
      "cell_type": "markdown",
      "metadata": {
        "colab_type": "text",
        "id": "2JzBu_TmIXUw"
      },
      "source": [
        "\"There are many rules of thumb for how to define an outlier but there is no silver bullet. One rule of thumb is that any data point that is three standard deviations away from the mean of the same data point for all observations.\""
      ]
    },
    {
      "cell_type": "code",
      "metadata": {
        "colab_type": "code",
        "id": "crqXG6cQIXUx",
        "colab": {
          "base_uri": "https://localhost:8080/",
          "height": 765
        },
        "outputId": "7315c6c1-aa8f-4ce7-9e70-e4634c339534"
      },
      "source": [
        "outliers = kickstarter_2018[kickstarter_2018.usd_pledged > (kickstarter_2018.usd_pledged.mean() + \n",
        "                                                            3 * kickstarter_2018.usd_pledged.std())]\n",
        "outliers"
      ],
      "execution_count": null,
      "outputs": [
        {
          "output_type": "execute_result",
          "data": {
            "text/html": [
              "<div>\n",
              "<style scoped>\n",
              "    .dataframe tbody tr th:only-of-type {\n",
              "        vertical-align: middle;\n",
              "    }\n",
              "\n",
              "    .dataframe tbody tr th {\n",
              "        vertical-align: top;\n",
              "    }\n",
              "\n",
              "    .dataframe thead th {\n",
              "        text-align: right;\n",
              "    }\n",
              "</style>\n",
              "<table border=\"1\" class=\"dataframe\">\n",
              "  <thead>\n",
              "    <tr style=\"text-align: right;\">\n",
              "      <th></th>\n",
              "      <th>name</th>\n",
              "      <th>category</th>\n",
              "      <th>main_category</th>\n",
              "      <th>currency</th>\n",
              "      <th>deadline</th>\n",
              "      <th>goal</th>\n",
              "      <th>launched</th>\n",
              "      <th>pledged</th>\n",
              "      <th>state</th>\n",
              "      <th>backers</th>\n",
              "      <th>country</th>\n",
              "      <th>usd_pledged</th>\n",
              "      <th>usd_pledged_real</th>\n",
              "      <th>usd_goal_real</th>\n",
              "      <th>name_weirdness</th>\n",
              "    </tr>\n",
              "    <tr>\n",
              "      <th>ID</th>\n",
              "      <th></th>\n",
              "      <th></th>\n",
              "      <th></th>\n",
              "      <th></th>\n",
              "      <th></th>\n",
              "      <th></th>\n",
              "      <th></th>\n",
              "      <th></th>\n",
              "      <th></th>\n",
              "      <th></th>\n",
              "      <th></th>\n",
              "      <th></th>\n",
              "      <th></th>\n",
              "      <th></th>\n",
              "      <th></th>\n",
              "    </tr>\n",
              "  </thead>\n",
              "  <tbody>\n",
              "    <tr>\n",
              "      <th>1000629643</th>\n",
              "      <td>fe221e884defd602c8b40c83fee3e2f9</td>\n",
              "      <td>Hardware</td>\n",
              "      <td>Technology</td>\n",
              "      <td>USD</td>\n",
              "      <td>2014-07-08</td>\n",
              "      <td>250000.00</td>\n",
              "      <td>2014-05-28 13:54:18</td>\n",
              "      <td>268192.00</td>\n",
              "      <td>successful</td>\n",
              "      <td>561</td>\n",
              "      <td>US</td>\n",
              "      <td>268192.00</td>\n",
              "      <td>268192.00</td>\n",
              "      <td>250000.00</td>\n",
              "      <td>0</td>\n",
              "    </tr>\n",
              "    <tr>\n",
              "      <th>1000725978</th>\n",
              "      <td>01105300adb6e39d311a3da9b4219666</td>\n",
              "      <td>Product Design</td>\n",
              "      <td>Design</td>\n",
              "      <td>USD</td>\n",
              "      <td>2016-03-01</td>\n",
              "      <td>80000.00</td>\n",
              "      <td>2016-01-21 12:18:00</td>\n",
              "      <td>843743.00</td>\n",
              "      <td>successful</td>\n",
              "      <td>3784</td>\n",
              "      <td>US</td>\n",
              "      <td>843743.00</td>\n",
              "      <td>843743.00</td>\n",
              "      <td>80000.00</td>\n",
              "      <td>0</td>\n",
              "    </tr>\n",
              "    <tr>\n",
              "      <th>1001502333</th>\n",
              "      <td>da74e35b6cd6b02d6477b9063f84e295</td>\n",
              "      <td>Hardware</td>\n",
              "      <td>Technology</td>\n",
              "      <td>USD</td>\n",
              "      <td>2017-11-03</td>\n",
              "      <td>200000.00</td>\n",
              "      <td>2017-09-19 19:02:23</td>\n",
              "      <td>4236618.49</td>\n",
              "      <td>successful</td>\n",
              "      <td>5946</td>\n",
              "      <td>US</td>\n",
              "      <td>608194.00</td>\n",
              "      <td>4236618.49</td>\n",
              "      <td>200000.00</td>\n",
              "      <td>0</td>\n",
              "    </tr>\n",
              "    <tr>\n",
              "      <th>1003182869</th>\n",
              "      <td>f3fef09d671bff0cd2d6538806578589</td>\n",
              "      <td>Gadgets</td>\n",
              "      <td>Technology</td>\n",
              "      <td>USD</td>\n",
              "      <td>2016-06-03</td>\n",
              "      <td>30000.00</td>\n",
              "      <td>2016-05-04 19:27:57</td>\n",
              "      <td>396299.00</td>\n",
              "      <td>successful</td>\n",
              "      <td>2412</td>\n",
              "      <td>US</td>\n",
              "      <td>396299.00</td>\n",
              "      <td>396299.00</td>\n",
              "      <td>30000.00</td>\n",
              "      <td>0</td>\n",
              "    </tr>\n",
              "    <tr>\n",
              "      <th>1006008989</th>\n",
              "      <td>feaeba214ae428c82fa4d70325248813</td>\n",
              "      <td>Video Games</td>\n",
              "      <td>Games</td>\n",
              "      <td>GBP</td>\n",
              "      <td>2013-01-03</td>\n",
              "      <td>150000.00</td>\n",
              "      <td>2012-11-29 19:11:23</td>\n",
              "      <td>211371.50</td>\n",
              "      <td>successful</td>\n",
              "      <td>8351</td>\n",
              "      <td>GB</td>\n",
              "      <td>338527.51</td>\n",
              "      <td>338589.87</td>\n",
              "      <td>240280.65</td>\n",
              "      <td>0</td>\n",
              "    </tr>\n",
              "    <tr>\n",
              "      <th>...</th>\n",
              "      <td>...</td>\n",
              "      <td>...</td>\n",
              "      <td>...</td>\n",
              "      <td>...</td>\n",
              "      <td>...</td>\n",
              "      <td>...</td>\n",
              "      <td>...</td>\n",
              "      <td>...</td>\n",
              "      <td>...</td>\n",
              "      <td>...</td>\n",
              "      <td>...</td>\n",
              "      <td>...</td>\n",
              "      <td>...</td>\n",
              "      <td>...</td>\n",
              "      <td>...</td>\n",
              "    </tr>\n",
              "    <tr>\n",
              "      <th>994834878</th>\n",
              "      <td>ef947683026b007fdc3b6f6740df2b80</td>\n",
              "      <td>Product Design</td>\n",
              "      <td>Design</td>\n",
              "      <td>USD</td>\n",
              "      <td>2016-03-04</td>\n",
              "      <td>15000.00</td>\n",
              "      <td>2016-01-19 17:00:36</td>\n",
              "      <td>624474.00</td>\n",
              "      <td>successful</td>\n",
              "      <td>3478</td>\n",
              "      <td>US</td>\n",
              "      <td>624474.00</td>\n",
              "      <td>624474.00</td>\n",
              "      <td>15000.00</td>\n",
              "      <td>0</td>\n",
              "    </tr>\n",
              "    <tr>\n",
              "      <th>995248054</th>\n",
              "      <td>35d1e0b919d45f1c359b3c6e316231a6</td>\n",
              "      <td>Product Design</td>\n",
              "      <td>Design</td>\n",
              "      <td>USD</td>\n",
              "      <td>2016-07-01</td>\n",
              "      <td>80000.00</td>\n",
              "      <td>2016-06-01 18:53:37</td>\n",
              "      <td>328579.00</td>\n",
              "      <td>successful</td>\n",
              "      <td>1203</td>\n",
              "      <td>US</td>\n",
              "      <td>328579.00</td>\n",
              "      <td>328579.00</td>\n",
              "      <td>80000.00</td>\n",
              "      <td>0</td>\n",
              "    </tr>\n",
              "    <tr>\n",
              "      <th>995551135</th>\n",
              "      <td>96a74a3a374795a0061389e98f6ae0cb</td>\n",
              "      <td>Video Games</td>\n",
              "      <td>Games</td>\n",
              "      <td>USD</td>\n",
              "      <td>2015-11-20</td>\n",
              "      <td>300000.00</td>\n",
              "      <td>2015-10-21 13:34:08</td>\n",
              "      <td>332620.81</td>\n",
              "      <td>successful</td>\n",
              "      <td>5828</td>\n",
              "      <td>US</td>\n",
              "      <td>332620.81</td>\n",
              "      <td>332620.81</td>\n",
              "      <td>300000.00</td>\n",
              "      <td>0</td>\n",
              "    </tr>\n",
              "    <tr>\n",
              "      <th>997256071</th>\n",
              "      <td>c24c04760c1ff4b3ab5876cefeea3cd8</td>\n",
              "      <td>Camera Equipment</td>\n",
              "      <td>Technology</td>\n",
              "      <td>USD</td>\n",
              "      <td>2016-05-08</td>\n",
              "      <td>30000.00</td>\n",
              "      <td>2016-04-08 22:18:23</td>\n",
              "      <td>394930.00</td>\n",
              "      <td>successful</td>\n",
              "      <td>213</td>\n",
              "      <td>US</td>\n",
              "      <td>394930.00</td>\n",
              "      <td>394930.00</td>\n",
              "      <td>30000.00</td>\n",
              "      <td>0</td>\n",
              "    </tr>\n",
              "    <tr>\n",
              "      <th>99825633</th>\n",
              "      <td>7739cc5fb8200e5c8969f20feb928240</td>\n",
              "      <td>Tabletop Games</td>\n",
              "      <td>Games</td>\n",
              "      <td>GBP</td>\n",
              "      <td>2014-09-21</td>\n",
              "      <td>21000.00</td>\n",
              "      <td>2014-08-22 21:00:15</td>\n",
              "      <td>198415.01</td>\n",
              "      <td>successful</td>\n",
              "      <td>1204</td>\n",
              "      <td>GB</td>\n",
              "      <td>328968.44</td>\n",
              "      <td>323583.63</td>\n",
              "      <td>34247.69</td>\n",
              "      <td>0</td>\n",
              "    </tr>\n",
              "  </tbody>\n",
              "</table>\n",
              "<p>1201 rows × 15 columns</p>\n",
              "</div>"
            ],
            "text/plain": [
              "                                        name  ... name_weirdness\n",
              "ID                                            ...               \n",
              "1000629643  fe221e884defd602c8b40c83fee3e2f9  ...              0\n",
              "1000725978  01105300adb6e39d311a3da9b4219666  ...              0\n",
              "1001502333  da74e35b6cd6b02d6477b9063f84e295  ...              0\n",
              "1003182869  f3fef09d671bff0cd2d6538806578589  ...              0\n",
              "1006008989  feaeba214ae428c82fa4d70325248813  ...              0\n",
              "...                                      ...  ...            ...\n",
              "994834878   ef947683026b007fdc3b6f6740df2b80  ...              0\n",
              "995248054   35d1e0b919d45f1c359b3c6e316231a6  ...              0\n",
              "995551135   96a74a3a374795a0061389e98f6ae0cb  ...              0\n",
              "997256071   c24c04760c1ff4b3ab5876cefeea3cd8  ...              0\n",
              "99825633    7739cc5fb8200e5c8969f20feb928240  ...              0\n",
              "\n",
              "[1201 rows x 15 columns]"
            ]
          },
          "metadata": {
            "tags": []
          },
          "execution_count": 88
        }
      ]
    },
    {
      "cell_type": "code",
      "metadata": {
        "id": "ChVA-nJjkX_K",
        "colab_type": "code",
        "colab": {
          "base_uri": "https://localhost:8080/",
          "height": 267
        },
        "outputId": "0d835414-c465-46df-dd88-aa7fe1c45b7f"
      },
      "source": [
        "kickstarter_2018.drop(outliers.index).boxplot(column='usd_pledged');"
      ],
      "execution_count": null,
      "outputs": [
        {
          "output_type": "display_data",
          "data": {
            "image/png": "[encoded data removed]",
            "text/plain": [
              "<Figure size 432x288 with 1 Axes>"
            ]
          },
          "metadata": {
            "tags": [],
            "needs_background": "light"
          }
        }
      ]
    },
    {
      "cell_type": "code",
      "metadata": {
        "colab_type": "code",
        "id": "GUIlg7xXIXUz",
        "colab": {
          "base_uri": "https://localhost:8080/",
          "height": 301
        },
        "outputId": "6b904253-74bd-41c1-87ca-a8afa7aebda7"
      },
      "source": [
        "kickstarter_2018.drop(outliers.index).boxplot(column='usd_pledged',by='state');"
      ],
      "execution_count": null,
      "outputs": [
        {
          "output_type": "display_data",
          "data": {
            "image/png": "[encoded data removed]",
            "text/plain": [
              "<Figure size 432x288 with 1 Axes>"
            ]
          },
          "metadata": {
            "tags": [],
            "needs_background": "light"
          }
        }
      ]
    },
    {
      "cell_type": "markdown",
      "metadata": {
        "id": "k-SsBjMJkX_S",
        "colab_type": "text"
      },
      "source": [
        "Analizar outliers por categorías"
      ]
    },
    {
      "cell_type": "code",
      "metadata": {
        "colab_type": "code",
        "id": "Q3sawM-JIXUx",
        "colab": {
          "base_uri": "https://localhost:8080/",
          "height": 585
        },
        "outputId": "560c4e2e-348d-41f8-af8f-034dddf2567f"
      },
      "source": [
        "kickstarter_2018.boxplot(column='usd_pledged',by='state');\n",
        "kickstarter_2018.boxplot(column='usd_goal_real',by='state');"
      ],
      "execution_count": null,
      "outputs": [
        {
          "output_type": "display_data",
          "data": {
            "image/png": "[encoded data removed]",
            "text/plain": [
              "<Figure size 432x288 with 1 Axes>"
            ]
          },
          "metadata": {
            "tags": [],
            "needs_background": "light"
          }
        },
        {
          "output_type": "display_data",
          "data": {
            "image/png": "[encoded data removed]",
            "text/plain": [
              "<Figure size 432x288 with 1 Axes>"
            ]
          },
          "metadata": {
            "tags": [],
            "needs_background": "light"
          }
        }
      ]
    },
    {
      "cell_type": "markdown",
      "metadata": {
        "id": "y9ujxSnnkX_V",
        "colab_type": "text"
      },
      "source": [
        "#### Ejercicio 6\n",
        "\n",
        "Calcular los valores atípicos de 'usd_goal_real' y graficar los boxplots, con y sin estos valores por categoría"
      ]
    },
    {
      "cell_type": "code",
      "metadata": {
        "id": "fWXzbhQmvgvi",
        "colab_type": "code",
        "colab": {
          "base_uri": "https://localhost:8080/",
          "height": 317
        },
        "outputId": "3041defd-2eae-446f-f227-10bf47c2c8de"
      },
      "source": [
        "#bocplot con outliers\n",
        "kickstarter_2018.boxplot(column='usd_goal_real',by='state')"
      ],
      "execution_count": null,
      "outputs": [
        {
          "output_type": "execute_result",
          "data": {
            "text/plain": [
              "<matplotlib.axes._subplots.AxesSubplot at 0x7f0cc55a4828>"
            ]
          },
          "metadata": {
            "tags": []
          },
          "execution_count": 92
        },
        {
          "output_type": "display_data",
          "data": {
            "image/png": "[encoded data removed]",
            "text/plain": [
              "<Figure size 432x288 with 1 Axes>"
            ]
          },
          "metadata": {
            "tags": [],
            "needs_background": "light"
          }
        }
      ]
    },
    {
      "cell_type": "code",
      "metadata": {
        "id": "Sm1TXwMfv4wx",
        "colab_type": "code",
        "colab": {
          "base_uri": "https://localhost:8080/",
          "height": 317
        },
        "outputId": "7dec8c71-c3da-468b-b5a8-6acb723b9111"
      },
      "source": [
        "outliers = kickstarter_2018[kickstarter_2018.usd_goal_real > (kickstarter_2018.usd_goal_real.mean() + \n",
        "                                                            3 * kickstarter_2018.usd_goal_real.std())]\n",
        "#boxplot sin outliers\n",
        "kickstarter_2018.drop(outliers.index).boxplot(column='usd_goal_real',by='state')"
      ],
      "execution_count": null,
      "outputs": [
        {
          "output_type": "execute_result",
          "data": {
            "text/plain": [
              "<matplotlib.axes._subplots.AxesSubplot at 0x7f0cc5339748>"
            ]
          },
          "metadata": {
            "tags": []
          },
          "execution_count": 93
        },
        {
          "output_type": "display_data",
          "data": {
            "image/png": "[encoded data removed]",
            "text/plain": [
              "<Figure size 432x288 with 1 Axes>"
            ]
          },
          "metadata": {
            "tags": [],
            "needs_background": "light"
          }
        }
      ]
    },
    {
      "cell_type": "code",
      "metadata": {
        "id": "hRrwQLQWxIHH",
        "colab_type": "code",
        "colab": {
          "base_uri": "https://localhost:8080/",
          "height": 293
        },
        "outputId": "9b82511e-3949-4f5b-fd92-53c134939af3"
      },
      "source": [
        "kickstarter_2018.drop(outliers.index).boxplot(column='usd_goal_real')"
      ],
      "execution_count": null,
      "outputs": [
        {
          "output_type": "execute_result",
          "data": {
            "text/plain": [
              "<matplotlib.axes._subplots.AxesSubplot at 0x7f0cc53bb668>"
            ]
          },
          "metadata": {
            "tags": []
          },
          "execution_count": 94
        },
        {
          "output_type": "display_data",
          "data": {
            "image/png": "[encoded data removed]",
            "text/plain": [
              "<Figure size 432x288 with 1 Axes>"
            ]
          },
          "metadata": {
            "tags": [],
            "needs_background": "light"
          }
        }
      ]
    },
    {
      "cell_type": "code",
      "metadata": {
        "id": "TheKy-FDxQdP",
        "colab_type": "code",
        "colab": {
          "base_uri": "https://localhost:8080/",
          "height": 293
        },
        "outputId": "f67a57b3-f0a4-46d2-c91b-ad54869babb1"
      },
      "source": [
        "kickstarter_2018.boxplot(column='usd_goal_real')"
      ],
      "execution_count": null,
      "outputs": [
        {
          "output_type": "execute_result",
          "data": {
            "text/plain": [
              "<matplotlib.axes._subplots.AxesSubplot at 0x7f0cc51ea908>"
            ]
          },
          "metadata": {
            "tags": []
          },
          "execution_count": 95
        },
        {
          "output_type": "display_data",
          "data": {
            "image/png": "[encoded data removed]",
            "text/plain": [
              "<Figure size 432x288 with 1 Axes>"
            ]
          },
          "metadata": {
            "tags": [],
            "needs_background": "light"
          }
        }
      ]
    },
    {
      "cell_type": "markdown",
      "metadata": {
        "colab_type": "text",
        "id": "oGI_4tR0IXUz"
      },
      "source": [
        "## 2.7. Evaluar cómo comprimir los datos \n",
        "para su almacenamiento más eficiente.\n",
        "\n",
        "En la actualidad, en las nubes el almacenamiento no suele ser problema sino la velocidad para leerlo que suele ser determinante a la hora de determinar el formato de almacenamiento.\n"
      ]
    },
    {
      "cell_type": "markdown",
      "metadata": {
        "colab_type": "text",
        "id": "9y8QxZwdIXU0"
      },
      "source": [
        "## 2.8. Guardar el set de datos con un nombre informativo.\n"
      ]
    },
    {
      "cell_type": "markdown",
      "metadata": {
        "colab_type": "text",
        "id": "AZCHpIn4Jiec"
      },
      "source": [
        "## Ejercicio tablas de crecimiento:\n",
        "\n",
        "Graficar las curvas correspondientes a cada percentil para niños y niñas\n"
      ]
    },
    {
      "cell_type": "code",
      "metadata": {
        "colab_type": "code",
        "id": "5WMubOhlJ4fb",
        "colab": {
          "base_uri": "https://localhost:8080/",
          "height": 508
        },
        "outputId": "df45a155-607e-49fa-843a-e3a61e1e8617"
      },
      "source": [
        "import seaborn as sns\n",
        "import matplotlib.pyplot as plt\n",
        "import pandas as pd\n",
        "\n",
        "#Lectura\n",
        "dataset = pd.read_csv(BASE_DIR + \"/input/wtageinf.csv\")\n",
        "\n",
        "#Filtrado\n",
        "dataset_mas = dataset[dataset[\"Sex\"] == 1]\n",
        "display(dataset_mas.head())\n",
        "\n",
        "#Grafico Masculino\n",
        "sns.lineplot(x = \"Agemos\", y = \"P3\", data = dataset_mas,\n",
        "            markers = [\"o\", \"<\"], legend=\"brief\", label=\"P3\")\n",
        "sns.lineplot(x = \"Agemos\", y = \"P5\", data = dataset_mas,\n",
        "            markers = [\"o\", \"<\"], legend=\"brief\", label=\"P5\")\n",
        "sns.lineplot(x = \"Agemos\", y = \"P10\", data = dataset_mas,\n",
        "            markers = [\"o\", \"<\"], legend=\"brief\", label=\"P10\")\n",
        "sns.lineplot(x = \"Agemos\", y = \"P25\", data = dataset_mas,\n",
        "            markers = [\"o\", \"<\"], legend=\"brief\", label=\"P25\")\n",
        "sns.lineplot(x = \"Agemos\", y = \"P50\", data = dataset_mas,\n",
        "            markers = [\"o\", \"<\"], legend=\"brief\", label=\"P50\")\n",
        "sns.lineplot(x = \"Agemos\", y = \"P75\", data = dataset_mas,\n",
        "            markers = [\"o\", \"<\"], legend=\"brief\", label=\"P75\")\n",
        "sns.lineplot(x = \"Agemos\", y = \"P90\", data = dataset_mas,\n",
        "            markers = [\"o\", \"<\"], legend=\"brief\", label=\"P90\")\n",
        "sns.lineplot(x = \"Agemos\", y = \"P95\", data = dataset_mas,\n",
        "            markers = [\"o\", \"<\"], legend=\"brief\", label=\"P95\")\n",
        "\n",
        "plt.xlabel(\"Edad en meses\", fontsize = 15)\n",
        "plt.ylabel(\"Percentiles\", fontsize = 15)\n",
        "plt.title(\"Niños\", fontsize = 15)\n",
        "\n"
      ],
      "execution_count": null,
      "outputs": [
        {
          "output_type": "display_data",
          "data": {
            "text/html": [
              "<div>\n",
              "<style scoped>\n",
              "    .dataframe tbody tr th:only-of-type {\n",
              "        vertical-align: middle;\n",
              "    }\n",
              "\n",
              "    .dataframe tbody tr th {\n",
              "        vertical-align: top;\n",
              "    }\n",
              "\n",
              "    .dataframe thead th {\n",
              "        text-align: right;\n",
              "    }\n",
              "</style>\n",
              "<table border=\"1\" class=\"dataframe\">\n",
              "  <thead>\n",
              "    <tr style=\"text-align: right;\">\n",
              "      <th></th>\n",
              "      <th>Sex</th>\n",
              "      <th>Agemos</th>\n",
              "      <th>L</th>\n",
              "      <th>M</th>\n",
              "      <th>S</th>\n",
              "      <th>P3</th>\n",
              "      <th>P5</th>\n",
              "      <th>P10</th>\n",
              "      <th>P25</th>\n",
              "      <th>P50</th>\n",
              "      <th>P75</th>\n",
              "      <th>P90</th>\n",
              "      <th>P95</th>\n",
              "      <th>P97</th>\n",
              "    </tr>\n",
              "  </thead>\n",
              "  <tbody>\n",
              "    <tr>\n",
              "      <th>0</th>\n",
              "      <td>1</td>\n",
              "      <td>0.0</td>\n",
              "      <td>1.815151</td>\n",
              "      <td>3.530203</td>\n",
              "      <td>0.152385</td>\n",
              "      <td>2.355451</td>\n",
              "      <td>2.526904</td>\n",
              "      <td>2.773802</td>\n",
              "      <td>3.150611</td>\n",
              "      <td>3.530203</td>\n",
              "      <td>3.879077</td>\n",
              "      <td>4.172493</td>\n",
              "      <td>4.340293</td>\n",
              "      <td>4.446488</td>\n",
              "    </tr>\n",
              "    <tr>\n",
              "      <th>1</th>\n",
              "      <td>1</td>\n",
              "      <td>0.5</td>\n",
              "      <td>1.547523</td>\n",
              "      <td>4.003106</td>\n",
              "      <td>0.146025</td>\n",
              "      <td>2.799549</td>\n",
              "      <td>2.964656</td>\n",
              "      <td>3.209510</td>\n",
              "      <td>3.597396</td>\n",
              "      <td>4.003106</td>\n",
              "      <td>4.387423</td>\n",
              "      <td>4.718161</td>\n",
              "      <td>4.910130</td>\n",
              "      <td>5.032625</td>\n",
              "    </tr>\n",
              "    <tr>\n",
              "      <th>2</th>\n",
              "      <td>1</td>\n",
              "      <td>1.5</td>\n",
              "      <td>1.068796</td>\n",
              "      <td>4.879525</td>\n",
              "      <td>0.136479</td>\n",
              "      <td>3.614688</td>\n",
              "      <td>3.774849</td>\n",
              "      <td>4.020561</td>\n",
              "      <td>4.428873</td>\n",
              "      <td>4.879525</td>\n",
              "      <td>5.327328</td>\n",
              "      <td>5.728153</td>\n",
              "      <td>5.967102</td>\n",
              "      <td>6.121929</td>\n",
              "    </tr>\n",
              "    <tr>\n",
              "      <th>3</th>\n",
              "      <td>1</td>\n",
              "      <td>2.5</td>\n",
              "      <td>0.695974</td>\n",
              "      <td>5.672889</td>\n",
              "      <td>0.129678</td>\n",
              "      <td>4.342341</td>\n",
              "      <td>4.503255</td>\n",
              "      <td>4.754479</td>\n",
              "      <td>5.183378</td>\n",
              "      <td>5.672889</td>\n",
              "      <td>6.175598</td>\n",
              "      <td>6.638979</td>\n",
              "      <td>6.921119</td>\n",
              "      <td>7.106250</td>\n",
              "    </tr>\n",
              "    <tr>\n",
              "      <th>4</th>\n",
              "      <td>1</td>\n",
              "      <td>3.5</td>\n",
              "      <td>0.419815</td>\n",
              "      <td>6.391392</td>\n",
              "      <td>0.124717</td>\n",
              "      <td>4.992898</td>\n",
              "      <td>5.157412</td>\n",
              "      <td>5.416803</td>\n",
              "      <td>5.866806</td>\n",
              "      <td>6.391392</td>\n",
              "      <td>6.942217</td>\n",
              "      <td>7.460702</td>\n",
              "      <td>7.781401</td>\n",
              "      <td>7.993878</td>\n",
              "    </tr>\n",
              "  </tbody>\n",
              "</table>\n",
              "</div>"
            ],
            "text/plain": [
              "   Sex  Agemos         L         M  ...       P75       P90       P95       P97\n",
              "0    1     0.0  1.815151  3.530203  ...  3.879077  4.172493  4.340293  4.446488\n",
              "1    1     0.5  1.547523  4.003106  ...  4.387423  4.718161  4.910130  5.032625\n",
              "2    1     1.5  1.068796  4.879525  ...  5.327328  5.728153  5.967102  6.121929\n",
              "3    1     2.5  0.695974  5.672889  ...  6.175598  6.638979  6.921119  7.106250\n",
              "4    1     3.5  0.419815  6.391392  ...  6.942217  7.460702  7.781401  7.993878\n",
              "\n",
              "[5 rows x 14 columns]"
            ]
          },
          "metadata": {
            "tags": []
          }
        },
        {
          "output_type": "execute_result",
          "data": {
            "text/plain": [
              "Text(0.5, 1.0, 'Niños')"
            ]
          },
          "metadata": {
            "tags": []
          },
          "execution_count": 3
        },
        {
          "output_type": "display_data",
          "data": {
            "image/png": "[encoded data removed]",
            "text/plain": [
              "<Figure size 432x288 with 1 Axes>"
            ]
          },
          "metadata": {
            "tags": [],
            "needs_background": "light"
          }
        }
      ]
    },
    {
      "cell_type": "code",
      "metadata": {
        "colab_type": "code",
        "id": "4MHBUgaFKGXn",
        "colab": {
          "base_uri": "https://localhost:8080/",
          "height": 508
        },
        "outputId": "c1147b1b-f43e-4aab-a80a-aa918eb67b49"
      },
      "source": [
        "#Filtrado\n",
        "dataset_fem = dataset[dataset[\"Sex\"] == 2]\n",
        "display(dataset_fem.head())\n",
        "\n",
        "#Grafico Femenino\n",
        "sns.lineplot(x = \"Agemos\", y = \"P3\", data = dataset_fem,\n",
        "            markers = [\"o\", \"<\"], legend=\"brief\", label=\"P3\")\n",
        "sns.lineplot(x = \"Agemos\", y = \"P5\", data = dataset_fem,\n",
        "            markers = [\"o\", \"<\"], legend=\"brief\", label=\"P5\")\n",
        "sns.lineplot(x = \"Agemos\", y = \"P10\", data = dataset_fem,\n",
        "            markers = [\"o\", \"<\"], legend=\"brief\", label=\"P10\")\n",
        "sns.lineplot(x = \"Agemos\", y = \"P25\", data = dataset_fem,\n",
        "            markers = [\"o\", \"<\"], legend=\"brief\", label=\"P25\")\n",
        "sns.lineplot(x = \"Agemos\", y = \"P50\", data = dataset_fem,\n",
        "            markers = [\"o\", \"<\"], legend=\"brief\", label=\"P50\")\n",
        "sns.lineplot(x = \"Agemos\", y = \"P75\", data = dataset_fem,\n",
        "            markers = [\"o\", \"<\"], legend=\"brief\", label=\"P75\")\n",
        "sns.lineplot(x = \"Agemos\", y = \"P90\", data = dataset_fem,\n",
        "            markers = [\"o\", \"<\"], legend=\"brief\", label=\"P90\")\n",
        "sns.lineplot(x = \"Agemos\", y = \"P95\", data = dataset_fem,\n",
        "            markers = [\"o\", \"<\"], legend=\"brief\", label=\"P95\")\n",
        "\n",
        "plt.xlabel(\"Edad en meses\", fontsize = 15)\n",
        "plt.ylabel(\"Percentiles\", fontsize = 15)\n",
        "plt.title(\"Niñas\", fontsize = 15)"
      ],
      "execution_count": null,
      "outputs": [
        {
          "output_type": "display_data",
          "data": {
            "text/html": [
              "<div>\n",
              "<style scoped>\n",
              "    .dataframe tbody tr th:only-of-type {\n",
              "        vertical-align: middle;\n",
              "    }\n",
              "\n",
              "    .dataframe tbody tr th {\n",
              "        vertical-align: top;\n",
              "    }\n",
              "\n",
              "    .dataframe thead th {\n",
              "        text-align: right;\n",
              "    }\n",
              "</style>\n",
              "<table border=\"1\" class=\"dataframe\">\n",
              "  <thead>\n",
              "    <tr style=\"text-align: right;\">\n",
              "      <th></th>\n",
              "      <th>Sex</th>\n",
              "      <th>Agemos</th>\n",
              "      <th>L</th>\n",
              "      <th>M</th>\n",
              "      <th>S</th>\n",
              "      <th>P3</th>\n",
              "      <th>P5</th>\n",
              "      <th>P10</th>\n",
              "      <th>P25</th>\n",
              "      <th>P50</th>\n",
              "      <th>P75</th>\n",
              "      <th>P90</th>\n",
              "      <th>P95</th>\n",
              "      <th>P97</th>\n",
              "    </tr>\n",
              "  </thead>\n",
              "  <tbody>\n",
              "    <tr>\n",
              "      <th>38</th>\n",
              "      <td>2</td>\n",
              "      <td>0.0</td>\n",
              "      <td>1.509188</td>\n",
              "      <td>3.399186</td>\n",
              "      <td>0.142107</td>\n",
              "      <td>2.414112</td>\n",
              "      <td>2.547905</td>\n",
              "      <td>2.747222</td>\n",
              "      <td>3.064865</td>\n",
              "      <td>3.399186</td>\n",
              "      <td>3.717519</td>\n",
              "      <td>3.992572</td>\n",
              "      <td>4.152637</td>\n",
              "      <td>4.254922</td>\n",
              "    </tr>\n",
              "    <tr>\n",
              "      <th>39</th>\n",
              "      <td>2</td>\n",
              "      <td>0.5</td>\n",
              "      <td>1.357944</td>\n",
              "      <td>3.797528</td>\n",
              "      <td>0.138076</td>\n",
              "      <td>2.756917</td>\n",
              "      <td>2.894442</td>\n",
              "      <td>3.101767</td>\n",
              "      <td>3.437628</td>\n",
              "      <td>3.797528</td>\n",
              "      <td>4.145594</td>\n",
              "      <td>4.450126</td>\n",
              "      <td>4.628836</td>\n",
              "      <td>4.743582</td>\n",
              "    </tr>\n",
              "    <tr>\n",
              "      <th>40</th>\n",
              "      <td>2</td>\n",
              "      <td>1.5</td>\n",
              "      <td>1.105538</td>\n",
              "      <td>4.544777</td>\n",
              "      <td>0.131734</td>\n",
              "      <td>3.402293</td>\n",
              "      <td>3.547610</td>\n",
              "      <td>3.770157</td>\n",
              "      <td>4.138994</td>\n",
              "      <td>4.544777</td>\n",
              "      <td>4.946766</td>\n",
              "      <td>5.305632</td>\n",
              "      <td>5.519169</td>\n",
              "      <td>5.657379</td>\n",
              "    </tr>\n",
              "    <tr>\n",
              "      <th>41</th>\n",
              "      <td>2</td>\n",
              "      <td>2.5</td>\n",
              "      <td>0.902597</td>\n",
              "      <td>5.230584</td>\n",
              "      <td>0.126893</td>\n",
              "      <td>3.997806</td>\n",
              "      <td>4.150639</td>\n",
              "      <td>4.387042</td>\n",
              "      <td>4.784820</td>\n",
              "      <td>5.230584</td>\n",
              "      <td>5.680083</td>\n",
              "      <td>6.087641</td>\n",
              "      <td>6.332837</td>\n",
              "      <td>6.492574</td>\n",
              "    </tr>\n",
              "    <tr>\n",
              "      <th>42</th>\n",
              "      <td>2</td>\n",
              "      <td>3.5</td>\n",
              "      <td>0.734121</td>\n",
              "      <td>5.859961</td>\n",
              "      <td>0.123025</td>\n",
              "      <td>4.547383</td>\n",
              "      <td>4.707123</td>\n",
              "      <td>4.955926</td>\n",
              "      <td>5.379141</td>\n",
              "      <td>5.859961</td>\n",
              "      <td>6.351512</td>\n",
              "      <td>6.802770</td>\n",
              "      <td>7.076723</td>\n",
              "      <td>7.256166</td>\n",
              "    </tr>\n",
              "  </tbody>\n",
              "</table>\n",
              "</div>"
            ],
            "text/plain": [
              "    Sex  Agemos         L         M  ...       P75       P90       P95       P97\n",
              "38    2     0.0  1.509188  3.399186  ...  3.717519  3.992572  4.152637  4.254922\n",
              "39    2     0.5  1.357944  3.797528  ...  4.145594  4.450126  4.628836  4.743582\n",
              "40    2     1.5  1.105538  4.544777  ...  4.946766  5.305632  5.519169  5.657379\n",
              "41    2     2.5  0.902597  5.230584  ...  5.680083  6.087641  6.332837  6.492574\n",
              "42    2     3.5  0.734121  5.859961  ...  6.351512  6.802770  7.076723  7.256166\n",
              "\n",
              "[5 rows x 14 columns]"
            ]
          },
          "metadata": {
            "tags": []
          }
        },
        {
          "output_type": "execute_result",
          "data": {
            "text/plain": [
              "Text(0.5, 1.0, 'Niñas')"
            ]
          },
          "metadata": {
            "tags": []
          },
          "execution_count": 4
        },
        {
          "output_type": "display_data",
          "data": {
            "image/png": "[encoded data removed]",
            "text/plain": [
              "<Figure size 432x288 with 1 Axes>"
            ]
          },
          "metadata": {
            "tags": [],
            "needs_background": "light"
          }
        }
      ]
    },
    {
      "cell_type": "markdown",
      "metadata": {
        "colab_type": "text",
        "id": "EFIHk5B_KUjD"
      },
      "source": [
        "## Ejercicio pasos fronterizos:\n",
        "\n",
        "Graficar un gráfico de barras agrupando por valor del atributo \"province\""
      ]
    },
    {
      "cell_type": "code",
      "metadata": {
        "colab_type": "code",
        "id": "WsZFjf7sKkWp",
        "colab": {
          "base_uri": "https://localhost:8080/",
          "height": 864
        },
        "outputId": "9c0ce3b9-71b4-4a00-d944-30a0538f815c"
      },
      "source": [
        "#Lectura\n",
        "datos = pd.read_json(BASE_DIR + \"/input/pasos.json\")\n",
        "display(datos.head())\n",
        "\n",
        "#Contexto\n",
        "sns.set_context(\"notebook\")\n",
        "\n",
        "#Grafico\n",
        "sns.countplot(x=\"province\", data= datos)\n",
        "plt.xticks(rotation=90)\n",
        "plt.xlabel(\"Provincias\", fontsize = 15)\n",
        "plt.ylabel(\"Pasos fronterizos\", fontsize = 15)"
      ],
      "execution_count": 5,
      "outputs": [
        {
          "output_type": "display_data",
          "data": {
            "text/html": [
              "<div>\n",
              "<style scoped>\n",
              "    .dataframe tbody tr th:only-of-type {\n",
              "        vertical-align: middle;\n",
              "    }\n",
              "\n",
              "    .dataframe tbody tr th {\n",
              "        vertical-align: top;\n",
              "    }\n",
              "\n",
              "    .dataframe thead th {\n",
              "        text-align: right;\n",
              "    }\n",
              "</style>\n",
              "<table border=\"1\" class=\"dataframe\">\n",
              "  <thead>\n",
              "    <tr style=\"text-align: right;\">\n",
              "      <th></th>\n",
              "      <th>province</th>\n",
              "      <th>location</th>\n",
              "      <th>name</th>\n",
              "    </tr>\n",
              "  </thead>\n",
              "  <tbody>\n",
              "    <tr>\n",
              "      <th>0</th>\n",
              "      <td>Tierra del Fuego</td>\n",
              "      <td>[-54.832543, -68.3712885]</td>\n",
              "      <td>SAN SEBASTIAN  ( USHUAIA )</td>\n",
              "    </tr>\n",
              "    <tr>\n",
              "      <th>1</th>\n",
              "      <td>Tierra del Fuego</td>\n",
              "      <td>[-54.8249379, -68.3258626]</td>\n",
              "      <td>AERO PUBLICO DE USHUAIA</td>\n",
              "    </tr>\n",
              "    <tr>\n",
              "      <th>2</th>\n",
              "      <td>Tierra del Fuego</td>\n",
              "      <td>[-54.8096728, -68.3114748]</td>\n",
              "      <td>PUERTO USHUAIA (PREFECTURA)</td>\n",
              "    </tr>\n",
              "    <tr>\n",
              "      <th>3</th>\n",
              "      <td>Tierra del Fuego</td>\n",
              "      <td>[-54.8019121, -68.3029511]</td>\n",
              "      <td>PUERTO USHUAIA</td>\n",
              "    </tr>\n",
              "    <tr>\n",
              "      <th>4</th>\n",
              "      <td>Santa Cruz</td>\n",
              "      <td>[-51.6896359, -72.2993574]</td>\n",
              "      <td>PASO LAURITA CASAS VIEJAS</td>\n",
              "    </tr>\n",
              "  </tbody>\n",
              "</table>\n",
              "</div>"
            ],
            "text/plain": [
              "           province                    location                         name\n",
              "0  Tierra del Fuego   [-54.832543, -68.3712885]   SAN SEBASTIAN  ( USHUAIA )\n",
              "1  Tierra del Fuego  [-54.8249379, -68.3258626]      AERO PUBLICO DE USHUAIA\n",
              "2  Tierra del Fuego  [-54.8096728, -68.3114748]  PUERTO USHUAIA (PREFECTURA)\n",
              "3  Tierra del Fuego  [-54.8019121, -68.3029511]               PUERTO USHUAIA\n",
              "4        Santa Cruz  [-51.6896359, -72.2993574]    PASO LAURITA CASAS VIEJAS"
            ]
          },
          "metadata": {
            "tags": []
          }
        },
        {
          "output_type": "execute_result",
          "data": {
            "text/plain": [
              "Text(0, 0.5, 'Pasos fronterizos')"
            ]
          },
          "metadata": {
            "tags": []
          },
          "execution_count": 5
        },
        {
          "output_type": "display_data",
          "data": {
            "image/png": "[encoded data removed]",
            "text/plain": [
              "<Figure size 432x288 with 1 Axes>"
            ]
          },
          "metadata": {
            "tags": [],
            "needs_background": "light"
          }
        }
      ]
    },
    {
      "cell_type": "markdown",
      "metadata": {
        "id": "lugvLQF3GByR",
        "colab_type": "text"
      },
      "source": [
        "\n",
        "\n",
        "\n",
        "\n",
        "\n",
        "##Práctico SQLite\n"
      ]
    },
    {
      "cell_type": "markdown",
      "metadata": {
        "id": "C5-6WUJDGLEV",
        "colab_type": "text"
      },
      "source": [
        "1) Canciones de Iron Maden\n",
        "\n",
        "SELECT name FROM tracks\n",
        "WHERE albumid in (\n",
        "  \tSELECT albumid\n",
        "  \tFROM albums\n",
        "  \tWHERE artistid = (\n",
        "\t \tSELECT artistid\n",
        "\t  \tFROM artists\n",
        "\t  \tWHERE name = \"Iron Maiden\"))\n",
        "\n",
        "2) Discos con mas de 25 canciones\n",
        "\n",
        "select name, count(trackid)\n",
        "from playlists\n",
        "inner join playlist_track\n",
        "\ton playlist_track.playlistid = playlists.playlistid\n",
        "group by name\n",
        "having count(trackid) > 25\n",
        "order by count(trackid) desc\n",
        "\n",
        "3) 10 canciones mas populares\n",
        "\n",
        "select name, count(customerid)\n",
        "from tracks\n",
        "inner join invoice_items\n",
        "\ton invoice_items.trackid = tracks.trackid\n",
        "\tinner join invoices\n",
        "\t\ton invoices.invoiceid = invoice_items.invoiceid\n",
        "group by name\n",
        "order by count(customerid) desc\n",
        "limit 10"
      ]
    },
    {
      "cell_type": "markdown",
      "metadata": {
        "id": "j0iDVMYihiWu",
        "colab_type": "text"
      },
      "source": [
        "### Practico RSS\n"
      ]
    },
    {
      "cell_type": "code",
      "metadata": {
        "id": "lT_xP2fChv5r",
        "colab_type": "code",
        "colab": {
          "base_uri": "https://localhost:8080/",
          "height": 667
        },
        "outputId": "9c3f87d4-88a5-418a-dd9d-e5639e3cd10c"
      },
      "source": [
        "# %% primera celda para instalar `feedparser` en caso de no estar instalado\n",
        "if 'feedparser==5.2.1' not in sys.modules:\n",
        "    !pip install 'feedparser==5.2.1'\n",
        "\n",
        "# %% segunda celda import + feed\n",
        "import feedparser\n",
        "\n",
        "feeds = ['https://www.lavoz.com.ar/rss/tecnologia.xml']\n",
        "\n",
        "# %% Tercera parsear con feedparser + juntar los titulos en un array\n",
        "parsed = feedparser.parse(feeds[0])\n",
        "\n",
        "posts = parsed.entries\n",
        "\n",
        "titles = [p[\"title\"] for p in posts]\n",
        "titles"
      ],
      "execution_count": null,
      "outputs": [
        {
          "output_type": "stream",
          "text": [
            "Collecting feedparser==5.2.1\n",
            "\u001b[?25l  Downloading https://files.pythonhosted.org/packages/91/d8/7d37fec71ff7c9dbcdd80d2b48bcdd86d6af502156fc93846fb0102cb2c4/feedparser-5.2.1.tar.bz2 (192kB)\n",
            "\r\u001b[K     |█▊                              | 10kB 17.0MB/s eta 0:00:01\r\u001b[K     |███▍                            | 20kB 1.6MB/s eta 0:00:01\r\u001b[K     |█████▏                          | 30kB 2.2MB/s eta 0:00:01\r\u001b[K     |██████▉                         | 40kB 2.5MB/s eta 0:00:01\r\u001b[K     |████████▌                       | 51kB 1.9MB/s eta 0:00:01\r\u001b[K     |██████████▎                     | 61kB 2.2MB/s eta 0:00:01\r\u001b[K     |████████████                    | 71kB 2.5MB/s eta 0:00:01\r\u001b[K     |█████████████▋                  | 81kB 2.6MB/s eta 0:00:01\r\u001b[K     |███████████████▍                | 92kB 2.8MB/s eta 0:00:01\r\u001b[K     |█████████████████               | 102kB 2.7MB/s eta 0:00:01\r\u001b[K     |██████████████████▊             | 112kB 2.7MB/s eta 0:00:01\r\u001b[K     |████████████████████▌           | 122kB 2.7MB/s eta 0:00:01\r\u001b[K     |██████████████████████▏         | 133kB 2.7MB/s eta 0:00:01\r\u001b[K     |███████████████████████▉        | 143kB 2.7MB/s eta 0:00:01\r\u001b[K     |█████████████████████████▋      | 153kB 2.7MB/s eta 0:00:01\r\u001b[K     |███████████████████████████▎    | 163kB 2.7MB/s eta 0:00:01\r\u001b[K     |█████████████████████████████   | 174kB 2.7MB/s eta 0:00:01\r\u001b[K     |██████████████████████████████▊ | 184kB 2.7MB/s eta 0:00:01\r\u001b[K     |████████████████████████████████| 194kB 2.7MB/s \n",
            "\u001b[?25hBuilding wheels for collected packages: feedparser\n",
            "  Building wheel for feedparser (setup.py) ... \u001b[?25l\u001b[?25hdone\n",
            "  Created wheel for feedparser: filename=feedparser-5.2.1-cp36-none-any.whl size=44940 sha256=6d7c188d09f357fc7d17c94e88c7edd933a0ab089d1d1495e52458f8ca5fd03f\n",
            "  Stored in directory: /root/.cache/pip/wheels/8c/69/b7/f52763c41c5471df57703a0ef718a32a5e81ee35dcf6d4f97f\n",
            "Successfully built feedparser\n",
            "Installing collected packages: feedparser\n",
            "Successfully installed feedparser-5.2.1\n"
          ],
          "name": "stdout"
        },
        {
          "output_type": "execute_result",
          "data": {
            "text/plain": [
              "['Nuevas medidas de seguridad para Facebook Messenger: mensajes privados con autenticación biométrica',\n",
              " 'Lenovo presenta su primer smartphone gaming: Legion Phone Duel, optimizado para jugar en horizontal',\n",
              " 'Gmail verificará la identidad de las empresas con un logo para evitar correos maliciosos',\n",
              " 'Sólo Facebook sabe qué es lo más popular en su red social',\n",
              " 'Día del Amigo: las videollamadas por Whatsapp crecieron 500% este lunes',\n",
              " 'Netflix llega a la pantalla inteligente de Google, Nest Hub',\n",
              " 'Más de la mitad de la población mundial ya usa redes sociales',\n",
              " 'Hackeo a Wattpad expuso los datos de más de 271 millones de usuarios',\n",
              " 'Ransomware: un ataque de hackers afectó el sistema interno de Telecom',\n",
              " 'El nuevo altavoz inalámbrico de Sony integra un mando para escuchar la televisión en cualquier parte de la casa',\n",
              " 'Los hackers descargaron el historial de datos de 8 de las cuentas afectadas por el ataque a Twitter',\n",
              " 'Tamales, montoncito de dedos y trans: estos son los nuevos emojis que llegan a iPhone en septiembre',\n",
              " 'Día Mundial del Emoji: cuáles son sus significados según el contexto cultural',\n",
              " 'Twitter confirmó que fueron 130 las cuentas hackeadas',\n",
              " 'Zoom soluciona un fallo de seguridad en la personalización de url que permitía lanzar campañas de phishing',\n",
              " 'Ultra rápida: lanzan un sistema que carga el 33% de la batería del celu en tres minutos',\n",
              " 'La explicación de Twitter al hackeo masivo de cuentas',\n",
              " 'Hackearon las cuentas de Twitter de Obama, Biden y Gates',\n",
              " 'Facebook transmitirá videos musicales con licencia oficial a partir de agosto',\n",
              " 'Google Maps permite calibrar la ubicación del usuario con Live View',\n",
              " 'El nuevo diseño de Gmail integrará Chat, Rooms y Meet',\n",
              " 'Con el 5G aún en pañales, Samsung tiene fecha estimada para la llegada del 6G',\n",
              " 'Descubren una app de chat para Android que espía a los usuarios y roba sus datos',\n",
              " 'Venden un Súper Mario Bros de 1985 precintado por U$S 114.000 y se convierte en el juego más caro del mundo',\n",
              " 'Apple aconseja no usar protectores para tapar la webcam de los MacBook: qué alternativas propone',\n",
              " 'Un ratito más: la pulsera de Fitbit despertará a los usuarios \"en el mejor momento\"',\n",
              " '¿TikTok es divertido? El mundo lo ve como un asunto muy serio y con razón',\n",
              " 'Instagram prohibirá publicidades de \"terapias de conversión\" para personas LGTB',\n",
              " 'Microsoft toma el control de los dominios que usaban la Covid como anzuelo para estafas',\n",
              " 'Microsoft Teams: ahora los que estén en una videollamada podrán verse \"uno al lado del otro\"']"
            ]
          },
          "metadata": {
            "tags": []
          },
          "execution_count": 147
        }
      ]
    },
    {
      "cell_type": "markdown",
      "metadata": {
        "id": "fvx3070YmDM4",
        "colab_type": "text"
      },
      "source": [
        ""
      ]
    }
  ]
}